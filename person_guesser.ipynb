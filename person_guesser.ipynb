{
 "cells": [
  {
   "cell_type": "code",
   "execution_count": 1,
   "metadata": {},
   "outputs": [
    {
     "name": "stderr",
     "output_type": "stream",
     "text": [
      "c:\\Users\\phili\\Documents\\workspace\\botorch\\botorch_contrast\\.venv\\Lib\\site-packages\\tqdm\\auto.py:21: TqdmWarning: IProgress not found. Please update jupyter and ipywidgets. See https://ipywidgets.readthedocs.io/en/stable/user_install.html\n",
      "  from .autonotebook import tqdm as notebook_tqdm\n"
     ]
    }
   ],
   "source": [
    "from bolib import Parameter\n",
    "from bolib.Dimension import DiscreteDimension, NumericDimension\n",
    "from bolib.Bo import Bo\n",
    "from bolib.ComputeSpace import ComputeList, ComputeSpace\n",
    "import random\n",
    "\n",
    "from bolib.Parameter import ParamList\n"
   ]
  },
  {
   "cell_type": "code",
   "execution_count": 2,
   "metadata": {},
   "outputs": [],
   "source": [
    "\n",
    "\n",
    "\n",
    "gender      = DiscreteDimension(elements=[\"male\", \"female\", \"diverse\"] ,name = \"gender\")\n",
    "age         = NumericDimension(min=18, max=70, name=\"age\")\n",
    "height      = NumericDimension(min=160, max=190, name=\"height\")\n",
    "haircolor   = DiscreteDimension(elements=[\"blonde\", \"brown\", \"black\", \"grey\", \"red\", \"blue\", \"pink\", \"colorful\"] ,name = \"haircolor\")\n",
    "hairstyle   = DiscreteDimension(elements=[\"curly\", \"straight\"] ,name = \"hairstyle\")\n",
    "skintone    = DiscreteDimension(elements=[\"white\", \"black\", \"latino\", \"native american\", \"asian\"] ,name = \"skintone\")\n",
    "bodytype    = DiscreteDimension(elements=[\"slim\", \"athletic\", \"average\", \"curvy\"], name = \"body type\")    \n",
    "\n",
    "RANK_MAX = 5\n",
    "RANK_MIN = 1\n",
    "\n",
    "ranking = [ NumericDimension(min=1, max=5, name=\"Rating\") ]\n",
    "dimensions = [gender, age, height, haircolor, hairstyle, skintone, bodytype]\n",
    "compSpace = ComputeSpace(x = dimensions, y = ranking)\n"
   ]
  },
  {
   "cell_type": "code",
   "execution_count": 8,
   "metadata": {},
   "outputs": [
    {
     "name": "stdout",
     "output_type": "stream",
     "text": [
      "[0, 0.0, 0.0, 0, 0, 0, 0]\n"
     ]
    },
    {
     "data": {
      "text/plain": [
       "0.0"
      ]
     },
     "execution_count": 8,
     "metadata": {},
     "output_type": "execute_result"
    }
   ],
   "source": [
    "from bolib.Float01 import Float01\n",
    "\n",
    "\n",
    "optimizer = Bo(compSpace)\n",
    "\n",
    "normalized_guess = [random.random() for _ in dimensions]\n",
    "values = compSpace.denormalize(normalized_guess)\n",
    "target = ParamList([gender.new('male'), age.new(36), height.new(176), haircolor.new(\"black\"),hairstyle.new(\"straight\"), skintone.new(\"white\"),bodytype.new(\"average\")])\n",
    "min_guess = ParamList([gender.new('female'), age.new(70), height.new(160), haircolor.new(\"colorful\"),hairstyle.new(\"curly\"), skintone.new(\"black\"),bodytype.new(\"slim\")])\n",
    "\n",
    "\n",
    "\n",
    "\n",
    "def get_rating(l: ParamList):\n",
    "    p0 = 1 if l[0].value == \"male\" else 0\n",
    "    \n",
    "    p1 = 1-l[1].normalized_distance(target[1])\n",
    "    p2 = 1-l[2].normalized_distance(target[2])\n",
    "    \n",
    "    \n",
    "    p3 = 1 if l[3].value == \"black\" else 0\n",
    "    p4 = 1 if l[4].value == \"straight\" else 0\n",
    "    p5 = 1 if l[5].value == \"white\" else 0\n",
    "    p6 = 1 if l[6].value == \"average\" else 0\n",
    "    \n",
    "    ret = [p0, p1, p2, p3, p4, p5, p6]\n",
    "    print(ret)\n",
    "    return ((sum(ret)/len(ret)))*RANK_MAX\n",
    "\n",
    "#height.new(176).normalized\n",
    "\n",
    "get_rating(min_guess)\n",
    "\n"
   ]
  },
  {
   "cell_type": "code",
   "execution_count": null,
   "metadata": {},
   "outputs": [],
   "source": [
    "\n",
    "\n",
    "\n",
    "print(\"Welcome to the character guessing game.\")\n",
    "print(\"The idea is that the computer tells you a descroption of yourself and you have to indicate how accurate the description is.\")\n",
    "print(f\"You tell the computer how good the guess is.\")\n",
    "\n",
    "print(\"After some iterations, the description should fit\")\n",
    "\n",
    "print(\"\")\n",
    "print(f\"Please make a single rating on a scale from {RANK_MIN} to {RANK_MAX}, how well the description fits you\")\n",
    "print(\"\")\n",
    "print(f\"{RANK_MIN} = fits not at all\")\n",
    "print(f\"{RANK_MAX} = fits very well\")\n",
    "print(\"\")\n",
    "input(\"enter to proceed\")\n",
    "\n",
    "print(\"Great! Now let's start\")\n",
    "tries = 0\n",
    "while True:\n",
    "    print(\"Are you this person?\")\n",
    "    guess = compSpace.denormalize(normalized_guess)\n",
    "    print(guess.to_dataframe()[['name', \"value\"]])\n",
    "    \n",
    "    \"\"\"\n",
    "    feedback = 0\n",
    "    try:\n",
    "        feedback = float(input(f\"Enter rating [{RANK_MIN} = fits not at all, {RANK_MAX} = fits very well]: \"))        \n",
    "    except:\n",
    "        break\n",
    "    \"\"\"\n",
    "    rating = round(get_rating(guess))\n",
    "    print(f\"rating: {rating}\")\n",
    "    compSpace.add_value(guess, rating)\n",
    "    \n",
    "    normalized_guess = optimizer.infer()        \n",
    "    \n",
    "    if rating == RANK_MAX:\n",
    "        print(f\"Great! I guessed it in {tries} tries!\")\n",
    "        break        \n",
    "    \n",
    "    print(\"\\n\")\n",
    "    input(\"next?\")\n",
    "\n",
    "\n",
    "    tries += 1"
   ]
  }
 ],
 "metadata": {
  "kernelspec": {
   "display_name": ".venv",
   "language": "python",
   "name": "python3"
  },
  "language_info": {
   "codemirror_mode": {
    "name": "ipython",
    "version": 3
   },
   "file_extension": ".py",
   "mimetype": "text/x-python",
   "name": "python",
   "nbconvert_exporter": "python",
   "pygments_lexer": "ipython3",
   "version": "3.11.5"
  }
 },
 "nbformat": 4,
 "nbformat_minor": 2
}
