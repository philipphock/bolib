{
 "cells": [
  {
   "cell_type": "code",
   "execution_count": 1,
   "metadata": {},
   "outputs": [
    {
     "name": "stderr",
     "output_type": "stream",
     "text": [
      "c:\\Users\\phili\\Documents\\workspace\\botorch\\botorch_contrast\\.venv\\Lib\\site-packages\\tqdm\\auto.py:21: TqdmWarning: IProgress not found. Please update jupyter and ipywidgets. See https://ipywidgets.readthedocs.io/en/stable/user_install.html\n",
      "  from .autonotebook import tqdm as notebook_tqdm\n"
     ]
    }
   ],
   "source": [
    "from bolib import Parameter\n",
    "from bolib.Dimension import DiscreteDimension, NumericDimension\n",
    "from bolib.Bo import Bo\n",
    "from bolib.ComputeSpace import ComputeList, ComputeSpace\n",
    "import random\n",
    "\n",
    "from bolib.Parameter import ParamList\n"
   ]
  },
  {
   "cell_type": "code",
   "execution_count": 2,
   "metadata": {},
   "outputs": [],
   "source": [
    "\n",
    "\n",
    "\n",
    "gender      = DiscreteDimension(elements=[\"male\", \"female\", \"diverse\"] ,name = \"gender\")\n",
    "age         = NumericDimension(min=18, max=70, name=\"age\")\n",
    "height      = NumericDimension(min=160, max=190, name=\"height\")\n",
    "haircolor   = DiscreteDimension(elements=[\"blonde\", \"brown\", \"black\", \"grey\", \"red\", \"blue\", \"pink\", \"colorful\"] ,name = \"haircolor\")\n",
    "hairstyle   = DiscreteDimension(elements=[\"curly\", \"straight\"] ,name = \"hairstyle\")\n",
    "skintone    = DiscreteDimension(elements=[\"white\", \"black\", \"latino\", \"native american\", \"asian\"] ,name = \"skintone\")\n",
    "bodytype    = DiscreteDimension(elements=[\"slim\", \"athletic\", \"average\", \"curvy\"], name = \"body type\")    \n",
    "\n",
    "RANK_MAX = 5\n",
    "RANK_MIN = 1\n",
    "\n",
    "ranking = [ NumericDimension(min=1, max=5, name=\"Rating\") ]\n",
    "dimensions = [gender, age, height, haircolor, hairstyle, skintone, bodytype]\n",
    "compSpace = ComputeSpace(x = dimensions, y = ranking)\n"
   ]
  },
  {
   "cell_type": "code",
   "execution_count": 3,
   "metadata": {},
   "outputs": [
    {
     "data": {
      "text/plain": [
       "0.5358348227761129"
      ]
     },
     "execution_count": 3,
     "metadata": {},
     "output_type": "execute_result"
    }
   ],
   "source": [
    "from bolib.Float01 import Float01\n",
    "\n",
    "\n",
    "optimizer = Bo(compSpace)\n",
    "\n",
    "normalized_guess = [random.random() for _ in dimensions]\n",
    "values = compSpace.denormalize(normalized_guess)\n",
    "target = ParamList([gender.new('male'), age.new(36), height.new(176), haircolor.new(\"black\"),hairstyle.new(\"straight\"), skintone.new(\"white\"),bodytype.new(\"average\")])\n",
    "min_guess = ParamList([gender.new('female'), age.new(70), height.new(160), haircolor.new(\"colorful\"),hairstyle.new(\"curly\"), skintone.new(\"black\"),bodytype.new(\"slim\")])\n",
    "\n",
    "\n",
    "\n",
    "\n",
    "def get_rating(l: ParamList):\n",
    "    p0 = 1 if l[0].value == \"male\" else 0\n",
    "    \n",
    "    p1 = 1-l[1].normalized_distance(target[1])\n",
    "    p2 = 1-l[2].normalized_distance(target[2])\n",
    "    \n",
    "    \n",
    "    p3 = 1 if l[3].value == \"black\" else 0\n",
    "    p4 = 1 if l[4].value == \"straight\" else 0\n",
    "    p5 = 1 if l[5].value == \"white\" else 0\n",
    "    p6 = 1 if l[6].value == \"average\" else 0\n",
    "    \n",
    "    ret = [p0, p1, p2, p3, p4, p5, p6]\n",
    "    summ = sum(ret)/len(ret)\n",
    "    return ranking[0].denorm(summ)\n",
    "\n",
    "     \n",
    "\n",
    "#height.new(176).normalized\n",
    "r = get_rating(values)\n",
    "r.normalized\n",
    "\n",
    "\n",
    "\n"
   ]
  },
  {
   "cell_type": "code",
   "execution_count": 5,
   "metadata": {},
   "outputs": [
    {
     "name": "stdout",
     "output_type": "stream",
     "text": [
      "Welcome to the character guessing game.\n",
      "The idea is that the computer tells you a descroption of yourself and you have to indicate how accurate the description is.\n",
      "You tell the computer how good the guess is.\n",
      "After some iterations, the description should fit\n",
      "\n",
      "Please make a single rating on a scale from 1 to 5, how well the description fits you\n",
      "\n",
      "1 = fits not at all\n",
      "5 = fits very well\n",
      "\n",
      "Great! Now let's start\n",
      "rating:      name     value   space  normalized\n",
      "0  Rating  3.713499  (1, 5)    0.678375\n",
      "1\n",
      "\n",
      "\n",
      "rating:      name     value   space  normalized\n",
      "0  Rating  2.197313  (1, 5)    0.299328\n",
      "2\n",
      "\n",
      "\n",
      "rating:      name     value   space  normalized\n",
      "0  Rating  2.957365  (1, 5)    0.489341\n",
      "3\n",
      "\n",
      "\n",
      "rating:      name     value   space  normalized\n",
      "0  Rating  2.968555  (1, 5)    0.492139\n",
      "4\n",
      "\n",
      "\n",
      "rating:      name    value   space  normalized\n",
      "0  Rating  3.14428  (1, 5)     0.53607\n",
      "5\n",
      "\n",
      "\n",
      "rating:      name     value   space  normalized\n",
      "0  Rating  3.135461  (1, 5)    0.533865\n",
      "6\n",
      "\n",
      "\n",
      "rating:      name     value   space  normalized\n",
      "0  Rating  3.349552  (1, 5)    0.587388\n",
      "7\n",
      "\n",
      "\n",
      "rating:      name     value   space  normalized\n",
      "0  Rating  3.591167  (1, 5)    0.647792\n",
      "8\n",
      "\n",
      "\n",
      "rating:      name     value   space  normalized\n",
      "0  Rating  3.689021  (1, 5)    0.672255\n",
      "9\n",
      "\n",
      "\n",
      "rating:      name     value   space  normalized\n",
      "0  Rating  3.839928  (1, 5)    0.709982\n",
      "10\n",
      "\n",
      "\n",
      "        name      value                                                    space  normalized\n",
      "0     gender     female                                  [male, female, diverse]    0.333333\n",
      "1        age   35.39313                                                 (18, 70)    0.334483\n",
      "2     height  176.19644                                               (160, 190)    0.539881\n",
      "3  haircolor      black  [blonde, brown, black, grey, red, blue, pink, colorful]    0.250000\n",
      "4  hairstyle   straight                                        [curly, straight]    0.500000\n",
      "5   skintone      asian           [white, black, latino, native american, asian]    0.800000\n",
      "6  body type    average                         [slim, athletic, average, curvy]    0.500000\n"
     ]
    }
   ],
   "source": [
    "\n",
    "\n",
    "\n",
    "print(\"Welcome to the character guessing game.\")\n",
    "print(\"The idea is that the computer tells you a descroption of yourself and you have to indicate how accurate the description is.\")\n",
    "print(f\"You tell the computer how good the guess is.\")\n",
    "\n",
    "print(\"After some iterations, the description should fit\")\n",
    "\n",
    "print(\"\")\n",
    "print(f\"Please make a single rating on a scale from {RANK_MIN} to {RANK_MAX}, how well the description fits you\")\n",
    "print(\"\")\n",
    "print(f\"{RANK_MIN} = fits not at all\")\n",
    "print(f\"{RANK_MAX} = fits very well\")\n",
    "print(\"\")\n",
    "\n",
    "#input(\"enter to proceed\")\n",
    "\n",
    "print(\"Great! Now let's start\")\n",
    "tries = 0\n",
    "for i in range(20):\n",
    "    #print(\"Are you this person?\")\n",
    "    guess = compSpace.denormalize(normalized_guess)\n",
    "    ##print(guess.to_dataframe()[['name', \"value\"]])\n",
    "    \n",
    "    \"\"\"\n",
    "    feedback = 0\n",
    "    try:\n",
    "        feedback = float(input(f\"Enter rating [{RANK_MIN} = fits not at all, {RANK_MAX} = fits very well]: \"))        \n",
    "    except:\n",
    "        break\n",
    "    \"\"\"\n",
    "    rating = get_rating(guess)\n",
    "    print(f\"rating: {rating}\")\n",
    "    \n",
    "    \n",
    "    compSpace.add_value(guess, rating.value)\n",
    "    print(len(compSpace._x_data))\n",
    "    normalized_guess = optimizer.infer()        \n",
    "    \n",
    "    if rating.value == RANK_MAX:\n",
    "        print(f\"Great! I guessed it in {tries} tries!\")\n",
    "        break        \n",
    "    \n",
    "    print(\"\\n\")\n",
    "    #input(\"next?\")\n",
    "    \n",
    "\n",
    "    tries += 1\n",
    "compSpace.clear_data()\n"
   ]
  },
  {
   "cell_type": "code",
   "execution_count": 6,
   "metadata": {},
   "outputs": [
    {
     "name": "stdout",
     "output_type": "stream",
     "text": [
      "        name      value                                                    space  normalized\n",
      "0     gender     female                                  [male, female, diverse]    0.333333\n",
      "1        age   35.39313                                                 (18, 70)    0.334483\n",
      "2     height  176.19644                                               (160, 190)    0.539881\n",
      "3  haircolor      black  [blonde, brown, black, grey, red, blue, pink, colorful]    0.250000\n",
      "4  hairstyle   straight                                        [curly, straight]    0.500000\n",
      "5   skintone      asian           [white, black, latino, native american, asian]    0.800000\n",
      "6  body type    average                         [slim, athletic, average, curvy]    0.500000\n"
     ]
    }
   ],
   "source": [
    "print(guess)"
   ]
  }
 ],
 "metadata": {
  "kernelspec": {
   "display_name": ".venv",
   "language": "python",
   "name": "python3"
  },
  "language_info": {
   "codemirror_mode": {
    "name": "ipython",
    "version": 3
   },
   "file_extension": ".py",
   "mimetype": "text/x-python",
   "name": "python",
   "nbconvert_exporter": "python",
   "pygments_lexer": "ipython3",
   "version": "3.11.5"
  }
 },
 "nbformat": 4,
 "nbformat_minor": 2
}
