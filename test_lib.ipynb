{
 "cells": [
  {
   "cell_type": "code",
   "execution_count": 43,
   "metadata": {},
   "outputs": [],
   "source": [
    "import random\n",
    "from bolib.Bo import Bo\n",
    "from bolib.Dimension import NumericDimension\n",
    "from bolib.ComputeSpace import ComputeSpace\n",
    "from bolib.Normalizer import OptimizeFor\n",
    "\n"
   ]
  },
  {
   "cell_type": "code",
   "execution_count": 21,
   "metadata": {},
   "outputs": [],
   "source": [
    "TARGET = [35, 2]"
   ]
  },
  {
   "cell_type": "code",
   "execution_count": 28,
   "metadata": {},
   "outputs": [],
   "source": [
    "\n",
    "def getSample():\n",
    "    return [random.randint(0, 100), random.randint(0, 3)]\n",
    "\n",
    "def getRating(v, target):\n",
    "    v0 = abs(v[0] - target[0])/100\n",
    "    v1 = abs(v[1]-target[1])/3\n",
    "    return [((v0+v1)/2)*10]\n"
   ]
  },
  {
   "cell_type": "code",
   "execution_count": 46,
   "metadata": {},
   "outputs": [
    {
     "name": "stdout",
     "output_type": "stream",
     "text": [
      "[([17, 0], [4.233333333333333]), ([39, 3], [1.8666666666666665]), ([16, 2], [0.95]), ([23, 1], [2.2666666666666666]), ([50, 2], [0.75]), ([46, 1], [2.2166666666666663]), ([57, 1], [2.7666666666666666]), ([49, 2], [0.7000000000000001]), ([46, 2], [0.55]), ([64, 2], [1.45]), ([59, 1], [2.8666666666666663]), ([89, 3], [4.366666666666666]), ([60, 1], [2.916666666666666]), ([72, 3], [3.5166666666666666]), ([98, 1], [4.816666666666666]), ([80, 3], [3.9166666666666665]), ([13, 0], [4.433333333333333]), ([64, 1], [3.1166666666666663]), ([26, 3], [2.1166666666666667]), ([80, 2], [2.25])]\n"
     ]
    }
   ],
   "source": [
    "x = []\n",
    "y = []\n",
    "for i in range(20):\n",
    "    s = getSample()  \n",
    "    r = getRating(s, TARGET)\n",
    "    x.append(s)\n",
    "    y.append(r)\n",
    "\n",
    "z = list(zip(x, y))\n",
    "print(z)\n",
    "\n"
   ]
  },
  {
   "cell_type": "code",
   "execution_count": 47,
   "metadata": {},
   "outputs": [
    {
     "name": "stdout",
     "output_type": "stream",
     "text": [
      "[6.583333333333333]\n",
      "[0.0]\n",
      "[0.15]\n"
     ]
    }
   ],
   "source": [
    "s0 = [100, 0]\n",
    "s1 = TARGET\n",
    "s2 = [TARGET[0] - 3, TARGET[1]]\n",
    "\n",
    "print(getRating(s0, TARGET))\n",
    "print(getRating(s1, TARGET))\n",
    "print(getRating(s2, TARGET))"
   ]
  },
  {
   "cell_type": "code",
   "execution_count": 48,
   "metadata": {},
   "outputs": [
    {
     "name": "stderr",
     "output_type": "stream",
     "text": [
      "c:\\Users\\phili\\Documents\\workspace\\botorch\\botorch_contrast\\.venv\\Lib\\site-packages\\botorch\\models\\gpytorch.py:129: UserWarning: The model inputs are of type torch.float32. It is strongly recommended to use double precision in BoTorch, as this improves both precision and stability and can help avoid numerical errors. See https://github.com/pytorch/botorch/discussions/1444\n",
      "  warnings.warn(_get_single_precision_warning(X.dtype), UserWarning)\n"
     ]
    },
    {
     "name": "stdout",
     "output_type": "stream",
     "text": [
      "[0.3463698625564575, 0.678795576095581]\n",
      "  name      value  min  max  normalized\n",
      "0   p0  34.636986    0  100     0.34637\n",
      "\n",
      "  name     value  min  max  normalized\n",
      "0   p1  2.036387    0    3    0.678796\n"
     ]
    }
   ],
   "source": [
    "\n",
    "\n",
    "x0 = NumericDimension(min=0, max=100, name=\"p0\")\n",
    "x1 = NumericDimension(min=0, max=3, name=\"p1\")\n",
    "ranking_y = NumericDimension(min=0, max=10, name=\"Ranking\", optimize_for=OptimizeFor.MIN)\n",
    "\n",
    "compSpace = ComputeSpace([x0, x1], [ranking_y])\n",
    "\n",
    "compSpace.add_floats(xs = x, ys=y)    \n",
    "bo = Bo(compSpace)\n",
    "inf = bo.infer()\n",
    "denorm = compSpace.denormalize(inf)\n",
    "\n",
    "print(inf)\n",
    "print(denorm)"
   ]
  }
 ],
 "metadata": {
  "kernelspec": {
   "display_name": ".venv",
   "language": "python",
   "name": "python3"
  },
  "language_info": {
   "codemirror_mode": {
    "name": "ipython",
    "version": 3
   },
   "file_extension": ".py",
   "mimetype": "text/x-python",
   "name": "python",
   "nbconvert_exporter": "python",
   "pygments_lexer": "ipython3",
   "version": "3.11.5"
  }
 },
 "nbformat": 4,
 "nbformat_minor": 2
}
