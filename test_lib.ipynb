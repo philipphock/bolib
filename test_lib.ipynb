{
 "cells": [
  {
   "cell_type": "code",
   "execution_count": 37,
   "metadata": {},
   "outputs": [],
   "source": [
    "import random\n",
    "from bolib.Bo import Bo\n",
    "from bolib.Dimension import NumericDimension\n",
    "from bolib.ComputeSpace import ComputeSpace\n",
    "from bolib.Normalizer import OptimizeFor\n",
    "\n"
   ]
  },
  {
   "cell_type": "code",
   "execution_count": 38,
   "metadata": {},
   "outputs": [],
   "source": [
    "TARGET = [35, 2]"
   ]
  },
  {
   "cell_type": "code",
   "execution_count": 39,
   "metadata": {},
   "outputs": [],
   "source": [
    "\n",
    "def getSample():\n",
    "    return [random.randint(0, 100), random.randint(0, 3)]\n",
    "\n",
    "def getRating(v, target):\n",
    "    v0 = abs(v[0] - target[0])/100\n",
    "    v1 = abs(v[1]-target[1])/3\n",
    "    return [((v0+v1)/2)*10]\n"
   ]
  },
  {
   "cell_type": "code",
   "execution_count": 40,
   "metadata": {},
   "outputs": [
    {
     "name": "stdout",
     "output_type": "stream",
     "text": [
      "[([99, 0], [6.533333333333333]), ([70, 1], [3.416666666666667]), ([81, 1], [3.966666666666667]), ([58, 2], [1.1500000000000001]), ([32, 1], [1.8166666666666664]), ([30, 3], [1.9166666666666665]), ([31, 1], [1.8666666666666665]), ([0, 0], [5.083333333333333]), ([88, 2], [2.6500000000000004]), ([18, 2], [0.8500000000000001]), ([9, 1], [2.9666666666666663]), ([22, 1], [2.3166666666666664]), ([57, 0], [4.433333333333333]), ([2, 0], [4.9833333333333325]), ([39, 3], [1.8666666666666665]), ([90, 3], [4.416666666666666]), ([26, 1], [2.1166666666666667]), ([59, 2], [1.2]), ([87, 2], [2.6]), ([71, 3], [3.466666666666667])]\n"
     ]
    }
   ],
   "source": [
    "x = []\n",
    "y = []\n",
    "for i in range(20):\n",
    "    s = getSample()  \n",
    "    r = getRating(s, TARGET)\n",
    "    x.append(s)\n",
    "    y.append(r)\n",
    "\n",
    "z = list(zip(x, y))\n",
    "print(z)\n",
    "\n"
   ]
  },
  {
   "cell_type": "code",
   "execution_count": 41,
   "metadata": {},
   "outputs": [
    {
     "name": "stdout",
     "output_type": "stream",
     "text": [
      "[6.583333333333333]\n",
      "[0.0]\n",
      "[0.15]\n"
     ]
    }
   ],
   "source": [
    "s0 = [100, 0]\n",
    "s1 = TARGET\n",
    "s2 = [TARGET[0] - 3, TARGET[1]]\n",
    "\n",
    "print(getRating(s0, TARGET))\n",
    "print(getRating(s1, TARGET))\n",
    "print(getRating(s2, TARGET))"
   ]
  },
  {
   "cell_type": "code",
   "execution_count": 42,
   "metadata": {},
   "outputs": [
    {
     "name": "stdout",
     "output_type": "stream",
     "text": [
      "  name      value     space  normalized\n",
      "0   p0  35.071933  (0, 100)    0.350719\n",
      "\n",
      "  name     value   space  normalized\n",
      "0   p1  1.981327  (0, 3)    0.660442\n",
      "35.07193326950073 1.9813265204429626\n"
     ]
    }
   ],
   "source": [
    "\n",
    "\n",
    "x0 = NumericDimension(min=0, max=100, name=\"p0\")\n",
    "x1 = NumericDimension(min=0, max=3, name=\"p1\")\n",
    "ranking_y = NumericDimension(min=0, max=10, name=\"Ranking\", optimize_for=OptimizeFor.MIN)\n",
    "\n",
    "compSpace = ComputeSpace([x0, x1], [ranking_y])\n",
    "\n",
    "compSpace.add_values(xs = x, ys=y)    \n",
    "bo = Bo(compSpace)\n",
    "inf = bo.infer()\n",
    "denorm = compSpace.denormalize(inf)\n",
    "\n",
    "print(denorm)\n",
    "print(denorm[0].value, denorm[1].value)"
   ]
  }
 ],
 "metadata": {
  "kernelspec": {
   "display_name": ".venv",
   "language": "python",
   "name": "python3"
  },
  "language_info": {
   "codemirror_mode": {
    "name": "ipython",
    "version": 3
   },
   "file_extension": ".py",
   "mimetype": "text/x-python",
   "name": "python",
   "nbconvert_exporter": "python",
   "pygments_lexer": "ipython3",
   "version": "3.10.9"
  }
 },
 "nbformat": 4,
 "nbformat_minor": 2
}
