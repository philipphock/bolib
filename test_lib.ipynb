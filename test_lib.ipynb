{
 "cells": [
  {
   "cell_type": "code",
   "execution_count": 1,
   "metadata": {},
   "outputs": [
    {
     "name": "stderr",
     "output_type": "stream",
     "text": [
      "m:\\workspace\\bo\\botorch_contrast\\.venv\\lib\\site-packages\\tqdm\\auto.py:21: TqdmWarning: IProgress not found. Please update jupyter and ipywidgets. See https://ipywidgets.readthedocs.io/en/stable/user_install.html\n",
      "  from .autonotebook import tqdm as notebook_tqdm\n"
     ]
    }
   ],
   "source": [
    "import random\n",
    "from bolib.Bo import Bo\n",
    "from bolib.Dimension import NumericDimension\n",
    "from bolib.ComputeSpace import ComputeSpace\n",
    "from bolib.Normalizer import OptimizeFor\n",
    "\n"
   ]
  },
  {
   "cell_type": "code",
   "execution_count": 2,
   "metadata": {},
   "outputs": [],
   "source": [
    "TARGET = [35, 2]"
   ]
  },
  {
   "cell_type": "code",
   "execution_count": 3,
   "metadata": {},
   "outputs": [],
   "source": [
    "\n",
    "def getSample():\n",
    "    return [random.randint(0, 100), random.randint(0, 3)]\n",
    "\n",
    "def getRating(v, target):\n",
    "    v0 = abs(v[0] - target[0])/100\n",
    "    v1 = abs(v[1]-target[1])/3\n",
    "    return [((v0+v1)/2)*10]\n"
   ]
  },
  {
   "cell_type": "code",
   "execution_count": 4,
   "metadata": {},
   "outputs": [
    {
     "name": "stdout",
     "output_type": "stream",
     "text": [
      "[([39, 1], [1.8666666666666665]), ([75, 0], [5.333333333333333]), ([53, 0], [4.233333333333333]), ([22, 2], [0.65]), ([91, 2], [2.8000000000000003]), ([69, 2], [1.7000000000000002]), ([26, 0], [3.783333333333333]), ([90, 2], [2.75]), ([10, 3], [2.916666666666666]), ([60, 3], [2.916666666666666]), ([91, 0], [6.133333333333333]), ([26, 1], [2.1166666666666667]), ([63, 0], [4.733333333333333]), ([74, 3], [3.616666666666667]), ([44, 2], [0.44999999999999996]), ([7, 2], [1.4000000000000001]), ([29, 0], [3.633333333333333]), ([59, 2], [1.2]), ([6, 3], [3.1166666666666663]), ([83, 3], [4.066666666666666])]\n"
     ]
    }
   ],
   "source": [
    "x = []\n",
    "y = []\n",
    "for i in range(20):\n",
    "    s = getSample()  \n",
    "    r = getRating(s, TARGET)\n",
    "    x.append(s)\n",
    "    y.append(r)\n",
    "\n",
    "z = list(zip(x, y))\n",
    "print(z)\n",
    "\n"
   ]
  },
  {
   "cell_type": "code",
   "execution_count": 5,
   "metadata": {},
   "outputs": [
    {
     "name": "stdout",
     "output_type": "stream",
     "text": [
      "[6.583333333333333]\n",
      "[0.0]\n",
      "[0.15]\n"
     ]
    }
   ],
   "source": [
    "s0 = [100, 0]\n",
    "s1 = TARGET\n",
    "s2 = [TARGET[0] - 3, TARGET[1]]\n",
    "\n",
    "print(getRating(s0, TARGET))\n",
    "print(getRating(s1, TARGET))\n",
    "print(getRating(s2, TARGET))"
   ]
  },
  {
   "cell_type": "code",
   "execution_count": 6,
   "metadata": {},
   "outputs": [
    {
     "name": "stdout",
     "output_type": "stream",
     "text": [
      "0 <bolib.Dimension.NumericDimension object at 0x000001EA2A5536A0>\n",
      "1 <bolib.Dimension.NumericDimension object at 0x000001EA2A552260>\n",
      "0 <bolib.Dimension.NumericDimension object at 0x000001EA2A5536A0>\n",
      "1 <bolib.Dimension.NumericDimension object at 0x000001EA2A552260>\n",
      "0 <bolib.Dimension.NumericDimension object at 0x000001EA2A5536A0>\n",
      "1 <bolib.Dimension.NumericDimension object at 0x000001EA2A552260>\n",
      "0 <bolib.Dimension.NumericDimension object at 0x000001EA2A5536A0>\n",
      "1 <bolib.Dimension.NumericDimension object at 0x000001EA2A552260>\n",
      "0 <bolib.Dimension.NumericDimension object at 0x000001EA2A5536A0>\n",
      "1 <bolib.Dimension.NumericDimension object at 0x000001EA2A552260>\n",
      "0 <bolib.Dimension.NumericDimension object at 0x000001EA2A5536A0>\n",
      "1 <bolib.Dimension.NumericDimension object at 0x000001EA2A552260>\n",
      "0 <bolib.Dimension.NumericDimension object at 0x000001EA2A5536A0>\n",
      "1 <bolib.Dimension.NumericDimension object at 0x000001EA2A552260>\n",
      "0 <bolib.Dimension.NumericDimension object at 0x000001EA2A5536A0>\n",
      "1 <bolib.Dimension.NumericDimension object at 0x000001EA2A552260>\n",
      "0 <bolib.Dimension.NumericDimension object at 0x000001EA2A5536A0>\n",
      "1 <bolib.Dimension.NumericDimension object at 0x000001EA2A552260>\n",
      "0 <bolib.Dimension.NumericDimension object at 0x000001EA2A5536A0>\n",
      "1 <bolib.Dimension.NumericDimension object at 0x000001EA2A552260>\n",
      "0 <bolib.Dimension.NumericDimension object at 0x000001EA2A5536A0>\n",
      "1 <bolib.Dimension.NumericDimension object at 0x000001EA2A552260>\n",
      "0 <bolib.Dimension.NumericDimension object at 0x000001EA2A5536A0>\n",
      "1 <bolib.Dimension.NumericDimension object at 0x000001EA2A552260>\n",
      "0 <bolib.Dimension.NumericDimension object at 0x000001EA2A5536A0>\n",
      "1 <bolib.Dimension.NumericDimension object at 0x000001EA2A552260>\n",
      "0 <bolib.Dimension.NumericDimension object at 0x000001EA2A5536A0>\n",
      "1 <bolib.Dimension.NumericDimension object at 0x000001EA2A552260>\n",
      "0 <bolib.Dimension.NumericDimension object at 0x000001EA2A5536A0>\n",
      "1 <bolib.Dimension.NumericDimension object at 0x000001EA2A552260>\n",
      "0 <bolib.Dimension.NumericDimension object at 0x000001EA2A5536A0>\n",
      "1 <bolib.Dimension.NumericDimension object at 0x000001EA2A552260>\n",
      "0 <bolib.Dimension.NumericDimension object at 0x000001EA2A5536A0>\n",
      "1 <bolib.Dimension.NumericDimension object at 0x000001EA2A552260>\n",
      "0 <bolib.Dimension.NumericDimension object at 0x000001EA2A5536A0>\n",
      "1 <bolib.Dimension.NumericDimension object at 0x000001EA2A552260>\n",
      "0 <bolib.Dimension.NumericDimension object at 0x000001EA2A5536A0>\n",
      "1 <bolib.Dimension.NumericDimension object at 0x000001EA2A552260>\n",
      "0 <bolib.Dimension.NumericDimension object at 0x000001EA2A5536A0>\n",
      "1 <bolib.Dimension.NumericDimension object at 0x000001EA2A552260>\n",
      "0 <bolib.Dimension.NumericDimension object at 0x000001EA2A553640>\n",
      "0 <bolib.Dimension.NumericDimension object at 0x000001EA2A553640>\n",
      "0 <bolib.Dimension.NumericDimension object at 0x000001EA2A553640>\n",
      "0 <bolib.Dimension.NumericDimension object at 0x000001EA2A553640>\n",
      "0 <bolib.Dimension.NumericDimension object at 0x000001EA2A553640>\n",
      "0 <bolib.Dimension.NumericDimension object at 0x000001EA2A553640>\n",
      "0 <bolib.Dimension.NumericDimension object at 0x000001EA2A553640>\n",
      "0 <bolib.Dimension.NumericDimension object at 0x000001EA2A553640>\n",
      "0 <bolib.Dimension.NumericDimension object at 0x000001EA2A553640>\n",
      "0 <bolib.Dimension.NumericDimension object at 0x000001EA2A553640>\n",
      "0 <bolib.Dimension.NumericDimension object at 0x000001EA2A553640>\n",
      "0 <bolib.Dimension.NumericDimension object at 0x000001EA2A553640>\n",
      "0 <bolib.Dimension.NumericDimension object at 0x000001EA2A553640>\n",
      "0 <bolib.Dimension.NumericDimension object at 0x000001EA2A553640>\n",
      "0 <bolib.Dimension.NumericDimension object at 0x000001EA2A553640>\n",
      "0 <bolib.Dimension.NumericDimension object at 0x000001EA2A553640>\n",
      "0 <bolib.Dimension.NumericDimension object at 0x000001EA2A553640>\n",
      "0 <bolib.Dimension.NumericDimension object at 0x000001EA2A553640>\n",
      "0 <bolib.Dimension.NumericDimension object at 0x000001EA2A553640>\n",
      "0 <bolib.Dimension.NumericDimension object at 0x000001EA2A553640>\n",
      "  name      value     space  normalized\n",
      "0   p0  35.826689  (0, 100)    0.358267\n",
      "\n",
      "  name    value   space  normalized\n",
      "0   p1  1.96424  (0, 3)    0.654747\n",
      "35.82668900489807 1.964239776134491\n"
     ]
    }
   ],
   "source": [
    "\n",
    "\n",
    "x0 = NumericDimension(min=0, max=100, name=\"p0\")\n",
    "x1 = NumericDimension(min=0, max=3, name=\"p1\")\n",
    "ranking_y = NumericDimension(min=0, max=10, name=\"Ranking\", optimize_for=OptimizeFor.MIN)\n",
    "\n",
    "compSpace = ComputeSpace([x0, x1], [ranking_y])\n",
    "\n",
    "compSpace.add_values(xs = x, ys=y)    \n",
    "bo = Bo(compSpace)\n",
    "inf = bo.infer()\n",
    "denorm = compSpace.denormalize(inf)\n",
    "\n",
    "print(denorm)\n",
    "print(denorm[0].value, denorm[1].value)"
   ]
  }
 ],
 "metadata": {
  "kernelspec": {
   "display_name": ".venv",
   "language": "python",
   "name": "python3"
  },
  "language_info": {
   "codemirror_mode": {
    "name": "ipython",
    "version": 3
   },
   "file_extension": ".py",
   "mimetype": "text/x-python",
   "name": "python",
   "nbconvert_exporter": "python",
   "pygments_lexer": "ipython3",
   "version": "3.10.9"
  }
 },
 "nbformat": 4,
 "nbformat_minor": 2
}
