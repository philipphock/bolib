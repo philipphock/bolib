{
 "cells": [
  {
   "cell_type": "code",
   "execution_count": 1,
   "metadata": {},
   "outputs": [
    {
     "name": "stderr",
     "output_type": "stream",
     "text": [
      "c:\\Users\\phili\\Documents\\workspace\\botorch\\botorch_contrast\\.venv\\Lib\\site-packages\\tqdm\\auto.py:21: TqdmWarning: IProgress not found. Please update jupyter and ipywidgets. See https://ipywidgets.readthedocs.io/en/stable/user_install.html\n",
      "  from .autonotebook import tqdm as notebook_tqdm\n"
     ]
    }
   ],
   "source": [
    "import random\n",
    "from bolib.Bo import Bo\n",
    "from bolib.Dimension import NumericDimension\n",
    "from bolib.ComputeSpace import ComputeSpace\n",
    "from bolib.Normalizer import OptimizeFor\n",
    "\n"
   ]
  },
  {
   "cell_type": "code",
   "execution_count": 2,
   "metadata": {},
   "outputs": [],
   "source": [
    "TARGET = [35, 2]"
   ]
  },
  {
   "cell_type": "code",
   "execution_count": 3,
   "metadata": {},
   "outputs": [],
   "source": [
    "\n",
    "def getSample():\n",
    "    return [random.randint(0, 100), random.randint(0, 3)]\n",
    "\n",
    "def getRating(v, target):\n",
    "    v0 = abs(v[0] - target[0])/100\n",
    "    v1 = abs(v[1]-target[1])/3\n",
    "    return [((v0+v1)/2)*10]\n"
   ]
  },
  {
   "cell_type": "code",
   "execution_count": 4,
   "metadata": {},
   "outputs": [
    {
     "name": "stdout",
     "output_type": "stream",
     "text": [
      "[([37, 0], [3.433333333333333]), ([39, 0], [3.533333333333333]), ([16, 3], [2.6166666666666667]), ([96, 2], [3.05]), ([85, 3], [4.166666666666666]), ([51, 0], [4.133333333333333]), ([91, 0], [6.133333333333333]), ([97, 3], [4.766666666666667]), ([75, 1], [3.666666666666667]), ([68, 2], [1.6500000000000001]), ([6, 0], [4.783333333333333]), ([76, 0], [5.383333333333333]), ([99, 0], [6.533333333333333]), ([89, 2], [2.7]), ([89, 3], [4.366666666666666]), ([18, 0], [4.183333333333334]), ([27, 3], [2.0666666666666664]), ([8, 2], [1.35]), ([69, 0], [5.033333333333333]), ([45, 1], [2.166666666666667])]\n"
     ]
    }
   ],
   "source": [
    "x = []\n",
    "y = []\n",
    "for i in range(20):\n",
    "    s = getSample()  \n",
    "    r = getRating(s, TARGET)\n",
    "    x.append(s)\n",
    "    y.append(r)\n",
    "\n",
    "z = list(zip(x, y))\n",
    "print(z)\n",
    "\n"
   ]
  },
  {
   "cell_type": "code",
   "execution_count": 5,
   "metadata": {},
   "outputs": [
    {
     "name": "stdout",
     "output_type": "stream",
     "text": [
      "[6.583333333333333]\n",
      "[0.0]\n",
      "[0.15]\n"
     ]
    }
   ],
   "source": [
    "s0 = [100, 0]\n",
    "s1 = TARGET\n",
    "s2 = [TARGET[0] - 3, TARGET[1]]\n",
    "\n",
    "print(getRating(s0, TARGET))\n",
    "print(getRating(s1, TARGET))\n",
    "print(getRating(s2, TARGET))"
   ]
  },
  {
   "cell_type": "code",
   "execution_count": 8,
   "metadata": {},
   "outputs": [
    {
     "name": "stdout",
     "output_type": "stream",
     "text": [
      "  name      value  min  max  normalized\n",
      "0   p0  34.406167    0  100    0.344062\n",
      "\n",
      "  name     value  min  max  normalized\n",
      "0   p1  2.029944    0    3    0.676648\n",
      "34.40616726875305 2.02994441986084\n"
     ]
    }
   ],
   "source": [
    "\n",
    "\n",
    "x0 = NumericDimension(min=0, max=100, name=\"p0\")\n",
    "x1 = NumericDimension(min=0, max=3, name=\"p1\")\n",
    "ranking_y = NumericDimension(min=0, max=10, name=\"Ranking\", optimize_for=OptimizeFor.MIN)\n",
    "\n",
    "compSpace = ComputeSpace([x0, x1], [ranking_y])\n",
    "\n",
    "compSpace.add_floats(xs = x, ys=y)    \n",
    "bo = Bo(compSpace)\n",
    "inf = bo.infer()\n",
    "denorm = compSpace.denormalize(inf)\n",
    "\n",
    "print(denorm)\n",
    "print(denorm[0].value, denorm[1].value)"
   ]
  }
 ],
 "metadata": {
  "kernelspec": {
   "display_name": ".venv",
   "language": "python",
   "name": "python3"
  },
  "language_info": {
   "codemirror_mode": {
    "name": "ipython",
    "version": 3
   },
   "file_extension": ".py",
   "mimetype": "text/x-python",
   "name": "python",
   "nbconvert_exporter": "python",
   "pygments_lexer": "ipython3",
   "version": "3.11.5"
  }
 },
 "nbformat": 4,
 "nbformat_minor": 2
}
