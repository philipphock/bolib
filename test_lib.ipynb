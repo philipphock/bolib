{
 "cells": [
  {
   "cell_type": "code",
   "execution_count": 37,
   "metadata": {},
   "outputs": [],
   "source": [
    "import random\n",
    "from bolib.Bo import Bo\n",
    "from bolib.Dimension import NumericDimension\n",
    "from bolib.ComputeSpace import ComputeSpace\n",
    "from bolib.Normalizer import OptimizeFor\n",
    "\n"
   ]
  },
  {
   "cell_type": "code",
   "execution_count": 38,
   "metadata": {},
   "outputs": [],
   "source": [
    "TARGET = [35, 2]"
   ]
  },
  {
   "cell_type": "code",
   "execution_count": 52,
   "metadata": {},
   "outputs": [
    {
     "data": {
      "text/plain": [
       "([70, 0], [5.083333333333333])"
      ]
     },
     "execution_count": 52,
     "metadata": {},
     "output_type": "execute_result"
    }
   ],
   "source": [
    "\n",
    "def getSample():\n",
    "    return [random.randint(0, 100), random.randint(0, 3)]\n",
    "\n",
    "def getRating(v, target):\n",
    "    v0 = abs(v[0] - target[0])/100\n",
    "    v1 = abs(v[1]-target[1])/3\n",
    "    return [((v0+v1)/2)*10]\n",
    "s = getSample()\n",
    "r = getRating(s, TARGET)\n",
    "\n",
    "s,r"
   ]
  },
  {
   "cell_type": "code",
   "execution_count": 50,
   "metadata": {},
   "outputs": [
    {
     "name": "stdout",
     "output_type": "stream",
     "text": [
      "[([98, 1], [4.816666666666666]), ([75, 1], [3.666666666666667]), ([1, 1], [3.3666666666666667]), ([21, 1], [2.3666666666666667]), ([84, 0], [5.783333333333333]), ([98, 2], [3.15]), ([8, 3], [3.0166666666666666]), ([100, 3], [4.916666666666667]), ([73, 2], [1.9]), ([6, 3], [3.1166666666666663])]\n"
     ]
    }
   ],
   "source": [
    "x = []\n",
    "y = []\n",
    "for i in range(10):\n",
    "    s = getSample()  \n",
    "    r = getRating(s, TARGET)\n",
    "    x.append(s)\n",
    "    y.append(r)\n",
    "\n",
    "z = list(zip(x, y))\n",
    "print(z)\n",
    "\n"
   ]
  },
  {
   "cell_type": "code",
   "execution_count": 41,
   "metadata": {},
   "outputs": [
    {
     "name": "stdout",
     "output_type": "stream",
     "text": [
      "[6.583333333333333]\n",
      "[0.0]\n",
      "[0.15]\n"
     ]
    }
   ],
   "source": [
    "s0 = [100, 0]\n",
    "s1 = TARGET\n",
    "s2 = [TARGET[0] - 3, TARGET[1]]\n",
    "\n",
    "print(getRating(s0, TARGET))\n",
    "print(getRating(s1, TARGET))\n",
    "print(getRating(s2, TARGET))"
   ]
  },
  {
   "cell_type": "code",
   "execution_count": 42,
   "metadata": {},
   "outputs": [
    {
     "name": "stdout",
     "output_type": "stream",
     "text": [
      "  name      value     space  normalized\n",
      "0   p0  24.959201  (0, 100)    0.249592\n",
      "\n",
      "  name     value   space  normalized\n",
      "0   p1  2.070266  (0, 3)    0.690089\n",
      "24.959200620651245 2.0702664256095886\n"
     ]
    }
   ],
   "source": [
    "\n",
    "\n",
    "x0 = NumericDimension(min=0, max=100, name=\"p0\")\n",
    "x1 = NumericDimension(min=0, max=3, name=\"p1\")\n",
    "ranking_y = NumericDimension(min=0, max=10, name=\"Ranking\", optimize_for=OptimizeFor.MIN)\n",
    "\n",
    "compSpace = ComputeSpace([x0, x1], [ranking_y])\n",
    "\n",
    "compSpace.add_values(xs = x, ys=y)    \n",
    "bo = Bo(compSpace)\n",
    "inf = bo.infer()\n",
    "denorm = compSpace.denormalize(inf)\n",
    "\n",
    "print(denorm)\n",
    "print(denorm[0].value, denorm[1].value)"
   ]
  }
 ],
 "metadata": {
  "kernelspec": {
   "display_name": ".venv",
   "language": "python",
   "name": "python3"
  },
  "language_info": {
   "codemirror_mode": {
    "name": "ipython",
    "version": 3
   },
   "file_extension": ".py",
   "mimetype": "text/x-python",
   "name": "python",
   "nbconvert_exporter": "python",
   "pygments_lexer": "ipython3",
   "version": "3.11.5"
  }
 },
 "nbformat": 4,
 "nbformat_minor": 2
}
