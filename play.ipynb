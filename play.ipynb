{
 "cells": [
  {
   "cell_type": "code",
   "execution_count": 12,
   "metadata": {},
   "outputs": [],
   "source": [
    "import torch\n",
    "import random\n",
    "\n",
    "import torch.nn.functional as F\n",
    "from botorch.models import SingleTaskGP\n",
    "from botorch.fit import fit_gpytorch_mll\n",
    "from botorch.utils import standardize\n",
    "from gpytorch.mlls import ExactMarginalLogLikelihood\n",
    "from botorch.acquisition import UpperConfidenceBound\n",
    "from botorch.optim import optimize_acqf\n",
    "import torch.nn.functional as F\n",
    "from botorch.acquisition import ExpectedImprovement\n",
    "\n"
   ]
  },
  {
   "cell_type": "code",
   "execution_count": 13,
   "metadata": {},
   "outputs": [
    {
     "name": "stdout",
     "output_type": "stream",
     "text": [
      "tensor([[0.0762],\n",
      "        [0.0642],\n",
      "        [0.1914],\n",
      "        [0.2052],\n",
      "        [0.2917],\n",
      "        [0.2587],\n",
      "        [0.0820],\n",
      "        [0.0726],\n",
      "        [0.0834],\n",
      "        [0.0989],\n",
      "        [0.2126],\n",
      "        [0.3387],\n",
      "        [0.0070],\n",
      "        [0.2071],\n",
      "        [0.3931],\n",
      "        [0.4522],\n",
      "        [0.1660],\n",
      "        [0.2241],\n",
      "        [0.1752],\n",
      "        [0.2455]], dtype=torch.float64)\n"
     ]
    },
    {
     "data": {
      "text/plain": [
       "[(tensor([0.4743, 0.1039], dtype=torch.float64),\n",
       "  tensor([0.0762], dtype=torch.float64)),\n",
       " (tensor([0.5287, 0.1943], dtype=torch.float64),\n",
       "  tensor([0.0642], dtype=torch.float64)),\n",
       " (tensor([0.0635, 0.5028], dtype=torch.float64),\n",
       "  tensor([0.1914], dtype=torch.float64)),\n",
       " (tensor([0.6422, 0.5187], dtype=torch.float64),\n",
       "  tensor([0.2052], dtype=torch.float64)),\n",
       " (tensor([0.9405, 0.4823], dtype=torch.float64),\n",
       "  tensor([0.2917], dtype=torch.float64)),\n",
       " (tensor([0.5377, 0.7853], dtype=torch.float64),\n",
       "  tensor([0.2587], dtype=torch.float64)),\n",
       " (tensor([0.2770, 0.3852], dtype=torch.float64),\n",
       "  tensor([0.0820], dtype=torch.float64)),\n",
       " (tensor([0.2539, 0.3335], dtype=torch.float64),\n",
       "  tensor([0.0726], dtype=torch.float64)),\n",
       " (tensor([0.3793, 0.4131], dtype=torch.float64),\n",
       "  tensor([0.0834], dtype=torch.float64)),\n",
       " (tensor([0.2094, 0.3686], dtype=torch.float64),\n",
       "  tensor([0.0989], dtype=torch.float64)),\n",
       " (tensor([0.8665, 0.3168], dtype=torch.float64),\n",
       "  tensor([0.2126], dtype=torch.float64)),\n",
       " (tensor([0.0634, 0.9484], dtype=torch.float64),\n",
       "  tensor([0.3387], dtype=torch.float64)),\n",
       " (tensor([0.3249, 0.2061], dtype=torch.float64),\n",
       "  tensor([0.0070], dtype=torch.float64)),\n",
       " (tensor([0.8890, 0.2777], dtype=torch.float64),\n",
       "  tensor([0.2071], dtype=torch.float64)),\n",
       " (tensor([0.9008, 0.8290], dtype=torch.float64),\n",
       "  tensor([0.3931], dtype=torch.float64)),\n",
       " (tensor([0.9289, 0.9797], dtype=torch.float64),\n",
       "  tensor([0.4522], dtype=torch.float64)),\n",
       " (tensor([0.7480, 0.1056], dtype=torch.float64),\n",
       "  tensor([0.1660], dtype=torch.float64)),\n",
       " (tensor([0.7768, 0.4414], dtype=torch.float64),\n",
       "  tensor([0.2241], dtype=torch.float64)),\n",
       " (tensor([0.3418, 0.7286], dtype=torch.float64),\n",
       "  tensor([0.1752], dtype=torch.float64)),\n",
       " (tensor([0.7261, 0.5569], dtype=torch.float64),\n",
       "  tensor([0.2455], dtype=torch.float64))]"
      ]
     },
     "execution_count": 13,
     "metadata": {},
     "output_type": "execute_result"
    }
   ],
   "source": [
    "BATCHSIZE = 20\n",
    "TARGET = [0.34, 0.2]\n",
    "\n",
    "\n",
    "#r = torch.tensor([[random.uniform(0, 1), random.uniform(0, 1)]], dtype=torch.double)  \n",
    "def dif(tensor, target):\n",
    "  target = torch.tensor([target], dtype=torch.double)\n",
    "  r = target - tensor \n",
    "  r = torch.abs(r)\n",
    "  r = torch.sum(r)\n",
    "  #r = torch.clamp(r,0,1)\n",
    "  return torch.tensor([[r]], dtype=torch.double)\n",
    "  \n",
    "\n",
    "\n",
    "def getSample():\n",
    "  return torch.tensor([[random.uniform(0, 1), random.uniform(0, 1)]], dtype=torch.double)  \n",
    "\n",
    "X = torch.tensor([], dtype=torch.double)\n",
    "Y = torch.tensor([], dtype=torch.double)\n",
    "# Create a Standardize transform using the data\n",
    "\n",
    "for i in range(BATCHSIZE):\n",
    "  x = getSample()\n",
    "  X = torch.cat((X, x), dim=0)\n",
    "  y = dif(x, TARGET)\n",
    "  Y = torch.cat((Y, y), dim=0)\n",
    "  \n",
    "  \n",
    "Y = 1- F.normalize(Y, dim=None, p=2)\n",
    "\n",
    "print(Y)\n",
    "\n",
    "\n",
    "list(zip(X, Y))\n"
   ]
  },
  {
   "cell_type": "code",
   "execution_count": 14,
   "metadata": {},
   "outputs": [
    {
     "name": "stderr",
     "output_type": "stream",
     "text": [
      "c:\\Users\\phili\\Documents\\workspace\\botorch\\botorch_contrast\\.venv\\Lib\\site-packages\\botorch\\models\\utils\\assorted.py:201: InputDataWarning: Input data is not standardized (mean = tensor([0.1923], dtype=torch.float64), std = tensor([0.1171], dtype=torch.float64)). Please consider scaling the input to zero mean and unit variance.\n",
      "  warnings.warn(msg, InputDataWarning)\n"
     ]
    }
   ],
   "source": [
    "train_Y = standardize(Y)\n",
    "#train_Y = Y\n",
    "gp = SingleTaskGP(X, train_Y)\n",
    "mll = ExactMarginalLogLikelihood(gp.likelihood, gp)\n",
    "fit_gpytorch_mll(mll)\n",
    "bounds = torch.stack([torch.zeros(2), torch.ones(2)])"
   ]
  },
  {
   "cell_type": "code",
   "execution_count": 7,
   "metadata": {},
   "outputs": [
    {
     "name": "stdout",
     "output_type": "stream",
     "text": [
      "tensor([[1., 1.]])\n"
     ]
    }
   ],
   "source": []
  },
  {
   "cell_type": "code",
   "execution_count": 15,
   "metadata": {},
   "outputs": [
    {
     "name": "stdout",
     "output_type": "stream",
     "text": [
      "tensor([[1., 1.]])\n"
     ]
    }
   ],
   "source": [
    "\n",
    "# Define the Expected Improvement (EI) acquisition function\n",
    "ei = ExpectedImprovement(gp, best_f=torch.min(Y))\n",
    "\n",
    "# 'best_observed_value' is the best observed value from your optimization process so far\n",
    "bounds = torch.stack([torch.zeros(2), torch.ones(2)])\n",
    "\n",
    "# Optimize the EI acquisition function to find the next candidate point\n",
    "candidate, acq_value = optimize_acqf(\n",
    "    ei, bounds=bounds, q=1, num_restarts=20, raw_samples=150,\n",
    ")\n",
    "\n",
    "print(candidate)"
   ]
  },
  {
   "cell_type": "code",
   "execution_count": null,
   "metadata": {},
   "outputs": [],
   "source": [
    "\n",
    "UCB = UpperConfidenceBound(gp, beta=0.1)\n",
    "candidate, acq_value = optimize_acqf(\n",
    "    UCB, bounds=bounds, q=1, num_restarts=20, raw_samples=150,\n",
    ")\n",
    "print(candidate)"
   ]
  },
  {
   "cell_type": "code",
   "execution_count": null,
   "metadata": {},
   "outputs": [],
   "source": [
    "def optimize_qehvi(model, train_obj, sampler):\n",
    "    \"\"\"Optimizes the qEHVI acquisition function, and returns a new candidate and observation.\"\"\"\n",
    "    # partition non-dominated space into disjoint rectangles\n",
    "    partitioning = NondominatedPartitioning(ref_point=ref_point, Y=train_obj)\n",
    "    acq_func = qExpectedHypervolumeImprovement(\n",
    "        model=model,\n",
    "        ref_point=ref_point.tolist(),  # use known reference point\n",
    "        partitioning=partitioning,\n",
    "        sampler=sampler,\n",
    "    )\n",
    "    # optimize\n",
    "    candidates, _ = optimize_acqf(\n",
    "        acq_function=acq_func,\n",
    "        bounds=problem_bounds,\n",
    "        q=BATCH_SIZE,\n",
    "        num_restarts=NUM_RESTARTS,\n",
    "        raw_samples=RAW_SAMPLES,  # used for intialization heuristic\n",
    "        options={\"batch_limit\": 5, \"maxiter\": 200, \"nonnegative\": True},\n",
    "        sequential=True,\n",
    "    )\n",
    "    # observe new values\n",
    "    new_x =  unnormalize(candidates.detach(), bounds=problem_bounds)\n",
    "    return new_x"
   ]
  }
 ],
 "metadata": {
  "kernelspec": {
   "display_name": ".venv",
   "language": "python",
   "name": "python3"
  },
  "language_info": {
   "codemirror_mode": {
    "name": "ipython",
    "version": 3
   },
   "file_extension": ".py",
   "mimetype": "text/x-python",
   "name": "python",
   "nbconvert_exporter": "python",
   "pygments_lexer": "ipython3",
   "version": "3.11.5"
  }
 },
 "nbformat": 4,
 "nbformat_minor": 2
}
