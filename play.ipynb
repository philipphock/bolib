{
 "cells": [
  {
   "cell_type": "code",
   "execution_count": 1,
   "metadata": {},
   "outputs": [
    {
     "name": "stderr",
     "output_type": "stream",
     "text": [
      "m:\\workspace\\bo\\botorch_contrast\\.venv\\lib\\site-packages\\tqdm\\auto.py:21: TqdmWarning: IProgress not found. Please update jupyter and ipywidgets. See https://ipywidgets.readthedocs.io/en/stable/user_install.html\n",
      "  from .autonotebook import tqdm as notebook_tqdm\n"
     ]
    }
   ],
   "source": [
    "import torch\n",
    "import random\n",
    "\n",
    "import torch.nn.functional as F\n",
    "from botorch.models import SingleTaskGP\n",
    "from botorch.fit import fit_gpytorch_mll\n",
    "from botorch.utils import standardize\n",
    "from gpytorch.mlls import ExactMarginalLogLikelihood\n",
    "from botorch.acquisition import UpperConfidenceBound\n",
    "from botorch.optim import optimize_acqf\n",
    "import torch.nn.functional as F\n",
    "from botorch.acquisition import ExpectedImprovement\n",
    "\n"
   ]
  },
  {
   "cell_type": "code",
   "execution_count": 10,
   "metadata": {},
   "outputs": [
    {
     "name": "stdout",
     "output_type": "stream",
     "text": [
      "tensor([ 0.2200,  0.1771,  0.3986,  0.3660,  0.0657, -0.1613,  0.2720,  0.3644,\n",
      "         0.1252,  0.1784,  0.0493,  0.0023,  0.3703,  0.0445,  0.3266,  0.2383,\n",
      "        -0.0326,  0.1846, -0.0032, -0.0510], dtype=torch.float64)\n"
     ]
    },
    {
     "data": {
      "text/plain": [
       "[(tensor(0.4704, dtype=torch.float64), tensor(0.2200, dtype=torch.float64)),\n",
       " (tensor(0.6143, dtype=torch.float64), tensor(0.1771, dtype=torch.float64)),\n",
       " (tensor(0.4996, dtype=torch.float64), tensor(0.3986, dtype=torch.float64)),\n",
       " (tensor(0.6738, dtype=torch.float64), tensor(0.3660, dtype=torch.float64)),\n",
       " (tensor(0.1786, dtype=torch.float64), tensor(0.0657, dtype=torch.float64)),\n",
       " (tensor(0.1864, dtype=torch.float64), tensor(-0.1613, dtype=torch.float64)),\n",
       " (tensor(0.1963, dtype=torch.float64), tensor(0.2720, dtype=torch.float64)),\n",
       " (tensor(0.2987, dtype=torch.float64), tensor(0.3644, dtype=torch.float64)),\n",
       " (tensor(0.9252, dtype=torch.float64), tensor(0.1252, dtype=torch.float64)),\n",
       " (tensor(0.4789, dtype=torch.float64), tensor(0.1784, dtype=torch.float64)),\n",
       " (tensor(0.9670, dtype=torch.float64), tensor(0.0493, dtype=torch.float64)),\n",
       " (tensor(0.9068, dtype=torch.float64), tensor(0.0023, dtype=torch.float64)),\n",
       " (tensor(0.2927, dtype=torch.float64), tensor(0.3703, dtype=torch.float64)),\n",
       " (tensor(0.5897, dtype=torch.float64), tensor(0.0445, dtype=torch.float64)),\n",
       " (tensor(0.5137, dtype=torch.float64), tensor(0.3266, dtype=torch.float64)),\n",
       " (tensor(0.1280, dtype=torch.float64), tensor(0.2383, dtype=torch.float64)),\n",
       " (tensor(0.5791, dtype=torch.float64), tensor(-0.0326, dtype=torch.float64)),\n",
       " (tensor(0.7018, dtype=torch.float64), tensor(0.1846, dtype=torch.float64)),\n",
       " (tensor(0.5409, dtype=torch.float64), tensor(-0.0032, dtype=torch.float64)),\n",
       " (tensor(0.6298, dtype=torch.float64), tensor(-0.0510, dtype=torch.float64))]"
      ]
     },
     "execution_count": 10,
     "metadata": {},
     "output_type": "execute_result"
    }
   ],
   "source": [
    "BATCHSIZE = 20\n",
    "TARGET = [0.34, 0.2]\n",
    "\n",
    "\n",
    "#r = torch.tensor([[random.uniform(0, 1), random.uniform(0, 1)]], dtype=torch.double)  \n",
    "def dif(tensor, target):\n",
    "  target = torch.tensor([target], dtype=torch.double)\n",
    "  r = target - tensor \n",
    "  r = torch.abs(r)\n",
    "  r = torch.sum(r)\n",
    "  #r = torch.clamp(r,0,1)\n",
    "  return 1-torch.tensor([[r]], dtype=torch.double)\n",
    "  \n",
    "\n",
    "\n",
    "def getSample():\n",
    "  return torch.tensor([[random.uniform(0, 1), random.uniform(0, 1)]], dtype=torch.double)  \n",
    "\n",
    "X = torch.tensor([], dtype=torch.double)\n",
    "Y = torch.tensor([], dtype=torch.double)\n",
    "# Create a Standardize transform using the data\n",
    "\n",
    "for i in range(BATCHSIZE):\n",
    "  x = getSample()\n",
    "  X = torch.cat((X, x), dim=0)\n",
    "  y = dif(x, TARGET)\n",
    "  Y = torch.cat((Y, y), dim=0)\n",
    "  \n",
    "  \n",
    "Y =  F.normalize(Y, dim=None, p=2)\n",
    "\n",
    "print(Y)\n",
    "\n",
    "\n",
    "list(zip(X, Y))\n"
   ]
  },
  {
   "cell_type": "code",
   "execution_count": 11,
   "metadata": {},
   "outputs": [
    {
     "ename": "IndexError",
     "evalue": "Dimension out of range (expected to be in range of [-1, 0], but got -2)",
     "output_type": "error",
     "traceback": [
      "\u001b[1;31m---------------------------------------------------------------------------\u001b[0m",
      "\u001b[1;31mIndexError\u001b[0m                                Traceback (most recent call last)",
      "\u001b[1;32mm:\\workspace\\bo\\botorch_contrast\\play.ipynb Cell 3\u001b[0m line \u001b[0;36m3\n\u001b[0;32m      <a href='vscode-notebook-cell:/m%3A/workspace/bo/botorch_contrast/play.ipynb#W6sZmlsZQ%3D%3D?line=0'>1</a>\u001b[0m train_Y \u001b[39m=\u001b[39m standardize(Y)\n\u001b[0;32m      <a href='vscode-notebook-cell:/m%3A/workspace/bo/botorch_contrast/play.ipynb#W6sZmlsZQ%3D%3D?line=1'>2</a>\u001b[0m \u001b[39m#train_Y = Y\u001b[39;00m\n\u001b[1;32m----> <a href='vscode-notebook-cell:/m%3A/workspace/bo/botorch_contrast/play.ipynb#W6sZmlsZQ%3D%3D?line=2'>3</a>\u001b[0m gp \u001b[39m=\u001b[39m SingleTaskGP(X, train_Y)\n\u001b[0;32m      <a href='vscode-notebook-cell:/m%3A/workspace/bo/botorch_contrast/play.ipynb#W6sZmlsZQ%3D%3D?line=3'>4</a>\u001b[0m mll \u001b[39m=\u001b[39m ExactMarginalLogLikelihood(gp\u001b[39m.\u001b[39mlikelihood, gp)\n\u001b[0;32m      <a href='vscode-notebook-cell:/m%3A/workspace/bo/botorch_contrast/play.ipynb#W6sZmlsZQ%3D%3D?line=4'>5</a>\u001b[0m fit_gpytorch_mll(mll)\n",
      "File \u001b[1;32mm:\\workspace\\bo\\botorch_contrast\\.venv\\lib\\site-packages\\botorch\\models\\gp_regression.py:123\u001b[0m, in \u001b[0;36mSingleTaskGP.__init__\u001b[1;34m(self, train_X, train_Y, likelihood, covar_module, mean_module, outcome_transform, input_transform)\u001b[0m\n\u001b[0;32m    121\u001b[0m \u001b[39mself\u001b[39m\u001b[39m.\u001b[39m_validate_tensor_args(X\u001b[39m=\u001b[39mtransformed_X, Y\u001b[39m=\u001b[39mtrain_Y)\n\u001b[0;32m    122\u001b[0m ignore_X_dims \u001b[39m=\u001b[39m \u001b[39mgetattr\u001b[39m(\u001b[39mself\u001b[39m, \u001b[39m\"\u001b[39m\u001b[39m_ignore_X_dims_scaling_check\u001b[39m\u001b[39m\"\u001b[39m, \u001b[39mNone\u001b[39;00m)\n\u001b[1;32m--> 123\u001b[0m validate_input_scaling(\n\u001b[0;32m    124\u001b[0m     train_X\u001b[39m=\u001b[39;49mtransformed_X, train_Y\u001b[39m=\u001b[39;49mtrain_Y, ignore_X_dims\u001b[39m=\u001b[39;49mignore_X_dims\n\u001b[0;32m    125\u001b[0m )\n\u001b[0;32m    126\u001b[0m \u001b[39mself\u001b[39m\u001b[39m.\u001b[39m_set_dimensions(train_X\u001b[39m=\u001b[39mtrain_X, train_Y\u001b[39m=\u001b[39mtrain_Y)\n\u001b[0;32m    127\u001b[0m train_X, train_Y, _ \u001b[39m=\u001b[39m \u001b[39mself\u001b[39m\u001b[39m.\u001b[39m_transform_tensor_args(X\u001b[39m=\u001b[39mtrain_X, Y\u001b[39m=\u001b[39mtrain_Y)\n",
      "File \u001b[1;32mm:\\workspace\\bo\\botorch_contrast\\.venv\\lib\\site-packages\\botorch\\models\\utils\\assorted.py:246\u001b[0m, in \u001b[0;36mvalidate_input_scaling\u001b[1;34m(train_X, train_Y, train_Yvar, raise_on_fail, ignore_X_dims)\u001b[0m\n\u001b[0;32m    242\u001b[0m         \u001b[39mraise\u001b[39;00m InputDataError(\u001b[39m\"\u001b[39m\u001b[39mInput data contains negative variances.\u001b[39m\u001b[39m\"\u001b[39m)\n\u001b[0;32m    243\u001b[0m check_min_max_scaling(\n\u001b[0;32m    244\u001b[0m     X\u001b[39m=\u001b[39mtrain_X, raise_on_fail\u001b[39m=\u001b[39mraise_on_fail, ignore_dims\u001b[39m=\u001b[39mignore_X_dims\n\u001b[0;32m    245\u001b[0m )\n\u001b[1;32m--> 246\u001b[0m check_standardization(Y\u001b[39m=\u001b[39;49mtrain_Y, raise_on_fail\u001b[39m=\u001b[39;49mraise_on_fail)\n",
      "File \u001b[1;32mm:\\workspace\\bo\\botorch_contrast\\.venv\\lib\\site-packages\\botorch\\models\\utils\\assorted.py:193\u001b[0m, in \u001b[0;36mcheck_standardization\u001b[1;34m(Y, atol_mean, atol_std, raise_on_fail)\u001b[0m\n\u001b[0;32m    182\u001b[0m \u001b[39m\u001b[39m\u001b[39mr\u001b[39m\u001b[39m\"\"\"Check that tensor is standardized (zero mean, unit variance).\u001b[39;00m\n\u001b[0;32m    183\u001b[0m \n\u001b[0;32m    184\u001b[0m \u001b[39mArgs:\u001b[39;00m\n\u001b[1;32m   (...)\u001b[0m\n\u001b[0;32m    190\u001b[0m \u001b[39m    raise_on_fail: If True, raise an exception instead of a warning.\u001b[39;00m\n\u001b[0;32m    191\u001b[0m \u001b[39m\"\"\"\u001b[39;00m\n\u001b[0;32m    192\u001b[0m \u001b[39mwith\u001b[39;00m torch\u001b[39m.\u001b[39mno_grad():\n\u001b[1;32m--> 193\u001b[0m     Ymean, Ystd \u001b[39m=\u001b[39m torch\u001b[39m.\u001b[39;49mmean(Y, dim\u001b[39m=\u001b[39;49m\u001b[39m-\u001b[39;49m\u001b[39m2\u001b[39;49m), torch\u001b[39m.\u001b[39mstd(Y, dim\u001b[39m=\u001b[39m\u001b[39m-\u001b[39m\u001b[39m2\u001b[39m)\n\u001b[0;32m    194\u001b[0m     \u001b[39mif\u001b[39;00m torch\u001b[39m.\u001b[39mabs(Ymean)\u001b[39m.\u001b[39mmax() \u001b[39m>\u001b[39m atol_mean \u001b[39mor\u001b[39;00m torch\u001b[39m.\u001b[39mabs(Ystd \u001b[39m-\u001b[39m \u001b[39m1\u001b[39m)\u001b[39m.\u001b[39mmax() \u001b[39m>\u001b[39m atol_std:\n\u001b[0;32m    195\u001b[0m         msg \u001b[39m=\u001b[39m (\n\u001b[0;32m    196\u001b[0m             \u001b[39mf\u001b[39m\u001b[39m\"\u001b[39m\u001b[39mInput data is not standardized (mean = \u001b[39m\u001b[39m{\u001b[39;00mYmean\u001b[39m}\u001b[39;00m\u001b[39m, std = \u001b[39m\u001b[39m{\u001b[39;00mYstd\u001b[39m}\u001b[39;00m\u001b[39m). \u001b[39m\u001b[39m\"\u001b[39m\n\u001b[0;32m    197\u001b[0m             \u001b[39m\"\u001b[39m\u001b[39mPlease consider scaling the input to zero mean and unit variance.\u001b[39m\u001b[39m\"\u001b[39m\n\u001b[0;32m    198\u001b[0m         )\n",
      "\u001b[1;31mIndexError\u001b[0m: Dimension out of range (expected to be in range of [-1, 0], but got -2)"
     ]
    }
   ],
   "source": [
    "train_Y = standardize(Y)\n",
    "#train_Y = Y\n",
    "gp = SingleTaskGP(X, train_Y)\n",
    "mll = ExactMarginalLogLikelihood(gp.likelihood, gp)\n",
    "fit_gpytorch_mll(mll)\n",
    "bounds = torch.stack([torch.zeros(2), torch.ones(2)])"
   ]
  },
  {
   "cell_type": "code",
   "execution_count": 7,
   "metadata": {},
   "outputs": [
    {
     "name": "stdout",
     "output_type": "stream",
     "text": [
      "tensor([[0.3920, 0.1869]])\n"
     ]
    }
   ],
   "source": [
    "\n",
    "# Define the Expected Improvement (EI) acquisition function\n",
    "ei = ExpectedImprovement(gp, best_f=torch.max(Y))\n",
    "\n",
    "# 'best_observed_value' is the best observed value from your optimization process so far\n",
    "bounds = torch.stack([torch.zeros(2), torch.ones(2)])\n",
    "\n",
    "# Optimize the EI acquisition function to find the next candidate point\n",
    "candidate, acq_value = optimize_acqf(\n",
    "    ei, bounds=bounds, q=1, num_restarts=20, raw_samples=150,\n",
    ")\n",
    "\n",
    "print(candidate)"
   ]
  }
 ],
 "metadata": {
  "kernelspec": {
   "display_name": ".venv",
   "language": "python",
   "name": "python3"
  },
  "language_info": {
   "codemirror_mode": {
    "name": "ipython",
    "version": 3
   },
   "file_extension": ".py",
   "mimetype": "text/x-python",
   "name": "python",
   "nbconvert_exporter": "python",
   "pygments_lexer": "ipython3",
   "version": "3.11.5"
  }
 },
 "nbformat": 4,
 "nbformat_minor": 2
}
