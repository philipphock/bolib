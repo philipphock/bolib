{
 "cells": [
  {
   "cell_type": "code",
   "execution_count": 1,
   "metadata": {},
   "outputs": [
    {
     "name": "stderr",
     "output_type": "stream",
     "text": [
      "m:\\workspace\\bo\\botorch_contrast\\.venv\\lib\\site-packages\\tqdm\\auto.py:21: TqdmWarning: IProgress not found. Please update jupyter and ipywidgets. See https://ipywidgets.readthedocs.io/en/stable/user_install.html\n",
      "  from .autonotebook import tqdm as notebook_tqdm\n"
     ]
    }
   ],
   "source": [
    "import torch\n",
    "import random\n",
    "\n",
    "import torch.nn.functional as F\n",
    "from botorch.models import SingleTaskGP\n",
    "from botorch.fit import fit_gpytorch_mll\n",
    "from botorch.utils import standardize\n",
    "from gpytorch.mlls import ExactMarginalLogLikelihood\n",
    "from botorch.acquisition import UpperConfidenceBound\n",
    "from botorch.optim import optimize_acqf\n",
    "import torch.nn.functional as F\n",
    "from botorch.acquisition import ExpectedImprovement\n",
    "\n"
   ]
  },
  {
   "cell_type": "code",
   "execution_count": 12,
   "metadata": {},
   "outputs": [
    {
     "name": "stdout",
     "output_type": "stream",
     "text": [
      "tensor([[ 0.0487],\n",
      "        [ 0.4119],\n",
      "        [ 0.3728],\n",
      "        [ 0.1304],\n",
      "        [ 0.2631],\n",
      "        [ 0.1876],\n",
      "        [ 0.1470],\n",
      "        [ 0.2308],\n",
      "        [ 0.0564],\n",
      "        [ 0.2285],\n",
      "        [ 0.2560],\n",
      "        [ 0.1747],\n",
      "        [ 0.2208],\n",
      "        [ 0.1720],\n",
      "        [-0.0207],\n",
      "        [ 0.1784],\n",
      "        [ 0.0801],\n",
      "        [ 0.3041],\n",
      "        [ 0.3625],\n",
      "        [ 0.0172]], dtype=torch.float64)\n"
     ]
    },
    {
     "data": {
      "text/plain": [
       "[(tensor([0.8211, 0.6132], dtype=torch.float64),\n",
       "  tensor([0.0487], dtype=torch.float64)),\n",
       " (tensor([0.3405, 0.3054], dtype=torch.float64),\n",
       "  tensor([0.4119], dtype=torch.float64)),\n",
       " (tensor([0.4217, 0.0910], dtype=torch.float64),\n",
       "  tensor([0.3728], dtype=torch.float64)),\n",
       " (tensor([0.0035, 0.5804], dtype=torch.float64),\n",
       "  tensor([0.1304], dtype=torch.float64)),\n",
       " (tensor([0.5496, 0.4194], dtype=torch.float64),\n",
       "  tensor([0.2631], dtype=torch.float64)),\n",
       " (tensor([0.2760, 0.7287], dtype=torch.float64),\n",
       "  tensor([0.1876], dtype=torch.float64)),\n",
       " (tensor([0.7935, 0.4275], dtype=torch.float64),\n",
       "  tensor([0.1470], dtype=torch.float64)),\n",
       " (tensor([0.2313, 0.5902], dtype=torch.float64),\n",
       "  tensor([0.2308], dtype=torch.float64)),\n",
       " (tensor([0.5715, 0.8462], dtype=torch.float64),\n",
       "  tensor([0.0564], dtype=torch.float64)),\n",
       " (tensor([0.6866, 0.3573], dtype=torch.float64),\n",
       "  tensor([0.2285], dtype=torch.float64)),\n",
       " (tensor([0.7461, 0.1618], dtype=torch.float64),\n",
       "  tensor([0.2560], dtype=torch.float64)),\n",
       " (tensor([0.2355, 0.7164], dtype=torch.float64),\n",
       "  tensor([0.1747], dtype=torch.float64)),\n",
       " (tensor([0.1566, 0.5373], dtype=torch.float64),\n",
       "  tensor([0.2208], dtype=torch.float64)),\n",
       " (tensor([0.3312, 0.8178], dtype=torch.float64),\n",
       "  tensor([0.1720], dtype=torch.float64)),\n",
       " (tensor([0.9118, 0.6732], dtype=torch.float64),\n",
       "  tensor([-0.0207], dtype=torch.float64)),\n",
       " (tensor([0.1883, 0.6611], dtype=torch.float64),\n",
       "  tensor([0.1784], dtype=torch.float64)),\n",
       " (tensor([0.7880, 0.5782], dtype=torch.float64),\n",
       "  tensor([0.0801], dtype=torch.float64)),\n",
       " (tensor([0.0490, 0.2488], dtype=torch.float64),\n",
       "  tensor([0.3041], dtype=torch.float64)),\n",
       " (tensor([0.4055, 0.3476], dtype=torch.float64),\n",
       "  tensor([0.3625], dtype=torch.float64)),\n",
       " (tensor([0.1587, 0.9814], dtype=torch.float64),\n",
       "  tensor([0.0172], dtype=torch.float64))]"
      ]
     },
     "execution_count": 12,
     "metadata": {},
     "output_type": "execute_result"
    }
   ],
   "source": [
    "BATCHSIZE = 20\n",
    "TARGET = [0.34, 0.2]\n",
    "\n",
    "\n",
    "#r = torch.tensor([[random.uniform(0, 1), random.uniform(0, 1)]], dtype=torch.double)  \n",
    "def dif(tensor, target):\n",
    "  target = torch.tensor([target], dtype=torch.double)\n",
    "  r = target - tensor \n",
    "  r = torch.abs(r)\n",
    "  r = torch.sum(r)\n",
    "  #r = torch.clamp(r,0,1)\n",
    "  return 1-torch.tensor([[r]], dtype=torch.double)\n",
    "  \n",
    "\n",
    "\n",
    "def getSample():\n",
    "  return torch.tensor([[random.uniform(0, 1), random.uniform(0, 1)]], dtype=torch.double)  \n",
    "\n",
    "X = torch.tensor([], dtype=torch.double)\n",
    "Y = torch.tensor([], dtype=torch.double)\n",
    "# Create a Standardize transform using the data\n",
    "\n",
    "for i in range(BATCHSIZE):\n",
    "  x = getSample()\n",
    "  X = torch.cat((X, x), dim=0)\n",
    "  y = dif(x, TARGET)\n",
    "  Y = torch.cat((Y, y), dim=0)\n",
    "  \n",
    "  \n",
    "Y =  F.normalize(Y, dim=None, p=2)\n",
    "\n",
    "print(Y)\n",
    "\n",
    "\n",
    "list(zip(X, Y))\n"
   ]
  },
  {
   "cell_type": "code",
   "execution_count": 13,
   "metadata": {},
   "outputs": [],
   "source": [
    "train_Y = standardize(Y)\n",
    "#train_Y = Y\n",
    "gp = SingleTaskGP(X, train_Y)\n",
    "mll = ExactMarginalLogLikelihood(gp.likelihood, gp)\n",
    "fit_gpytorch_mll(mll)\n",
    "bounds = torch.stack([torch.zeros(2), torch.ones(2)])"
   ]
  },
  {
   "cell_type": "code",
   "execution_count": 7,
   "metadata": {},
   "outputs": [
    {
     "name": "stdout",
     "output_type": "stream",
     "text": [
      "tensor([[0.3920, 0.1869]])\n"
     ]
    }
   ],
   "source": [
    "\n",
    "# Define the Expected Improvement (EI) acquisition function\n",
    "ei = ExpectedImprovement(gp, best_f=torch.max(Y))\n",
    "\n",
    "# 'best_observed_value' is the best observed value from your optimization process so far\n",
    "bounds = torch.stack([torch.zeros(2), torch.ones(2)])\n",
    "\n",
    "# Optimize the EI acquisition function to find the next candidate point\n",
    "candidate, acq_value = optimize_acqf(\n",
    "    ei, bounds=bounds, q=1, num_restarts=20, raw_samples=150,\n",
    ")\n",
    "\n",
    "print(candidate)"
   ]
  }
 ],
 "metadata": {
  "kernelspec": {
   "display_name": ".venv",
   "language": "python",
   "name": "python3"
  },
  "language_info": {
   "codemirror_mode": {
    "name": "ipython",
    "version": 3
   },
   "file_extension": ".py",
   "mimetype": "text/x-python",
   "name": "python",
   "nbconvert_exporter": "python",
   "pygments_lexer": "ipython3",
   "version": "3.11.5"
  }
 },
 "nbformat": 4,
 "nbformat_minor": 2
}
