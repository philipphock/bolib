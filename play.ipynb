{
 "cells": [
  {
   "cell_type": "code",
   "execution_count": 1,
   "metadata": {},
   "outputs": [
    {
     "name": "stderr",
     "output_type": "stream",
     "text": [
      "m:\\workspace\\bo\\botorch_contrast\\.venv\\lib\\site-packages\\tqdm\\auto.py:21: TqdmWarning: IProgress not found. Please update jupyter and ipywidgets. See https://ipywidgets.readthedocs.io/en/stable/user_install.html\n",
      "  from .autonotebook import tqdm as notebook_tqdm\n"
     ]
    }
   ],
   "source": [
    "import torch\n",
    "import random\n",
    "\n",
    "import torch.nn.functional as F\n",
    "from botorch.models import SingleTaskGP\n",
    "from botorch.fit import fit_gpytorch_mll\n",
    "from botorch.utils import standardize\n",
    "from gpytorch.mlls import ExactMarginalLogLikelihood\n",
    "from botorch.acquisition import UpperConfidenceBound\n",
    "from botorch.optim import optimize_acqf\n",
    "import torch.nn.functional as F\n",
    "from botorch.acquisition import ExpectedImprovement\n",
    "\n"
   ]
  },
  {
   "cell_type": "code",
   "execution_count": 22,
   "metadata": {},
   "outputs": [
    {
     "name": "stdout",
     "output_type": "stream",
     "text": [
      "tensor([[ 0.6733],\n",
      "        [ 0.7766],\n",
      "        [ 0.0821],\n",
      "        [ 0.9250],\n",
      "        [ 0.7040],\n",
      "        [ 0.3356],\n",
      "        [ 0.6494],\n",
      "        [ 0.3962],\n",
      "        [ 0.3809],\n",
      "        [ 0.3470],\n",
      "        [ 0.5518],\n",
      "        [ 0.5548],\n",
      "        [ 0.1964],\n",
      "        [ 0.6745],\n",
      "        [ 0.4687],\n",
      "        [ 0.5278],\n",
      "        [ 0.3713],\n",
      "        [ 0.3435],\n",
      "        [-0.1649],\n",
      "        [ 0.7907]], dtype=torch.float64)\n"
     ]
    },
    {
     "data": {
      "text/plain": [
       "[(tensor([0.1446, 0.3313], dtype=torch.float64),\n",
       "  tensor([0.6733], dtype=torch.float64)),\n",
       " (tensor([0.2612, 0.0553], dtype=torch.float64),\n",
       "  tensor([0.7766], dtype=torch.float64)),\n",
       " (tensor([0.5728, 0.8851], dtype=torch.float64),\n",
       "  tensor([0.0821], dtype=torch.float64)),\n",
       " (tensor([0.2805, 0.2155], dtype=torch.float64),\n",
       "  tensor([0.9250], dtype=torch.float64)),\n",
       " (tensor([0.1162, 0.1279], dtype=torch.float64),\n",
       "  tensor([0.7040], dtype=torch.float64)),\n",
       " (tensor([0.9057, 0.2987], dtype=torch.float64),\n",
       "  tensor([0.3356], dtype=torch.float64)),\n",
       " (tensor([0.1795, 0.3902], dtype=torch.float64),\n",
       "  tensor([0.6494], dtype=torch.float64)),\n",
       " (tensor([0.1881, 0.6519], dtype=torch.float64),\n",
       "  tensor([0.3962], dtype=torch.float64)),\n",
       " (tensor([0.1842, 0.6633], dtype=torch.float64),\n",
       "  tensor([0.3809], dtype=torch.float64)),\n",
       " (tensor([0.2172, 0.7303], dtype=torch.float64),\n",
       "  tensor([0.3470], dtype=torch.float64)),\n",
       " (tensor([0.6508, 0.0626], dtype=torch.float64),\n",
       "  tensor([0.5518], dtype=torch.float64)),\n",
       " (tensor([0.4520, 0.5332], dtype=torch.float64),\n",
       "  tensor([0.5548], dtype=torch.float64)),\n",
       " (tensor([0.9622, 0.0186], dtype=torch.float64),\n",
       "  tensor([0.1964], dtype=torch.float64)),\n",
       " (tensor([0.0471, 0.1674], dtype=torch.float64),\n",
       "  tensor([0.6745], dtype=torch.float64)),\n",
       " (tensor([0.4813, 0.5900], dtype=torch.float64),\n",
       "  tensor([0.4687], dtype=torch.float64)),\n",
       " (tensor([0.0726, 0.4047], dtype=torch.float64),\n",
       "  tensor([0.5278], dtype=torch.float64)),\n",
       " (tensor([0.2432, 0.7319], dtype=torch.float64),\n",
       "  tensor([0.3713], dtype=torch.float64)),\n",
       " (tensor([0.1730, 0.6895], dtype=torch.float64),\n",
       "  tensor([0.3435], dtype=torch.float64)),\n",
       " (tensor([0.9420, 0.7629], dtype=torch.float64),\n",
       "  tensor([-0.1649], dtype=torch.float64)),\n",
       " (tensor([0.4311, 0.3182], dtype=torch.float64),\n",
       "  tensor([0.7907], dtype=torch.float64))]"
      ]
     },
     "execution_count": 22,
     "metadata": {},
     "output_type": "execute_result"
    }
   ],
   "source": [
    "BATCHSIZE = 20\n",
    "TARGET = [0.34, 0.2]\n",
    "\n",
    "\n",
    "#r = torch.tensor([[random.uniform(0, 1), random.uniform(0, 1)]], dtype=torch.double)  \n",
    "def dif(tensor, target):\n",
    "  target = torch.tensor([target], dtype=torch.double)\n",
    "  r = target - tensor \n",
    "  r = torch.abs(r)\n",
    "  r = torch.sum(r)\n",
    "  # r = torch.clamp(r,0,1)\n",
    "  return 1-torch.tensor([[r]], dtype=torch.double)\n",
    "  \n",
    "\n",
    "\n",
    "def getSample():\n",
    "  return torch.tensor([[random.uniform(0, 1), random.uniform(0, 1)]], dtype=torch.double)  \n",
    "\n",
    "X = torch.tensor([], dtype=torch.double)\n",
    "Y = torch.tensor([], dtype=torch.double)\n",
    "# Create a Standardize transform using the data\n",
    "\n",
    "for i in range(BATCHSIZE):\n",
    "  x = getSample()\n",
    "  X = torch.cat((X, x), dim=0)\n",
    "  y = dif(x, TARGET)\n",
    "  Y = torch.cat((Y, y), dim=0)\n",
    "  \n",
    "  \n",
    "\n",
    "print(Y)\n",
    "\n",
    "\n",
    "list(zip(X, Y))\n"
   ]
  },
  {
   "cell_type": "code",
   "execution_count": 23,
   "metadata": {},
   "outputs": [],
   "source": [
    "Y =  F.normalize(Y, dim=None, p=2)\n",
    "train_Y = standardize(Y)\n",
    "#train_Y = Y\n",
    "gp = SingleTaskGP(X, train_Y)\n",
    "mll = ExactMarginalLogLikelihood(gp.likelihood, gp)\n",
    "fit_gpytorch_mll(mll)\n",
    "bounds = torch.stack([torch.zeros(2), torch.ones(2)])"
   ]
  },
  {
   "cell_type": "code",
   "execution_count": 24,
   "metadata": {},
   "outputs": [
    {
     "name": "stdout",
     "output_type": "stream",
     "text": [
      "tensor([[0.3215, 0.2052]])\n"
     ]
    }
   ],
   "source": [
    "\n",
    "# Define the Expected Improvement (EI) acquisition function\n",
    "ei = ExpectedImprovement(gp, best_f=torch.max(Y))\n",
    "\n",
    "# 'best_observed_value' is the best observed value from your optimization process so far\n",
    "bounds = torch.stack([torch.zeros(2), torch.ones(2)])\n",
    "\n",
    "# Optimize the EI acquisition function to find the next candidate point\n",
    "candidate, acq_value = optimize_acqf(\n",
    "    ei, bounds=bounds, q=1, num_restarts=20, raw_samples=150,\n",
    ")\n",
    "\n",
    "print(candidate)"
   ]
  }
 ],
 "metadata": {
  "kernelspec": {
   "display_name": ".venv",
   "language": "python",
   "name": "python3"
  },
  "language_info": {
   "codemirror_mode": {
    "name": "ipython",
    "version": 3
   },
   "file_extension": ".py",
   "mimetype": "text/x-python",
   "name": "python",
   "nbconvert_exporter": "python",
   "pygments_lexer": "ipython3",
   "version": "3.11.5"
  }
 },
 "nbformat": 4,
 "nbformat_minor": 2
}
