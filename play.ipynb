{
 "cells": [
  {
   "cell_type": "code",
   "execution_count": 1,
   "metadata": {},
   "outputs": [
    {
     "name": "stderr",
     "output_type": "stream",
     "text": [
      "c:\\Users\\phili\\Documents\\workspace\\botorch\\botorch_contrast\\.venv\\Lib\\site-packages\\tqdm\\auto.py:21: TqdmWarning: IProgress not found. Please update jupyter and ipywidgets. See https://ipywidgets.readthedocs.io/en/stable/user_install.html\n",
      "  from .autonotebook import tqdm as notebook_tqdm\n"
     ]
    }
   ],
   "source": [
    "import torch\n",
    "import random\n",
    "\n",
    "import torch.nn.functional as F\n",
    "from botorch.models import SingleTaskGP\n",
    "from botorch.fit import fit_gpytorch_mll\n",
    "from botorch.utils import standardize\n",
    "from gpytorch.mlls import ExactMarginalLogLikelihood\n",
    "from botorch.acquisition import UpperConfidenceBound\n",
    "from botorch.optim import optimize_acqf\n",
    "import torch.nn.functional as F\n",
    "from botorch.acquisition import ExpectedImprovement\n",
    "\n"
   ]
  },
  {
   "cell_type": "code",
   "execution_count": 4,
   "metadata": {},
   "outputs": [
    {
     "name": "stdout",
     "output_type": "stream",
     "text": [
      "tensor([[0.2802],\n",
      "        [0.2165],\n",
      "        [0.2412],\n",
      "        [0.3131],\n",
      "        [0.1290],\n",
      "        [0.3682],\n",
      "        [0.0393],\n",
      "        [0.1645],\n",
      "        [0.3353],\n",
      "        [0.1727],\n",
      "        [0.0148],\n",
      "        [0.0795],\n",
      "        [0.2196],\n",
      "        [0.1514],\n",
      "        [0.1332],\n",
      "        [0.2359],\n",
      "        [0.1091],\n",
      "        [0.3306],\n",
      "        [0.1344],\n",
      "        [0.3239]], dtype=torch.float64)\n"
     ]
    },
    {
     "data": {
      "text/plain": [
       "[(tensor([0.6554, 0.0802], dtype=torch.float64),\n",
       "  tensor([0.2802], dtype=torch.float64)),\n",
       " (tensor([0.7114, 0.0078], dtype=torch.float64),\n",
       "  tensor([0.2165], dtype=torch.float64)),\n",
       " (tensor([0.4911, 0.5627], dtype=torch.float64),\n",
       "  tensor([0.2412], dtype=torch.float64)),\n",
       " (tensor([0.0286, 0.2574], dtype=torch.float64),\n",
       "  tensor([0.3131], dtype=torch.float64)),\n",
       " (tensor([0.1834, 0.7835], dtype=torch.float64),\n",
       "  tensor([0.1290], dtype=torch.float64)),\n",
       " (tensor([0.2585, 0.3763], dtype=torch.float64),\n",
       "  tensor([0.3682], dtype=torch.float64)),\n",
       " (tensor([0.9428, 0.5181], dtype=torch.float64),\n",
       "  tensor([0.0393], dtype=torch.float64)),\n",
       " (tensor([0.0124, 0.5408], dtype=torch.float64),\n",
       "  tensor([0.1645], dtype=torch.float64)),\n",
       " (tensor([0.5176, 0.3467], dtype=torch.float64),\n",
       "  tensor([0.3353], dtype=torch.float64)),\n",
       " (tensor([0.4119, 0.7800], dtype=torch.float64),\n",
       "  tensor([0.1727], dtype=torch.float64)),\n",
       " (tensor([0.6895, 0.8207], dtype=torch.float64),\n",
       "  tensor([0.0148], dtype=torch.float64)),\n",
       " (tensor([0.1311, 0.8309], dtype=torch.float64),\n",
       "  tensor([0.0795], dtype=torch.float64)),\n",
       " (tensor([0.8044, 0.2931], dtype=torch.float64),\n",
       "  tensor([0.2196], dtype=torch.float64)),\n",
       " (tensor([0.4836, 0.7513], dtype=torch.float64),\n",
       "  tensor([0.1514], dtype=torch.float64)),\n",
       " (tensor([0.6850, 0.5865], dtype=torch.float64),\n",
       "  tensor([0.1332], dtype=torch.float64)),\n",
       " (tensor([0.2216, 0.6062], dtype=torch.float64),\n",
       "  tensor([0.2359], dtype=torch.float64)),\n",
       " (tensor([0.4967, 0.8233], dtype=torch.float64),\n",
       "  tensor([0.1091], dtype=torch.float64)),\n",
       " (tensor([0.4389, 0.4347], dtype=torch.float64),\n",
       "  tensor([0.3306], dtype=torch.float64)),\n",
       " (tensor([0.5002, 0.7689], dtype=torch.float64),\n",
       "  tensor([0.1344], dtype=torch.float64)),\n",
       " (tensor([0.5869, 0.0998], dtype=torch.float64),\n",
       "  tensor([0.3239], dtype=torch.float64))]"
      ]
     },
     "execution_count": 4,
     "metadata": {},
     "output_type": "execute_result"
    }
   ],
   "source": [
    "BATCHSIZE = 20\n",
    "TARGET = [0.34, 0.2]\n",
    "\n",
    "\n",
    "#r = torch.tensor([[random.uniform(0, 1), random.uniform(0, 1)]], dtype=torch.double)  \n",
    "def dif(tensor, target):\n",
    "  target = torch.tensor([target], dtype=torch.double)\n",
    "  r = target - tensor \n",
    "  r = torch.abs(r)\n",
    "  r = torch.sum(r)\n",
    "  #r = torch.clamp(r,0,1)\n",
    "  return 1-torch.tensor([[r]], dtype=torch.double)\n",
    "  \n",
    "\n",
    "\n",
    "def getSample():\n",
    "  return torch.tensor([[random.uniform(0, 1), random.uniform(0, 1)]], dtype=torch.double)  \n",
    "\n",
    "X = torch.tensor([], dtype=torch.double)\n",
    "Y = torch.tensor([], dtype=torch.double)\n",
    "# Create a Standardize transform using the data\n",
    "\n",
    "for i in range(BATCHSIZE):\n",
    "  x = getSample()\n",
    "  X = torch.cat((X, x), dim=0)\n",
    "  y = dif(x, TARGET)\n",
    "  Y = torch.cat((Y, y), dim=0)\n",
    "  \n",
    "  \n",
    "Y =  F.normalize(Y, dim=None, p=2)\n",
    "\n",
    "print(Y)\n",
    "\n",
    "\n",
    "list(zip(X, Y))\n"
   ]
  },
  {
   "cell_type": "code",
   "execution_count": 5,
   "metadata": {},
   "outputs": [],
   "source": [
    "train_Y = standardize(Y)\n",
    "#train_Y = Y\n",
    "gp = SingleTaskGP(X, train_Y)\n",
    "mll = ExactMarginalLogLikelihood(gp.likelihood, gp)\n",
    "fit_gpytorch_mll(mll)\n",
    "bounds = torch.stack([torch.zeros(2), torch.ones(2)])"
   ]
  },
  {
   "cell_type": "code",
   "execution_count": 6,
   "metadata": {},
   "outputs": [
    {
     "name": "stdout",
     "output_type": "stream",
     "text": [
      "tensor([[0.3080, 0.1756]])\n"
     ]
    }
   ],
   "source": [
    "\n",
    "# Define the Expected Improvement (EI) acquisition function\n",
    "ei = ExpectedImprovement(gp, best_f=torch.min(Y))\n",
    "\n",
    "# 'best_observed_value' is the best observed value from your optimization process so far\n",
    "bounds = torch.stack([torch.zeros(2), torch.ones(2)])\n",
    "\n",
    "# Optimize the EI acquisition function to find the next candidate point\n",
    "candidate, acq_value = optimize_acqf(\n",
    "    ei, bounds=bounds, q=1, num_restarts=20, raw_samples=150,\n",
    ")\n",
    "\n",
    "print(candidate)"
   ]
  },
  {
   "cell_type": "code",
   "execution_count": null,
   "metadata": {},
   "outputs": [],
   "source": [
    "\n",
    "UCB = UpperConfidenceBound(gp, beta=0.1)\n",
    "candidate, acq_value = optimize_acqf(\n",
    "    UCB, bounds=bounds, q=1, num_restarts=20, raw_samples=150,\n",
    ")\n",
    "print(candidate)"
   ]
  },
  {
   "cell_type": "code",
   "execution_count": null,
   "metadata": {},
   "outputs": [],
   "source": [
    "def optimize_qehvi(model, train_obj, sampler):\n",
    "    \"\"\"Optimizes the qEHVI acquisition function, and returns a new candidate and observation.\"\"\"\n",
    "    # partition non-dominated space into disjoint rectangles\n",
    "    partitioning = NondominatedPartitioning(ref_point=ref_point, Y=train_obj)\n",
    "    acq_func = qExpectedHypervolumeImprovement(\n",
    "        model=model,\n",
    "        ref_point=ref_point.tolist(),  # use known reference point\n",
    "        partitioning=partitioning,\n",
    "        sampler=sampler,\n",
    "    )\n",
    "    # optimize\n",
    "    candidates, _ = optimize_acqf(\n",
    "        acq_function=acq_func,\n",
    "        bounds=problem_bounds,\n",
    "        q=BATCH_SIZE,\n",
    "        num_restarts=NUM_RESTARTS,\n",
    "        raw_samples=RAW_SAMPLES,  # used for intialization heuristic\n",
    "        options={\"batch_limit\": 5, \"maxiter\": 200, \"nonnegative\": True},\n",
    "        sequential=True,\n",
    "    )\n",
    "    # observe new values\n",
    "    new_x =  unnormalize(candidates.detach(), bounds=problem_bounds)\n",
    "    return new_x"
   ]
  }
 ],
 "metadata": {
  "kernelspec": {
   "display_name": ".venv",
   "language": "python",
   "name": "python3"
  },
  "language_info": {
   "codemirror_mode": {
    "name": "ipython",
    "version": 3
   },
   "file_extension": ".py",
   "mimetype": "text/x-python",
   "name": "python",
   "nbconvert_exporter": "python",
   "pygments_lexer": "ipython3",
   "version": "3.11.5"
  }
 },
 "nbformat": 4,
 "nbformat_minor": 2
}
