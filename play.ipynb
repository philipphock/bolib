{
 "cells": [
  {
   "cell_type": "code",
   "execution_count": 5,
   "metadata": {},
   "outputs": [],
   "source": [
    "import torch\n",
    "import random\n",
    "\n",
    "import torch.nn.functional as F\n",
    "\n"
   ]
  },
  {
   "cell_type": "code",
   "execution_count": 6,
   "metadata": {},
   "outputs": [
    {
     "name": "stdout",
     "output_type": "stream",
     "text": [
      "tensor([[0.2994],\n",
      "        [0.1322],\n",
      "        [0.4409],\n",
      "        [0.2866],\n",
      "        [0.3800],\n",
      "        [0.2597],\n",
      "        [0.1458],\n",
      "        [0.2297],\n",
      "        [0.5008],\n",
      "        [0.2822]], dtype=torch.float64)\n"
     ]
    },
    {
     "data": {
      "text/plain": [
       "[(tensor([0.0566, 0.6353], dtype=torch.float64),\n",
       "  tensor([0.2994], dtype=torch.float64)),\n",
       " (tensor([0.5570, 0.0998], dtype=torch.float64),\n",
       "  tensor([0.1322], dtype=torch.float64)),\n",
       " (tensor([0.7273, 0.8711], dtype=torch.float64),\n",
       "  tensor([0.4409], dtype=torch.float64)),\n",
       " (tensor([0.8842, 0.3436], dtype=torch.float64),\n",
       "  tensor([0.2866], dtype=torch.float64)),\n",
       " (tensor([0.5240, 0.9281], dtype=torch.float64),\n",
       "  tensor([0.3800], dtype=torch.float64)),\n",
       " (tensor([0.9555, 0.1921], dtype=torch.float64),\n",
       "  tensor([0.2597], dtype=torch.float64)),\n",
       " (tensor([0.3800, 0.5099], dtype=torch.float64),\n",
       "  tensor([0.1458], dtype=torch.float64)),\n",
       " (tensor([0.8842, 0.2070], dtype=torch.float64),\n",
       "  tensor([0.2297], dtype=torch.float64)),\n",
       " (tensor([0.7848, 0.9574], dtype=torch.float64),\n",
       "  tensor([0.5008], dtype=torch.float64)),\n",
       " (tensor([0.5976, 0.6198], dtype=torch.float64),\n",
       "  tensor([0.2822], dtype=torch.float64))]"
      ]
     },
     "execution_count": 6,
     "metadata": {},
     "output_type": "execute_result"
    }
   ],
   "source": [
    "BATCHSIZE = 10\n",
    "TARGET = [0.34, 0.2]\n",
    "\n",
    "\n",
    "#r = torch.tensor([[random.uniform(0, 1), random.uniform(0, 1)]], dtype=torch.double)  \n",
    "def dif(tensor, target):\n",
    "  target = torch.tensor([target], dtype=torch.double)\n",
    "  r = target - tensor \n",
    "  r = torch.abs(r)\n",
    "  r = torch.sum(r)\n",
    "  #r = torch.clamp(r,0,1)\n",
    "  return torch.tensor([[r]], dtype=torch.double)\n",
    "  \n",
    "\n",
    "\n",
    "def getSample():\n",
    "  return torch.tensor([[random.uniform(0, 1), random.uniform(0, 1)]], dtype=torch.double)  \n",
    "\n",
    "X = torch.tensor([], dtype=torch.double)\n",
    "Y = torch.tensor([], dtype=torch.double)\n",
    "# Create a Standardize transform using the data\n",
    "\n",
    "for i in range(BATCHSIZE):\n",
    "  s = getSample()\n",
    "  X = torch.cat((X, s), dim=0)\n",
    "\n",
    "for i in X:\n",
    "  s = dif(i, TARGET)\n",
    "  Y = torch.cat((Y, s), dim=0)\n",
    "  \n",
    "Y = F.normalize(Y, dim=None, p=2)\n",
    "\n",
    "print(Y)\n",
    "\n",
    "\n",
    "list(zip(X, Y))\n"
   ]
  },
  {
   "cell_type": "code",
   "execution_count": 7,
   "metadata": {},
   "outputs": [
    {
     "name": "stdout",
     "output_type": "stream",
     "text": [
      "tensor([[1., 1.]])\n"
     ]
    }
   ],
   "source": [
    "from botorch.models import SingleTaskGP\n",
    "from botorch.fit import fit_gpytorch_mll\n",
    "from botorch.utils import standardize\n",
    "from gpytorch.mlls import ExactMarginalLogLikelihood\n",
    "from botorch.acquisition import UpperConfidenceBound\n",
    "from botorch.optim import optimize_acqf\n",
    "import torch.nn.functional as F\n",
    "\n",
    "\n",
    "# thus, we rate the variables accordingly: A value closer to 0.34, 0.2 is rated with a lower number\n",
    "\n",
    "\n",
    "train_Y = standardize(Y)\n",
    "#print(train_Y)\n",
    "#\n",
    "gp = SingleTaskGP(X, train_Y)\n",
    "mll = ExactMarginalLogLikelihood(gp.likelihood, gp)\n",
    "fit_gpytorch_mll(mll)\n",
    "\n",
    "\n",
    "UCB = UpperConfidenceBound(gp, beta=0.1)\n",
    "\n",
    "\n",
    "bounds = torch.stack([torch.zeros(2), torch.ones(2)])\n",
    "candidate, acq_value = optimize_acqf(\n",
    "    UCB, bounds=bounds, q=1, num_restarts=5, raw_samples=20,\n",
    ")\n",
    "\n",
    "print(candidate)\n",
    "\n"
   ]
  },
  {
   "cell_type": "code",
   "execution_count": null,
   "metadata": {},
   "outputs": [],
   "source": [
    "def optimize_qehvi(model, train_obj, sampler):\n",
    "    \"\"\"Optimizes the qEHVI acquisition function, and returns a new candidate and observation.\"\"\"\n",
    "    # partition non-dominated space into disjoint rectangles\n",
    "    partitioning = NondominatedPartitioning(ref_point=ref_point, Y=train_obj)\n",
    "    acq_func = qExpectedHypervolumeImprovement(\n",
    "        model=model,\n",
    "        ref_point=ref_point.tolist(),  # use known reference point\n",
    "        partitioning=partitioning,\n",
    "        sampler=sampler,\n",
    "    )\n",
    "    # optimize\n",
    "    candidates, _ = optimize_acqf(\n",
    "        acq_function=acq_func,\n",
    "        bounds=problem_bounds,\n",
    "        q=BATCH_SIZE,\n",
    "        num_restarts=NUM_RESTARTS,\n",
    "        raw_samples=RAW_SAMPLES,  # used for intialization heuristic\n",
    "        options={\"batch_limit\": 5, \"maxiter\": 200, \"nonnegative\": True},\n",
    "        sequential=True,\n",
    "    )\n",
    "    # observe new values\n",
    "    new_x =  unnormalize(candidates.detach(), bounds=problem_bounds)\n",
    "    return new_x"
   ]
  }
 ],
 "metadata": {
  "kernelspec": {
   "display_name": ".venv",
   "language": "python",
   "name": "python3"
  },
  "language_info": {
   "codemirror_mode": {
    "name": "ipython",
    "version": 3
   },
   "file_extension": ".py",
   "mimetype": "text/x-python",
   "name": "python",
   "nbconvert_exporter": "python",
   "pygments_lexer": "ipython3",
   "version": "3.11.5"
  }
 },
 "nbformat": 4,
 "nbformat_minor": 2
}
