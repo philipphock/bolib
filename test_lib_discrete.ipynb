{
 "cells": [
  {
   "cell_type": "code",
   "execution_count": 23,
   "metadata": {},
   "outputs": [],
   "source": [
    "import random\n",
    "from bolib.Bo import Bo\n",
    "from bolib.Dimension import NumericDimension\n",
    "from bolib.ComputeSpace import ComputeSpace\n",
    "\n"
   ]
  },
  {
   "cell_type": "code",
   "execution_count": 24,
   "metadata": {},
   "outputs": [
    {
     "data": {
      "text/plain": [
       "['Pizza', 'Tacos']"
      ]
     },
     "execution_count": 24,
     "metadata": {},
     "output_type": "execute_result"
    }
   ],
   "source": [
    "SPACE = ['Pizza', 'Burger', 'Hotdog', 'Fries', 'Tacos']\n",
    "#TARGET = [SPACE[3]]#, SPACE[2]]\n",
    "TARGET = [SPACE[0], SPACE[4]]\n",
    "TARGET"
   ]
  },
  {
   "cell_type": "code",
   "execution_count": 25,
   "metadata": {},
   "outputs": [],
   "source": [
    "\n",
    "def getSample():\n",
    "    return random.sample(SPACE, 2)\n",
    "\n",
    "def getRating(v, target):\n",
    "    #return [sum([1 if target[0] in v else 0])]#, 1 if target[1] in v else 0])]   \n",
    "    #return [sum([1 if target[0] in v else 0, 1 if target[1] in v else 0])]   \n",
    "    return [1 if target[0] in v and target[1] in v else 0]\n"
   ]
  },
  {
   "cell_type": "code",
   "execution_count": 26,
   "metadata": {},
   "outputs": [
    {
     "name": "stdout",
     "output_type": "stream",
     "text": [
      "[(['Pizza', 'Burger'], [0]), (['Fries', 'Burger'], [0]), (['Hotdog', 'Tacos'], [0]), (['Burger', 'Fries'], [0]), (['Tacos', 'Fries'], [0]), (['Pizza', 'Tacos'], [1]), (['Tacos', 'Fries'], [0]), (['Hotdog', 'Tacos'], [0]), (['Pizza', 'Tacos'], [1]), (['Hotdog', 'Burger'], [0]), (['Tacos', 'Burger'], [0]), (['Pizza', 'Fries'], [0]), (['Burger', 'Fries'], [0]), (['Hotdog', 'Fries'], [0]), (['Burger', 'Tacos'], [0]), (['Hotdog', 'Fries'], [0]), (['Fries', 'Hotdog'], [0]), (['Fries', 'Burger'], [0]), (['Pizza', 'Tacos'], [1]), (['Tacos', 'Burger'], [0]), (['Hotdog', 'Fries'], [0]), (['Pizza', 'Burger'], [0]), (['Burger', 'Fries'], [0]), (['Hotdog', 'Fries'], [0]), (['Tacos', 'Pizza'], [1]), (['Fries', 'Tacos'], [0]), (['Burger', 'Pizza'], [0]), (['Tacos', 'Burger'], [0]), (['Pizza', 'Burger'], [0]), (['Pizza', 'Hotdog'], [0]), (['Fries', 'Tacos'], [0]), (['Tacos', 'Fries'], [0]), (['Burger', 'Fries'], [0]), (['Tacos', 'Pizza'], [1]), (['Fries', 'Tacos'], [0]), (['Fries', 'Hotdog'], [0]), (['Burger', 'Fries'], [0]), (['Hotdog', 'Pizza'], [0]), (['Pizza', 'Fries'], [0]), (['Burger', 'Tacos'], [0]), (['Burger', 'Hotdog'], [0]), (['Fries', 'Pizza'], [0]), (['Fries', 'Burger'], [0]), (['Hotdog', 'Fries'], [0]), (['Burger', 'Fries'], [0]), (['Pizza', 'Hotdog'], [0]), (['Tacos', 'Pizza'], [1]), (['Tacos', 'Pizza'], [1]), (['Burger', 'Hotdog'], [0]), (['Pizza', 'Tacos'], [1])]\n"
     ]
    }
   ],
   "source": [
    "x = []\n",
    "y = []\n",
    "for i in range(50):\n",
    "    s = getSample()  \n",
    "    r = getRating(s, TARGET)\n",
    "    x.append(s)\n",
    "    y.append(r)\n",
    "\n",
    "z = list(zip(x, y))\n",
    "print(z)\n",
    "\n"
   ]
  },
  {
   "cell_type": "code",
   "execution_count": 27,
   "metadata": {},
   "outputs": [
    {
     "name": "stdout",
     "output_type": "stream",
     "text": [
      "We are looking for ['Pizza', 'Tacos']\n",
      "I guess it's ('Tacos', 'Pizza')\n"
     ]
    }
   ],
   "source": [
    "\n",
    "\n",
    "from bolib.Dimension import DiscreteDimension\n",
    "\n",
    "\n",
    "x0 = DiscreteDimension(elements=SPACE, name=\"Fastfood\")\n",
    "x1 = DiscreteDimension(elements=SPACE, name=\"Fastfood\")\n",
    "ranking_y = NumericDimension(min=0, max=2, name=\"Ranking\")\n",
    "\n",
    "compSpace = ComputeSpace([x0, x1], [ranking_y])\n",
    "\n",
    "#compSpace = ComputeSpace([x0], [ranking_y])\n",
    "\n",
    "compSpace.add_values(xs = x, ys=y)    \n",
    "bo = Bo(compSpace)\n",
    "inf = bo.infer()\n",
    "denorm = compSpace.denormalize(inf)\n",
    "#print(inf)\n",
    "#print(denorm)\n",
    "#print(denorm[0].value)#, denorm[1].value)\n",
    "print(f\"We are looking for {TARGET}\")\n",
    "print(f\"I guess it's {denorm[0].value, denorm[1].value}\")"
   ]
  }
 ],
 "metadata": {
  "kernelspec": {
   "display_name": ".venv",
   "language": "python",
   "name": "python3"
  },
  "language_info": {
   "codemirror_mode": {
    "name": "ipython",
    "version": 3
   },
   "file_extension": ".py",
   "mimetype": "text/x-python",
   "name": "python",
   "nbconvert_exporter": "python",
   "pygments_lexer": "ipython3",
   "version": "3.11.5"
  }
 },
 "nbformat": 4,
 "nbformat_minor": 2
}
