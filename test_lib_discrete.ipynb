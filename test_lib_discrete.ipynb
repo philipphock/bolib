{
 "cells": [
  {
   "cell_type": "code",
   "execution_count": 9,
   "metadata": {},
   "outputs": [],
   "source": [
    "import random\n",
    "from bolib.Bo import Bo\n",
    "from bolib.Dimension import NumericDimension\n",
    "from bolib.ComputeSpace import ComputeSpace\n",
    "\n"
   ]
  },
  {
   "cell_type": "code",
   "execution_count": 10,
   "metadata": {},
   "outputs": [
    {
     "data": {
      "text/plain": [
       "['Burger', 'Hotdog']"
      ]
     },
     "execution_count": 10,
     "metadata": {},
     "output_type": "execute_result"
    }
   ],
   "source": [
    "SPACE = ['Pizza', 'Burger', 'Hotdog', 'Fries', 'Tacos']\n",
    "TARGET = [SPACE[1], SPACE[2]]\n",
    "TARGET"
   ]
  },
  {
   "cell_type": "code",
   "execution_count": 11,
   "metadata": {},
   "outputs": [],
   "source": [
    "\n",
    "def getSample():\n",
    "    return random.sample(SPACE, 2)\n",
    "\n",
    "def getRating(v, target):\n",
    "    return [sum([1 if target[0] in v else 0, 1 if target[1] in v else 0])]   \n"
   ]
  },
  {
   "cell_type": "code",
   "execution_count": 12,
   "metadata": {},
   "outputs": [
    {
     "name": "stdout",
     "output_type": "stream",
     "text": [
      "['Pizza', 'Burger']\n"
     ]
    },
    {
     "data": {
      "text/plain": [
       "[10]"
      ]
     },
     "execution_count": 12,
     "metadata": {},
     "output_type": "execute_result"
    }
   ],
   "source": [
    "s = getSample()\n",
    "print(s)\n",
    "getRating(s, TARGET)\n"
   ]
  },
  {
   "cell_type": "code",
   "execution_count": 13,
   "metadata": {},
   "outputs": [
    {
     "name": "stdout",
     "output_type": "stream",
     "text": [
      "[(['Fries', 'Burger'], [10]), (['Pizza', 'Tacos'], [0]), (['Tacos', 'Pizza'], [0]), (['Pizza', 'Burger'], [10]), (['Burger', 'Fries'], [10]), (['Burger', 'Tacos'], [10]), (['Tacos', 'Hotdog'], [10]), (['Hotdog', 'Burger'], [20]), (['Tacos', 'Fries'], [0]), (['Hotdog', 'Tacos'], [10]), (['Burger', 'Tacos'], [10]), (['Burger', 'Hotdog'], [20]), (['Fries', 'Burger'], [10]), (['Hotdog', 'Pizza'], [10]), (['Pizza', 'Hotdog'], [10]), (['Tacos', 'Pizza'], [0]), (['Tacos', 'Fries'], [0]), (['Fries', 'Hotdog'], [10]), (['Tacos', 'Pizza'], [0]), (['Pizza', 'Fries'], [0]), (['Burger', 'Tacos'], [10]), (['Pizza', 'Hotdog'], [10]), (['Burger', 'Hotdog'], [20]), (['Tacos', 'Burger'], [10]), (['Burger', 'Fries'], [10]), (['Tacos', 'Hotdog'], [10]), (['Hotdog', 'Tacos'], [10]), (['Pizza', 'Tacos'], [0]), (['Tacos', 'Burger'], [10]), (['Pizza', 'Tacos'], [0]), (['Burger', 'Pizza'], [10]), (['Pizza', 'Hotdog'], [10]), (['Burger', 'Hotdog'], [20]), (['Fries', 'Burger'], [10]), (['Hotdog', 'Fries'], [10]), (['Pizza', 'Hotdog'], [10]), (['Burger', 'Fries'], [10]), (['Hotdog', 'Fries'], [10]), (['Fries', 'Pizza'], [0]), (['Hotdog', 'Pizza'], [10]), (['Hotdog', 'Burger'], [20]), (['Fries', 'Tacos'], [0]), (['Pizza', 'Tacos'], [0]), (['Burger', 'Fries'], [10]), (['Burger', 'Fries'], [10]), (['Hotdog', 'Burger'], [20]), (['Fries', 'Tacos'], [0]), (['Tacos', 'Pizza'], [0]), (['Tacos', 'Hotdog'], [10]), (['Pizza', 'Fries'], [0])]\n"
     ]
    }
   ],
   "source": [
    "x = []\n",
    "y = []\n",
    "for i in range(50):\n",
    "    s = getSample()  \n",
    "    r = getRating(s, TARGET)\n",
    "    x.append(s)\n",
    "    y.append(r)\n",
    "\n",
    "z = list(zip(x, y))\n",
    "print(z)\n",
    "\n"
   ]
  },
  {
   "cell_type": "code",
   "execution_count": 16,
   "metadata": {},
   "outputs": [
    {
     "name": "stdout",
     "output_type": "stream",
     "text": [
      "[0.2847680151462555, 0.28476741909980774]\n",
      "       name   value                                  space  normalized\n",
      "0  Fastfood  Burger  [Pizza, Burger, Hotdog, Fries, Tacos]         0.2\n",
      "\n",
      "       name   value                                  space  normalized\n",
      "0  Fastfood  Burger  [Pizza, Burger, Hotdog, Fries, Tacos]         0.2\n",
      "Burger Burger\n"
     ]
    }
   ],
   "source": [
    "\n",
    "\n",
    "from bolib.Dimension import DiscreteDimension\n",
    "\n",
    "\n",
    "x0 = DiscreteDimension(elements=SPACE, name=\"Fastfood\")\n",
    "x1 = DiscreteDimension(elements=SPACE, name=\"Fastfood\")\n",
    "ranking_y = NumericDimension(min=0, max=2, name=\"Ranking\")\n",
    "\n",
    "compSpace = ComputeSpace([x0, x1], [ranking_y])\n",
    "\n",
    "compSpace.add_values(xs = x, ys=y)    \n",
    "bo = Bo(compSpace)\n",
    "inf = bo.infer()\n",
    "denorm = compSpace.denormalize(inf)\n",
    "print(inf)\n",
    "print(denorm)\n",
    "print(denorm[0].value, denorm[1].value)"
   ]
  },
  {
   "cell_type": "code",
   "execution_count": 15,
   "metadata": {},
   "outputs": [
    {
     "data": {
      "text/plain": [
       "      name  value    space  normalized\n",
       "0  Ranking     10  (0, 20)         0.5\n",
       "\n",
       "      name  value    space  normalized\n",
       "0  Ranking      0  (0, 20)         0.0\n",
       "\n",
       "      name  value    space  normalized\n",
       "0  Ranking      0  (0, 20)         0.0\n",
       "\n",
       "      name  value    space  normalized\n",
       "0  Ranking     10  (0, 20)         0.5\n",
       "\n",
       "      name  value    space  normalized\n",
       "0  Ranking     10  (0, 20)         0.5\n",
       "\n",
       "      name  value    space  normalized\n",
       "0  Ranking     10  (0, 20)         0.5\n",
       "\n",
       "      name  value    space  normalized\n",
       "0  Ranking     10  (0, 20)         0.5\n",
       "\n",
       "      name  value    space  normalized\n",
       "0  Ranking     20  (0, 20)         1.0\n",
       "\n",
       "      name  value    space  normalized\n",
       "0  Ranking      0  (0, 20)         0.0\n",
       "\n",
       "      name  value    space  normalized\n",
       "0  Ranking     10  (0, 20)         0.5\n",
       "\n",
       "      name  value    space  normalized\n",
       "0  Ranking     10  (0, 20)         0.5\n",
       "\n",
       "      name  value    space  normalized\n",
       "0  Ranking     20  (0, 20)         1.0\n",
       "\n",
       "      name  value    space  normalized\n",
       "0  Ranking     10  (0, 20)         0.5\n",
       "\n",
       "      name  value    space  normalized\n",
       "0  Ranking     10  (0, 20)         0.5\n",
       "\n",
       "      name  value    space  normalized\n",
       "0  Ranking     10  (0, 20)         0.5\n",
       "\n",
       "      name  value    space  normalized\n",
       "0  Ranking      0  (0, 20)         0.0\n",
       "\n",
       "      name  value    space  normalized\n",
       "0  Ranking      0  (0, 20)         0.0\n",
       "\n",
       "      name  value    space  normalized\n",
       "0  Ranking     10  (0, 20)         0.5\n",
       "\n",
       "      name  value    space  normalized\n",
       "0  Ranking      0  (0, 20)         0.0\n",
       "\n",
       "      name  value    space  normalized\n",
       "0  Ranking      0  (0, 20)         0.0\n",
       "\n",
       "      name  value    space  normalized\n",
       "0  Ranking     10  (0, 20)         0.5\n",
       "\n",
       "      name  value    space  normalized\n",
       "0  Ranking     10  (0, 20)         0.5\n",
       "\n",
       "      name  value    space  normalized\n",
       "0  Ranking     20  (0, 20)         1.0\n",
       "\n",
       "      name  value    space  normalized\n",
       "0  Ranking     10  (0, 20)         0.5\n",
       "\n",
       "      name  value    space  normalized\n",
       "0  Ranking     10  (0, 20)         0.5\n",
       "\n",
       "      name  value    space  normalized\n",
       "0  Ranking     10  (0, 20)         0.5\n",
       "\n",
       "      name  value    space  normalized\n",
       "0  Ranking     10  (0, 20)         0.5\n",
       "\n",
       "      name  value    space  normalized\n",
       "0  Ranking      0  (0, 20)         0.0\n",
       "\n",
       "      name  value    space  normalized\n",
       "0  Ranking     10  (0, 20)         0.5\n",
       "\n",
       "      name  value    space  normalized\n",
       "0  Ranking      0  (0, 20)         0.0\n",
       "\n",
       "      name  value    space  normalized\n",
       "0  Ranking     10  (0, 20)         0.5\n",
       "\n",
       "      name  value    space  normalized\n",
       "0  Ranking     10  (0, 20)         0.5\n",
       "\n",
       "      name  value    space  normalized\n",
       "0  Ranking     20  (0, 20)         1.0\n",
       "\n",
       "      name  value    space  normalized\n",
       "0  Ranking     10  (0, 20)         0.5\n",
       "\n",
       "      name  value    space  normalized\n",
       "0  Ranking     10  (0, 20)         0.5\n",
       "\n",
       "      name  value    space  normalized\n",
       "0  Ranking     10  (0, 20)         0.5\n",
       "\n",
       "      name  value    space  normalized\n",
       "0  Ranking     10  (0, 20)         0.5\n",
       "\n",
       "      name  value    space  normalized\n",
       "0  Ranking     10  (0, 20)         0.5\n",
       "\n",
       "      name  value    space  normalized\n",
       "0  Ranking      0  (0, 20)         0.0\n",
       "\n",
       "      name  value    space  normalized\n",
       "0  Ranking     10  (0, 20)         0.5\n",
       "\n",
       "      name  value    space  normalized\n",
       "0  Ranking     20  (0, 20)         1.0\n",
       "\n",
       "      name  value    space  normalized\n",
       "0  Ranking      0  (0, 20)         0.0\n",
       "\n",
       "      name  value    space  normalized\n",
       "0  Ranking      0  (0, 20)         0.0\n",
       "\n",
       "      name  value    space  normalized\n",
       "0  Ranking     10  (0, 20)         0.5\n",
       "\n",
       "      name  value    space  normalized\n",
       "0  Ranking     10  (0, 20)         0.5\n",
       "\n",
       "      name  value    space  normalized\n",
       "0  Ranking     20  (0, 20)         1.0\n",
       "\n",
       "      name  value    space  normalized\n",
       "0  Ranking      0  (0, 20)         0.0\n",
       "\n",
       "      name  value    space  normalized\n",
       "0  Ranking      0  (0, 20)         0.0\n",
       "\n",
       "      name  value    space  normalized\n",
       "0  Ranking     10  (0, 20)         0.5\n",
       "\n",
       "      name  value    space  normalized\n",
       "0  Ranking      0  (0, 20)         0.0"
      ]
     },
     "execution_count": 15,
     "metadata": {},
     "output_type": "execute_result"
    }
   ],
   "source": [
    "compSpace._y_data"
   ]
  }
 ],
 "metadata": {
  "kernelspec": {
   "display_name": ".venv",
   "language": "python",
   "name": "python3"
  },
  "language_info": {
   "codemirror_mode": {
    "name": "ipython",
    "version": 3
   },
   "file_extension": ".py",
   "mimetype": "text/x-python",
   "name": "python",
   "nbconvert_exporter": "python",
   "pygments_lexer": "ipython3",
   "version": "3.10.9"
  }
 },
 "nbformat": 4,
 "nbformat_minor": 2
}
