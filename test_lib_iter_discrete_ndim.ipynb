{
 "cells": [
  {
   "cell_type": "code",
   "execution_count": 1,
   "metadata": {},
   "outputs": [
    {
     "name": "stderr",
     "output_type": "stream",
     "text": [
      "c:\\Users\\phili\\Documents\\workspace\\botorch\\botorch_contrast\\.venv\\Lib\\site-packages\\tqdm\\auto.py:21: TqdmWarning: IProgress not found. Please update jupyter and ipywidgets. See https://ipywidgets.readthedocs.io/en/stable/user_install.html\n",
      "  from .autonotebook import tqdm as notebook_tqdm\n"
     ]
    }
   ],
   "source": [
    "import random\n",
    "from bolib.Bo import Bo\n",
    "from bolib.Dimension import NumericDimension\n",
    "from bolib.ComputeSpace import ComputeSpace\n",
    "from bolib.Normalizer import OptimizeFor\n",
    "import pandas as pd\n",
    "from IPython.display import clear_output\n",
    "import numpy as np"
   ]
  },
  {
   "cell_type": "code",
   "execution_count": 2,
   "metadata": {},
   "outputs": [],
   "source": [
    "blackbox_dims = 10"
   ]
  },
  {
   "cell_type": "code",
   "execution_count": 3,
   "metadata": {},
   "outputs": [
    {
     "data": {
      "text/html": [
       "<div>\n",
       "<style scoped>\n",
       "    .dataframe tbody tr th:only-of-type {\n",
       "        vertical-align: middle;\n",
       "    }\n",
       "\n",
       "    .dataframe tbody tr th {\n",
       "        vertical-align: top;\n",
       "    }\n",
       "\n",
       "    .dataframe thead th {\n",
       "        text-align: right;\n",
       "    }\n",
       "</style>\n",
       "<table border=\"1\" class=\"dataframe\">\n",
       "  <thead>\n",
       "    <tr style=\"text-align: right;\">\n",
       "      <th></th>\n",
       "      <th>guess</th>\n",
       "      <th>rating</th>\n",
       "      <th>target</th>\n",
       "    </tr>\n",
       "  </thead>\n",
       "  <tbody>\n",
       "    <tr>\n",
       "      <th>0</th>\n",
       "      <td>[9, 18, 20, 34, 42, 53, 60, 72, 82, 98]</td>\n",
       "      <td>[1]</td>\n",
       "      <td>[6, 11, 23, 32, 49, 51, 67, 77, 83, 98]</td>\n",
       "    </tr>\n",
       "  </tbody>\n",
       "</table>\n",
       "</div>"
      ],
      "text/plain": [
       "                                     guess rating  \\\n",
       "0  [9, 18, 20, 34, 42, 53, 60, 72, 82, 98]    [1]   \n",
       "\n",
       "                                    target  \n",
       "0  [6, 11, 23, 32, 49, 51, 67, 77, 83, 98]  "
      ]
     },
     "execution_count": 3,
     "metadata": {},
     "output_type": "execute_result"
    }
   ],
   "source": [
    "\n",
    "def getRating(v, target):    \n",
    "    return [sum([1 for i in v if i in target])]\n",
    "    \n",
    "def getSample(TARGET = None):\n",
    "    s = [random.randint(i*10, i*10+9) for i in range(blackbox_dims)]\n",
    "\n",
    "    if TARGET is not None:\n",
    "        \n",
    "        r= getRating(s, TARGET)\n",
    "        return [s, r]\n",
    "    return s\n",
    "\n",
    "\n",
    "TARGET = getSample()\n",
    "\n",
    "s, r = getSample(TARGET)\n",
    "pd.DataFrame([[s, r, TARGET]], columns=[\"guess\", \"rating\", \"target\"])  "
   ]
  },
  {
   "cell_type": "code",
   "execution_count": 4,
   "metadata": {},
   "outputs": [
    {
     "data": {
      "text/plain": [
       "[3, 14, 23, 33, 40, 50, 68, 72, 88, 93]"
      ]
     },
     "execution_count": 4,
     "metadata": {},
     "output_type": "execute_result"
    }
   ],
   "source": [
    "[ [i*10+j for j in range(10)] for i in range(blackbox_dims) ]\n",
    "s = [random.randint(i*10, i*10+9) for i in range(blackbox_dims)]\n",
    "s"
   ]
  },
  {
   "cell_type": "code",
   "execution_count": 5,
   "metadata": {},
   "outputs": [],
   "source": [
    "from bolib.Dimension import DiscreteDimension\n",
    "\n",
    "\n",
    "numerics = [ DiscreteDimension(elements=[i*10+j for j in range(10)]  ,name=f\"p{i}\") for i in range(blackbox_dims) ]\n",
    "ranking = [ NumericDimension(min=0, max=10, name=\"Ranking\", optimize_for=OptimizeFor.MIN) ]\n",
    "\n",
    "\n",
    "\n",
    "def infer(x, y, bo, cs):  \n",
    "  cs.add_values(xs = [x], ys=[y])   \n",
    "\n",
    "  inf = bo.infer()\n",
    "  denorm = cs.denormalize(inf)\n",
    "  return [d.value for d in denorm]\n",
    "\n",
    "\n",
    "\n"
   ]
  },
  {
   "cell_type": "code",
   "execution_count": 6,
   "metadata": {},
   "outputs": [
    {
     "name": "stdout",
     "output_type": "stream",
     "text": [
      "[0, 1, 2, 3, 4, 5, 6, 7, 8, 9]\n",
      "[10, 11, 12, 13, 14, 15, 16, 17, 18, 19]\n",
      "[20, 21, 22, 23, 24, 25, 26, 27, 28, 29]\n",
      "[30, 31, 32, 33, 34, 35, 36, 37, 38, 39]\n",
      "[40, 41, 42, 43, 44, 45, 46, 47, 48, 49]\n",
      "[50, 51, 52, 53, 54, 55, 56, 57, 58, 59]\n",
      "[60, 61, 62, 63, 64, 65, 66, 67, 68, 69]\n",
      "[70, 71, 72, 73, 74, 75, 76, 77, 78, 79]\n",
      "[80, 81, 82, 83, 84, 85, 86, 87, 88, 89]\n",
      "[90, 91, 92, 93, 94, 95, 96, 97, 98, 99]\n"
     ]
    }
   ],
   "source": [
    "for i in numerics:\n",
    "  print(i._elements)"
   ]
  },
  {
   "cell_type": "code",
   "execution_count": 7,
   "metadata": {},
   "outputs": [
    {
     "name": "stdout",
     "output_type": "stream",
     "text": [
      "                                      guess rating  \\\n",
      "0   [3, 14, 23, 33, 40, 50, 68, 72, 88, 93]    [1]   \n",
      "1   [3, 19, 29, 31, 44, 58, 60, 79, 83, 99]    [1]   \n",
      "2   [7, 18, 20, 33, 49, 59, 69, 79, 88, 92]    [1]   \n",
      "3   [9, 12, 28, 39, 49, 59, 61, 71, 88, 92]    [3]   \n",
      "4   [7, 13, 28, 32, 40, 59, 67, 70, 81, 98]    [2]   \n",
      "5   [6, 17, 21, 33, 47, 56, 68, 77, 88, 92]    [1]   \n",
      "6   [9, 19, 20, 33, 49, 59, 69, 79, 88, 92]    [1]   \n",
      "7   [7, 19, 20, 33, 49, 59, 69, 79, 88, 92]    [0]   \n",
      "8   [1, 13, 23, 36, 49, 50, 63, 74, 85, 94]    [1]   \n",
      "9   [0, 12, 24, 37, 49, 50, 62, 73, 85, 94]    [1]   \n",
      "10  [2, 14, 22, 35, 49, 50, 64, 75, 85, 94]    [1]   \n",
      "11  [1, 13, 23, 36, 48, 50, 63, 73, 85, 94]    [1]   \n",
      "12  [0, 12, 24, 37, 49, 50, 62, 74, 85, 94]    [2]   \n",
      "13  [1, 13, 23, 36, 49, 50, 63, 74, 85, 94]    [0]   \n",
      "14  [8, 16, 21, 32, 41, 52, 68, 79, 84, 92]    [3]   \n",
      "15  [8, 16, 21, 32, 40, 51, 68, 79, 83, 92]    [1]   \n",
      "16  [9, 16, 21, 32, 42, 54, 68, 79, 86, 92]    [0]   \n",
      "17  [6, 14, 24, 30, 45, 58, 69, 78, 81, 94]    [2]   \n",
      "18  [6, 14, 23, 30, 45, 58, 69, 79, 81, 94]    [1]   \n",
      "19  [6, 14, 27, 30, 46, 58, 69, 76, 81, 93]    [2]   \n",
      "20  [8, 15, 26, 30, 44, 56, 69, 77, 83, 93]    [0]   \n",
      "21  [9, 19, 23, 36, 46, 59, 65, 77, 84, 93]    [1]   \n",
      "22  [9, 19, 23, 36, 46, 59, 65, 78, 84, 93]    [1]   \n",
      "23  [9, 19, 23, 36, 46, 59, 65, 75, 84, 93]    [2]   \n",
      "24  [9, 19, 22, 37, 49, 59, 66, 77, 84, 93]    [2]   \n",
      "25  [8, 15, 23, 32, 46, 57, 69, 74, 81, 92]    [0]   \n",
      "26  [5, 18, 26, 38, 48, 53, 63, 75, 87, 90]    [0]   \n",
      "27  [6, 12, 22, 37, 40, 50, 66, 78, 82, 90]    [0]   \n",
      "28  [0, 13, 20, 31, 42, 50, 67, 71, 81, 97]    [0]   \n",
      "29  [3, 12, 29, 30, 42, 50, 60, 74, 80, 94]    [0]   \n",
      "30  [3, 10, 23, 33, 43, 51, 68, 70, 87, 99]    [4]   \n",
      "31  [1, 12, 21, 32, 42, 50, 67, 71, 83, 98]    [0]   \n",
      "32  [9, 17, 23, 35, 41, 58, 63, 70, 86, 95]    [1]   \n",
      "33  [9, 18, 23, 36, 42, 58, 63, 71, 86, 94]    [0]   \n",
      "34  [6, 18, 25, 36, 46, 56, 63, 75, 83, 90]    [1]   \n",
      "35  [6, 18, 26, 37, 47, 55, 63, 75, 85, 90]    [2]   \n",
      "36  [6, 18, 24, 36, 44, 57, 62, 75, 83, 91]    [0]   \n",
      "37  [4, 15, 28, 34, 44, 57, 65, 74, 84, 96]    [1]   \n",
      "38  [3, 12, 29, 31, 43, 51, 60, 74, 80, 94]    [0]   \n",
      "39  [0, 12, 25, 36, 41, 58, 66, 73, 83, 94]    [0]   \n",
      "40  [4, 10, 26, 39, 48, 55, 61, 77, 88, 95]    [0]   \n",
      "41  [9, 14, 23, 37, 41, 59, 67, 70, 85, 98]    [1]   \n",
      "42  [9, 15, 23, 36, 41, 59, 65, 70, 86, 97]    [0]   \n",
      "43  [3, 16, 26, 30, 47, 56, 64, 71, 88, 98]    [0]   \n",
      "44  [0, 14, 25, 35, 41, 56, 65, 76, 84, 98]    [0]   \n",
      "45  [5, 15, 26, 32, 41, 59, 60, 73, 86, 95]    [0]   \n",
      "46  [3, 12, 26, 34, 40, 50, 67, 73, 82, 96]    [0]   \n",
      "47  [6, 13, 28, 33, 49, 55, 66, 79, 86, 90]    [0]   \n",
      "48  [3, 13, 22, 34, 41, 55, 68, 79, 84, 91]    [0]   \n",
      "49  [6, 11, 22, 37, 44, 53, 64, 77, 88, 90]    [0]   \n",
      "\n",
      "                                     target  \n",
      "0   [6, 11, 23, 32, 49, 51, 67, 77, 83, 98]  \n",
      "1   [6, 11, 23, 32, 49, 51, 67, 77, 83, 98]  \n",
      "2   [6, 11, 23, 32, 49, 51, 67, 77, 83, 98]  \n",
      "3   [6, 11, 23, 32, 49, 51, 67, 77, 83, 98]  \n",
      "4   [6, 11, 23, 32, 49, 51, 67, 77, 83, 98]  \n",
      "5   [6, 11, 23, 32, 49, 51, 67, 77, 83, 98]  \n",
      "6   [6, 11, 23, 32, 49, 51, 67, 77, 83, 98]  \n",
      "7   [6, 11, 23, 32, 49, 51, 67, 77, 83, 98]  \n",
      "8   [6, 11, 23, 32, 49, 51, 67, 77, 83, 98]  \n",
      "9   [6, 11, 23, 32, 49, 51, 67, 77, 83, 98]  \n",
      "10  [6, 11, 23, 32, 49, 51, 67, 77, 83, 98]  \n",
      "11  [6, 11, 23, 32, 49, 51, 67, 77, 83, 98]  \n",
      "12  [6, 11, 23, 32, 49, 51, 67, 77, 83, 98]  \n",
      "13  [6, 11, 23, 32, 49, 51, 67, 77, 83, 98]  \n",
      "14  [6, 11, 23, 32, 49, 51, 67, 77, 83, 98]  \n",
      "15  [6, 11, 23, 32, 49, 51, 67, 77, 83, 98]  \n",
      "16  [6, 11, 23, 32, 49, 51, 67, 77, 83, 98]  \n",
      "17  [6, 11, 23, 32, 49, 51, 67, 77, 83, 98]  \n",
      "18  [6, 11, 23, 32, 49, 51, 67, 77, 83, 98]  \n",
      "19  [6, 11, 23, 32, 49, 51, 67, 77, 83, 98]  \n",
      "20  [6, 11, 23, 32, 49, 51, 67, 77, 83, 98]  \n",
      "21  [6, 11, 23, 32, 49, 51, 67, 77, 83, 98]  \n",
      "22  [6, 11, 23, 32, 49, 51, 67, 77, 83, 98]  \n",
      "23  [6, 11, 23, 32, 49, 51, 67, 77, 83, 98]  \n",
      "24  [6, 11, 23, 32, 49, 51, 67, 77, 83, 98]  \n",
      "25  [6, 11, 23, 32, 49, 51, 67, 77, 83, 98]  \n",
      "26  [6, 11, 23, 32, 49, 51, 67, 77, 83, 98]  \n",
      "27  [6, 11, 23, 32, 49, 51, 67, 77, 83, 98]  \n",
      "28  [6, 11, 23, 32, 49, 51, 67, 77, 83, 98]  \n",
      "29  [6, 11, 23, 32, 49, 51, 67, 77, 83, 98]  \n",
      "30  [6, 11, 23, 32, 49, 51, 67, 77, 83, 98]  \n",
      "31  [6, 11, 23, 32, 49, 51, 67, 77, 83, 98]  \n",
      "32  [6, 11, 23, 32, 49, 51, 67, 77, 83, 98]  \n",
      "33  [6, 11, 23, 32, 49, 51, 67, 77, 83, 98]  \n",
      "34  [6, 11, 23, 32, 49, 51, 67, 77, 83, 98]  \n",
      "35  [6, 11, 23, 32, 49, 51, 67, 77, 83, 98]  \n",
      "36  [6, 11, 23, 32, 49, 51, 67, 77, 83, 98]  \n",
      "37  [6, 11, 23, 32, 49, 51, 67, 77, 83, 98]  \n",
      "38  [6, 11, 23, 32, 49, 51, 67, 77, 83, 98]  \n",
      "39  [6, 11, 23, 32, 49, 51, 67, 77, 83, 98]  \n",
      "40  [6, 11, 23, 32, 49, 51, 67, 77, 83, 98]  \n",
      "41  [6, 11, 23, 32, 49, 51, 67, 77, 83, 98]  \n",
      "42  [6, 11, 23, 32, 49, 51, 67, 77, 83, 98]  \n",
      "43  [6, 11, 23, 32, 49, 51, 67, 77, 83, 98]  \n",
      "44  [6, 11, 23, 32, 49, 51, 67, 77, 83, 98]  \n",
      "45  [6, 11, 23, 32, 49, 51, 67, 77, 83, 98]  \n",
      "46  [6, 11, 23, 32, 49, 51, 67, 77, 83, 98]  \n",
      "47  [6, 11, 23, 32, 49, 51, 67, 77, 83, 98]  \n",
      "48  [6, 11, 23, 32, 49, 51, 67, 77, 83, 98]  \n",
      "49  [6, 11, 23, 32, 49, 51, 67, 77, 83, 98]  \n",
      "I think it is [1, 12, 21, 32, 42, 50, 67, 71, 83, 98] with a rating of 4\n"
     ]
    }
   ],
   "source": [
    "compSpace = ComputeSpace(numerics, ranking)\n",
    "bo = Bo(compSpace)\n",
    "\n",
    "last_rating = 0\n",
    "last_guess = None\n",
    "best_guess = None\n",
    "best_rating = None\n",
    "print(f\"We are looking for {TARGET}\")\n",
    "\n",
    "df_cols = [\"guess\", \"rating\", \"target\"]\n",
    "df = pd.DataFrame([], columns=df_cols)  \n",
    "\n",
    "for i in range(50):\n",
    "  last_rating = r[0]\n",
    "  last_guess = s\n",
    "  \n",
    "  \n",
    "  guess = infer(s,r, bo, compSpace)  \n",
    "  print(\"guess\", guess)\n",
    "  r = getRating(guess, TARGET)\n",
    "\n",
    "  if r[0] == 0:\n",
    "    guess = getSample()\n",
    "\n",
    "  tdf = pd.DataFrame([[s, r, TARGET]], columns=df_cols)  \n",
    "  \n",
    "  df = pd.concat([df, tdf], axis=0).reset_index(drop=True)\n",
    "  \n",
    "  clear_output(wait=True)\n",
    "\n",
    "  print(df)\n",
    "\n",
    "  \n",
    "  #if r[0] == 2 \n",
    "  \"\"\"\n",
    "  if r[0] < 0.15:\n",
    "    print(f\"Found it in {i} steps: {guess}\")\n",
    "    break\n",
    "  \"\"\"\n",
    "  if best_guess is None:\n",
    "    best_rating = r[0]\n",
    "    best_guess = guess\n",
    "\n",
    "  if r[0] > best_rating:\n",
    "    best_guess = guess\n",
    "    best_rating = r[0]\n",
    "  s = guess\n",
    "\n",
    "print(f\"I think it is {best_guess} with a rating of {best_rating}\")\n",
    "\n",
    "\n",
    "  \n",
    "\n",
    "\n",
    "  \n",
    "\n"
   ]
  },
  {
   "cell_type": "code",
   "execution_count": 8,
   "metadata": {},
   "outputs": [
    {
     "name": "stdout",
     "output_type": "stream",
     "text": [
      "I think it is \n",
      "[1, 12, 21, 32, 42, 50, 67, 71, 83, 98] with a rating of 4\n",
      "[6, 11, 23, 32, 49, 51, 67, 77, 83, 98]\n"
     ]
    }
   ],
   "source": [
    "print(f\"I think it is \\n{best_guess} with a rating of {best_rating}\")\n",
    "print(TARGET)\n"
   ]
  },
  {
   "cell_type": "code",
   "execution_count": 17,
   "metadata": {},
   "outputs": [
    {
     "data": {
      "text/plain": [
       "  name  value                                     space  normalized\n",
       "0   p0      6            [0, 1, 2, 3, 4, 5, 6, 7, 8, 9]         0.6\n",
       "1   p1     17  [10, 11, 12, 13, 14, 15, 16, 17, 18, 19]         0.7\n",
       "2   p2     21  [20, 21, 22, 23, 24, 25, 26, 27, 28, 29]         0.1\n",
       "3   p3     33  [30, 31, 32, 33, 34, 35, 36, 37, 38, 39]         0.3\n",
       "4   p4     47  [40, 41, 42, 43, 44, 45, 46, 47, 48, 49]         0.7\n",
       "5   p5     56  [50, 51, 52, 53, 54, 55, 56, 57, 58, 59]         0.6\n",
       "6   p6     68  [60, 61, 62, 63, 64, 65, 66, 67, 68, 69]         0.8\n",
       "7   p7     77  [70, 71, 72, 73, 74, 75, 76, 77, 78, 79]         0.7\n",
       "8   p8     88  [80, 81, 82, 83, 84, 85, 86, 87, 88, 89]         0.8\n",
       "9   p9     92  [90, 91, 92, 93, 94, 95, 96, 97, 98, 99]         0.2"
      ]
     },
     "execution_count": 17,
     "metadata": {},
     "output_type": "execute_result"
    }
   ],
   "source": []
  }
 ],
 "metadata": {
  "kernelspec": {
   "display_name": ".venv",
   "language": "python",
   "name": "python3"
  },
  "language_info": {
   "codemirror_mode": {
    "name": "ipython",
    "version": 3
   },
   "file_extension": ".py",
   "mimetype": "text/x-python",
   "name": "python",
   "nbconvert_exporter": "python",
   "pygments_lexer": "ipython3",
   "version": "3.11.5"
  }
 },
 "nbformat": 4,
 "nbformat_minor": 2
}
