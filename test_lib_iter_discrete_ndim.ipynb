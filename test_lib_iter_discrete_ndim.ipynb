{
 "cells": [
  {
   "cell_type": "code",
   "execution_count": 1,
   "metadata": {},
   "outputs": [
    {
     "name": "stderr",
     "output_type": "stream",
     "text": [
      "c:\\Users\\phili\\Documents\\workspace\\botorch\\botorch_contrast\\.venv\\Lib\\site-packages\\tqdm\\auto.py:21: TqdmWarning: IProgress not found. Please update jupyter and ipywidgets. See https://ipywidgets.readthedocs.io/en/stable/user_install.html\n",
      "  from .autonotebook import tqdm as notebook_tqdm\n"
     ]
    }
   ],
   "source": [
    "import random\n",
    "from bolib.Bo import Bo\n",
    "from bolib.Dimension import NumericDimension\n",
    "from bolib.ComputeSpace import ComputeSpace\n",
    "from bolib.Normalizer import OptimizeFor\n",
    "import pandas as pd\n",
    "from IPython.display import clear_output\n",
    "import numpy as np"
   ]
  },
  {
   "cell_type": "code",
   "execution_count": 2,
   "metadata": {},
   "outputs": [],
   "source": [
    "blackbox_dims = 10"
   ]
  },
  {
   "cell_type": "code",
   "execution_count": 3,
   "metadata": {},
   "outputs": [
    {
     "data": {
      "text/html": [
       "<div>\n",
       "<style scoped>\n",
       "    .dataframe tbody tr th:only-of-type {\n",
       "        vertical-align: middle;\n",
       "    }\n",
       "\n",
       "    .dataframe tbody tr th {\n",
       "        vertical-align: top;\n",
       "    }\n",
       "\n",
       "    .dataframe thead th {\n",
       "        text-align: right;\n",
       "    }\n",
       "</style>\n",
       "<table border=\"1\" class=\"dataframe\">\n",
       "  <thead>\n",
       "    <tr style=\"text-align: right;\">\n",
       "      <th></th>\n",
       "      <th>guess</th>\n",
       "      <th>rating</th>\n",
       "      <th>target</th>\n",
       "    </tr>\n",
       "  </thead>\n",
       "  <tbody>\n",
       "    <tr>\n",
       "      <th>0</th>\n",
       "      <td>[3, 19, 22, 39, 45, 55, 66, 76, 80, 95]</td>\n",
       "      <td>[3]</td>\n",
       "      <td>[7, 12, 29, 39, 48, 55, 60, 76, 87, 94]</td>\n",
       "    </tr>\n",
       "  </tbody>\n",
       "</table>\n",
       "</div>"
      ],
      "text/plain": [
       "                                     guess rating  \\\n",
       "0  [3, 19, 22, 39, 45, 55, 66, 76, 80, 95]    [3]   \n",
       "\n",
       "                                    target  \n",
       "0  [7, 12, 29, 39, 48, 55, 60, 76, 87, 94]  "
      ]
     },
     "execution_count": 3,
     "metadata": {},
     "output_type": "execute_result"
    }
   ],
   "source": [
    "\n",
    "def getRating(v, target):    \n",
    "    return [sum([1 for i in v if i in target])]\n",
    "    \n",
    "def getSample(TARGET = None):\n",
    "    s = [random.randint(i*10, i*10+9) for i in range(blackbox_dims)]\n",
    "\n",
    "    if TARGET is not None:\n",
    "        \n",
    "        r= getRating(s, TARGET)\n",
    "        return [s, r]\n",
    "    return s\n",
    "\n",
    "\n",
    "TARGET = getSample()\n",
    "\n",
    "s, r = getSample(TARGET)\n",
    "pd.DataFrame([[s, r, TARGET]], columns=[\"guess\", \"rating\", \"target\"])  "
   ]
  },
  {
   "cell_type": "code",
   "execution_count": 4,
   "metadata": {},
   "outputs": [
    {
     "data": {
      "text/plain": [
       "[1, 10, 27, 35, 46, 58, 67, 75, 86, 94]"
      ]
     },
     "execution_count": 4,
     "metadata": {},
     "output_type": "execute_result"
    }
   ],
   "source": [
    "[ [i*10+j for j in range(10)] for i in range(blackbox_dims) ]\n",
    "s = [random.randint(i*10, i*10+9) for i in range(blackbox_dims)]\n",
    "s"
   ]
  },
  {
   "cell_type": "code",
   "execution_count": 5,
   "metadata": {},
   "outputs": [],
   "source": [
    "from bolib.Dimension import DiscreteDimension\n",
    "\n",
    "\n",
    "numerics = [ DiscreteDimension(elements=[i*10+j for j in range(10)]  ,name=f\"p{i}\") for i in range(blackbox_dims) ]\n",
    "ranking = [ NumericDimension(min=0, max=10, name=\"Ranking\", optimize_for=OptimizeFor.MIN) ]\n",
    "\n",
    "\n",
    "\n",
    "def infer(x, y, bo, cs):  \n",
    "  cs.add_values(xs = [x], ys=[y])   \n",
    "\n",
    "  inf = bo.infer()\n",
    "  denorm = cs.denormalize(inf)\n",
    "  return [d.value for d in denorm]\n",
    "\n",
    "\n",
    "\n"
   ]
  },
  {
   "cell_type": "code",
   "execution_count": 6,
   "metadata": {},
   "outputs": [
    {
     "name": "stdout",
     "output_type": "stream",
     "text": [
      "[0, 1, 2, 3, 4, 5, 6, 7, 8, 9]\n",
      "[10, 11, 12, 13, 14, 15, 16, 17, 18, 19]\n",
      "[20, 21, 22, 23, 24, 25, 26, 27, 28, 29]\n",
      "[30, 31, 32, 33, 34, 35, 36, 37, 38, 39]\n",
      "[40, 41, 42, 43, 44, 45, 46, 47, 48, 49]\n",
      "[50, 51, 52, 53, 54, 55, 56, 57, 58, 59]\n",
      "[60, 61, 62, 63, 64, 65, 66, 67, 68, 69]\n",
      "[70, 71, 72, 73, 74, 75, 76, 77, 78, 79]\n",
      "[80, 81, 82, 83, 84, 85, 86, 87, 88, 89]\n",
      "[90, 91, 92, 93, 94, 95, 96, 97, 98, 99]\n"
     ]
    }
   ],
   "source": [
    "for i in numerics:\n",
    "  print(i._elements)"
   ]
  },
  {
   "cell_type": "code",
   "execution_count": 7,
   "metadata": {},
   "outputs": [
    {
     "name": "stdout",
     "output_type": "stream",
     "text": [
      "                                      guess rating  \\\n",
      "0   [1, 10, 27, 35, 46, 58, 67, 75, 86, 94]    [0]   \n",
      "1   [3, 15, 21, 35, 41, 54, 69, 75, 83, 94]    [1]   \n",
      "2   [4, 17, 20, 35, 40, 52, 69, 75, 82, 94]    [1]   \n",
      "3   [2, 14, 20, 35, 40, 56, 69, 75, 83, 94]    [1]   \n",
      "4   [3, 15, 22, 35, 42, 53, 69, 75, 84, 94]    [2]   \n",
      "5   [4, 15, 21, 35, 41, 55, 69, 75, 81, 94]    [1]   \n",
      "6   [2, 16, 20, 35, 40, 53, 69, 75, 84, 94]    [1]   \n",
      "7   [4, 14, 20, 35, 40, 53, 69, 75, 83, 94]    [2]   \n",
      "8   [3, 17, 21, 35, 41, 55, 69, 75, 83, 94]    [1]   \n",
      "9   [1, 14, 21, 35, 41, 53, 69, 75, 83, 94]    [1]   \n",
      "10  [3, 14, 20, 36, 41, 54, 69, 76, 84, 95]    [0]   \n",
      "11  [7, 18, 24, 30, 49, 50, 62, 73, 87, 90]    [3]   \n",
      "12  [7, 18, 23, 30, 48, 50, 62, 73, 87, 90]    [0]   \n",
      "13  [0, 19, 20, 39, 48, 52, 61, 74, 85, 93]    [1]   \n",
      "14  [0, 19, 20, 39, 47, 51, 62, 74, 85, 93]    [2]   \n",
      "15  [0, 19, 20, 39, 49, 53, 60, 74, 85, 93]    [0]   \n",
      "16  [2, 15, 23, 37, 47, 57, 62, 71, 89, 95]    [0]   \n",
      "17  [1, 14, 27, 38, 47, 57, 63, 78, 84, 93]    [0]   \n",
      "18  [7, 10, 26, 30, 44, 56, 61, 70, 84, 92]    [0]   \n",
      "19  [0, 14, 21, 33, 43, 52, 61, 76, 81, 93]    [1]   \n",
      "20  [0, 14, 22, 34, 44, 53, 61, 76, 82, 93]    [2]   \n",
      "21  [7, 10, 25, 30, 43, 56, 60, 70, 83, 92]    [0]   \n",
      "22  [3, 11, 24, 35, 45, 54, 61, 70, 80, 93]    [1]   \n",
      "23  [2, 12, 23, 35, 45, 53, 61, 71, 80, 93]    [0]   \n",
      "24  [8, 14, 25, 31, 41, 56, 67, 71, 84, 97]    [0]   \n",
      "25  [0, 15, 28, 33, 40, 55, 68, 71, 83, 90]    [0]   \n",
      "26  [6, 19, 26, 39, 43, 50, 68, 73, 85, 95]    [1]   \n",
      "27  [6, 19, 27, 39, 43, 50, 67, 72, 85, 95]    [0]   \n",
      "28  [6, 15, 23, 31, 47, 58, 65, 74, 84, 97]    [1]   \n",
      "29  [7, 15, 24, 31, 44, 57, 66, 72, 84, 97]    [0]   \n",
      "30  [0, 18, 28, 34, 47, 59, 62, 74, 83, 98]    [0]   \n",
      "31  [8, 11, 24, 36, 41, 55, 62, 74, 87, 97]    [0]   \n",
      "32  [3, 11, 29, 33, 42, 54, 67, 70, 81, 99]    [1]   \n",
      "33  [5, 12, 28, 32, 41, 54, 67, 70, 82, 98]    [0]   \n",
      "34  [8, 16, 27, 39, 46, 57, 61, 78, 89, 90]    [0]   \n",
      "35  [3, 15, 22, 36, 43, 52, 69, 70, 85, 96]    [0]   \n",
      "36  [3, 15, 27, 35, 44, 57, 66, 72, 87, 91]    [0]   \n",
      "37  [4, 12, 21, 33, 42, 53, 63, 77, 81, 98]    [0]   \n",
      "38  [9, 17, 21, 30, 49, 52, 62, 79, 82, 93]    [0]   \n",
      "39  [2, 19, 29, 33, 45, 55, 60, 79, 85, 97]    [0]   \n",
      "40  [5, 18, 27, 31, 46, 59, 64, 70, 86, 95]    [1]   \n",
      "41  [2, 18, 28, 34, 46, 57, 61, 76, 84, 97]    [2]   \n",
      "42  [4, 17, 27, 33, 46, 58, 64, 70, 87, 94]    [1]   \n",
      "43  [6, 16, 27, 39, 46, 57, 61, 78, 88, 91]    [1]   \n",
      "44  [7, 11, 23, 35, 41, 54, 62, 75, 86, 98]    [1]   \n",
      "45  [1, 15, 28, 34, 41, 55, 67, 71, 84, 90]    [1]   \n",
      "46  [3, 12, 21, 32, 43, 52, 62, 77, 80, 97]    [1]   \n",
      "47  [9, 17, 21, 30, 49, 53, 62, 79, 81, 94]    [2]   \n",
      "48  [2, 19, 29, 33, 45, 54, 60, 79, 85, 97]    [0]   \n",
      "49  [8, 13, 21, 37, 48, 50, 67, 71, 82, 93]    [2]   \n",
      "\n",
      "                                     target  \n",
      "0   [7, 12, 29, 39, 48, 55, 60, 76, 87, 94]  \n",
      "1   [7, 12, 29, 39, 48, 55, 60, 76, 87, 94]  \n",
      "2   [7, 12, 29, 39, 48, 55, 60, 76, 87, 94]  \n",
      "3   [7, 12, 29, 39, 48, 55, 60, 76, 87, 94]  \n",
      "4   [7, 12, 29, 39, 48, 55, 60, 76, 87, 94]  \n",
      "5   [7, 12, 29, 39, 48, 55, 60, 76, 87, 94]  \n",
      "6   [7, 12, 29, 39, 48, 55, 60, 76, 87, 94]  \n",
      "7   [7, 12, 29, 39, 48, 55, 60, 76, 87, 94]  \n",
      "8   [7, 12, 29, 39, 48, 55, 60, 76, 87, 94]  \n",
      "9   [7, 12, 29, 39, 48, 55, 60, 76, 87, 94]  \n",
      "10  [7, 12, 29, 39, 48, 55, 60, 76, 87, 94]  \n",
      "11  [7, 12, 29, 39, 48, 55, 60, 76, 87, 94]  \n",
      "12  [7, 12, 29, 39, 48, 55, 60, 76, 87, 94]  \n",
      "13  [7, 12, 29, 39, 48, 55, 60, 76, 87, 94]  \n",
      "14  [7, 12, 29, 39, 48, 55, 60, 76, 87, 94]  \n",
      "15  [7, 12, 29, 39, 48, 55, 60, 76, 87, 94]  \n",
      "16  [7, 12, 29, 39, 48, 55, 60, 76, 87, 94]  \n",
      "17  [7, 12, 29, 39, 48, 55, 60, 76, 87, 94]  \n",
      "18  [7, 12, 29, 39, 48, 55, 60, 76, 87, 94]  \n",
      "19  [7, 12, 29, 39, 48, 55, 60, 76, 87, 94]  \n",
      "20  [7, 12, 29, 39, 48, 55, 60, 76, 87, 94]  \n",
      "21  [7, 12, 29, 39, 48, 55, 60, 76, 87, 94]  \n",
      "22  [7, 12, 29, 39, 48, 55, 60, 76, 87, 94]  \n",
      "23  [7, 12, 29, 39, 48, 55, 60, 76, 87, 94]  \n",
      "24  [7, 12, 29, 39, 48, 55, 60, 76, 87, 94]  \n",
      "25  [7, 12, 29, 39, 48, 55, 60, 76, 87, 94]  \n",
      "26  [7, 12, 29, 39, 48, 55, 60, 76, 87, 94]  \n",
      "27  [7, 12, 29, 39, 48, 55, 60, 76, 87, 94]  \n",
      "28  [7, 12, 29, 39, 48, 55, 60, 76, 87, 94]  \n",
      "29  [7, 12, 29, 39, 48, 55, 60, 76, 87, 94]  \n",
      "30  [7, 12, 29, 39, 48, 55, 60, 76, 87, 94]  \n",
      "31  [7, 12, 29, 39, 48, 55, 60, 76, 87, 94]  \n",
      "32  [7, 12, 29, 39, 48, 55, 60, 76, 87, 94]  \n",
      "33  [7, 12, 29, 39, 48, 55, 60, 76, 87, 94]  \n",
      "34  [7, 12, 29, 39, 48, 55, 60, 76, 87, 94]  \n",
      "35  [7, 12, 29, 39, 48, 55, 60, 76, 87, 94]  \n",
      "36  [7, 12, 29, 39, 48, 55, 60, 76, 87, 94]  \n",
      "37  [7, 12, 29, 39, 48, 55, 60, 76, 87, 94]  \n",
      "38  [7, 12, 29, 39, 48, 55, 60, 76, 87, 94]  \n",
      "39  [7, 12, 29, 39, 48, 55, 60, 76, 87, 94]  \n",
      "40  [7, 12, 29, 39, 48, 55, 60, 76, 87, 94]  \n",
      "41  [7, 12, 29, 39, 48, 55, 60, 76, 87, 94]  \n",
      "42  [7, 12, 29, 39, 48, 55, 60, 76, 87, 94]  \n",
      "43  [7, 12, 29, 39, 48, 55, 60, 76, 87, 94]  \n",
      "44  [7, 12, 29, 39, 48, 55, 60, 76, 87, 94]  \n",
      "45  [7, 12, 29, 39, 48, 55, 60, 76, 87, 94]  \n",
      "46  [7, 12, 29, 39, 48, 55, 60, 76, 87, 94]  \n",
      "47  [7, 12, 29, 39, 48, 55, 60, 76, 87, 94]  \n",
      "48  [7, 12, 29, 39, 48, 55, 60, 76, 87, 94]  \n",
      "49  [7, 12, 29, 39, 48, 55, 60, 76, 87, 94]  \n",
      "I think it is [7, 18, 23, 30, 48, 50, 62, 73, 87, 90] with a rating of 3\n"
     ]
    }
   ],
   "source": [
    "compSpace = ComputeSpace(numerics, ranking)\n",
    "bo = Bo(compSpace)\n",
    "\n",
    "last_rating = 0\n",
    "last_guess = None\n",
    "best_guess = None\n",
    "best_rating = None\n",
    "print(f\"We are looking for {TARGET}\")\n",
    "\n",
    "df_cols = [\"guess\", \"rating\", \"target\"]\n",
    "df = pd.DataFrame([], columns=df_cols)  \n",
    "\n",
    "for i in range(50):\n",
    "  last_rating = r[0]\n",
    "  last_guess = s\n",
    "  \n",
    "  \n",
    "  guess = infer(s,r, bo, compSpace)  \n",
    "  print(\"guess\", guess)\n",
    "  r = getRating(guess, TARGET)\n",
    "\n",
    "  if r[0] == 0:\n",
    "    guess = getSample()\n",
    "\n",
    "  tdf = pd.DataFrame([[s, r, TARGET]], columns=df_cols)  \n",
    "  \n",
    "  df = pd.concat([df, tdf], axis=0).reset_index(drop=True)\n",
    "  \n",
    "  clear_output(wait=True)\n",
    "\n",
    "  print(df)\n",
    "\n",
    "  \n",
    "  #if r[0] == 2 \n",
    "  \"\"\"\n",
    "  if r[0] < 0.15:\n",
    "    print(f\"Found it in {i} steps: {guess}\")\n",
    "    break\n",
    "  \"\"\"\n",
    "  if best_guess is None:\n",
    "    best_rating = r[0]\n",
    "    best_guess = guess\n",
    "\n",
    "  if r[0] > best_rating:\n",
    "    best_guess = guess\n",
    "    best_rating = r[0]\n",
    "  s = guess\n",
    "\n",
    "print(f\"I think it is {best_guess} with a rating of {best_rating}\")\n",
    "\n",
    "\n",
    "  \n",
    "\n",
    "\n",
    "  \n",
    "\n"
   ]
  },
  {
   "cell_type": "code",
   "execution_count": 8,
   "metadata": {},
   "outputs": [
    {
     "name": "stdout",
     "output_type": "stream",
     "text": [
      "I think it is \n",
      "[7, 18, 23, 30, 48, 50, 62, 73, 87, 90] with a rating of 3\n",
      "[7, 12, 29, 39, 48, 55, 60, 76, 87, 94]\n"
     ]
    }
   ],
   "source": [
    "print(f\"I think it is \\n{best_guess} with a rating of {best_rating}\")\n",
    "print(TARGET)\n"
   ]
  },
  {
   "cell_type": "code",
   "execution_count": null,
   "metadata": {},
   "outputs": [],
   "source": []
  }
 ],
 "metadata": {
  "kernelspec": {
   "display_name": ".venv",
   "language": "python",
   "name": "python3"
  },
  "language_info": {
   "codemirror_mode": {
    "name": "ipython",
    "version": 3
   },
   "file_extension": ".py",
   "mimetype": "text/x-python",
   "name": "python",
   "nbconvert_exporter": "python",
   "pygments_lexer": "ipython3",
   "version": "3.11.5"
  }
 },
 "nbformat": 4,
 "nbformat_minor": 2
}
