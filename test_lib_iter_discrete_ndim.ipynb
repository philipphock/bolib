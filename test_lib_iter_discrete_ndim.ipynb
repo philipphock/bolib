{
 "cells": [
  {
   "cell_type": "code",
   "execution_count": 1,
   "metadata": {},
   "outputs": [
    {
     "name": "stderr",
     "output_type": "stream",
     "text": [
      "c:\\Users\\phili\\Documents\\workspace\\botorch\\botorch_contrast\\.venv\\Lib\\site-packages\\tqdm\\auto.py:21: TqdmWarning: IProgress not found. Please update jupyter and ipywidgets. See https://ipywidgets.readthedocs.io/en/stable/user_install.html\n",
      "  from .autonotebook import tqdm as notebook_tqdm\n"
     ]
    }
   ],
   "source": [
    "import random\n",
    "from bolib.Bo import Bo\n",
    "from bolib.Dimension import NumericDimension\n",
    "from bolib.ComputeSpace import ComputeSpace\n",
    "from bolib.Normalizer import OptimizeFor\n",
    "import pandas as pd\n",
    "from IPython.display import clear_output\n",
    "import numpy as np"
   ]
  },
  {
   "cell_type": "code",
   "execution_count": 2,
   "metadata": {},
   "outputs": [],
   "source": [
    "blackbox_dims = 10"
   ]
  },
  {
   "cell_type": "code",
   "execution_count": 3,
   "metadata": {},
   "outputs": [
    {
     "data": {
      "text/html": [
       "<div>\n",
       "<style scoped>\n",
       "    .dataframe tbody tr th:only-of-type {\n",
       "        vertical-align: middle;\n",
       "    }\n",
       "\n",
       "    .dataframe tbody tr th {\n",
       "        vertical-align: top;\n",
       "    }\n",
       "\n",
       "    .dataframe thead th {\n",
       "        text-align: right;\n",
       "    }\n",
       "</style>\n",
       "<table border=\"1\" class=\"dataframe\">\n",
       "  <thead>\n",
       "    <tr style=\"text-align: right;\">\n",
       "      <th></th>\n",
       "      <th>guess</th>\n",
       "      <th>rating</th>\n",
       "      <th>target</th>\n",
       "    </tr>\n",
       "  </thead>\n",
       "  <tbody>\n",
       "    <tr>\n",
       "      <th>0</th>\n",
       "      <td>[1, 13, 21, 30, 44, 50, 60, 72, 80, 91]</td>\n",
       "      <td>[0]</td>\n",
       "      <td>[3, 10, 28, 39, 45, 53, 61, 74, 84, 92]</td>\n",
       "    </tr>\n",
       "  </tbody>\n",
       "</table>\n",
       "</div>"
      ],
      "text/plain": [
       "                                     guess rating  \\\n",
       "0  [1, 13, 21, 30, 44, 50, 60, 72, 80, 91]    [0]   \n",
       "\n",
       "                                    target  \n",
       "0  [3, 10, 28, 39, 45, 53, 61, 74, 84, 92]  "
      ]
     },
     "execution_count": 3,
     "metadata": {},
     "output_type": "execute_result"
    }
   ],
   "source": [
    "\n",
    "def getRating(v, target):    \n",
    "    return [sum([1 for i in v if i in target])]\n",
    "    \n",
    "def getSample(TARGET = None):\n",
    "    s = [random.randint(i*10, i*10+9) for i in range(blackbox_dims)]\n",
    "\n",
    "    if TARGET is not None:\n",
    "        \n",
    "        r= getRating(s, TARGET)\n",
    "        return [s, r]\n",
    "    return s\n",
    "\n",
    "\n",
    "TARGET = getSample()\n",
    "\n",
    "s, r = getSample(TARGET)\n",
    "pd.DataFrame([[s, r, TARGET]], columns=[\"guess\", \"rating\", \"target\"])  "
   ]
  },
  {
   "cell_type": "code",
   "execution_count": 4,
   "metadata": {},
   "outputs": [
    {
     "data": {
      "text/plain": [
       "[5, 16, 26, 33, 43, 58, 66, 72, 80, 97]"
      ]
     },
     "execution_count": 4,
     "metadata": {},
     "output_type": "execute_result"
    }
   ],
   "source": [
    "[ [i*10+j for j in range(10)] for i in range(blackbox_dims) ]\n",
    "s = [random.randint(i*10, i*10+9) for i in range(blackbox_dims)]\n",
    "s"
   ]
  },
  {
   "cell_type": "code",
   "execution_count": 5,
   "metadata": {},
   "outputs": [],
   "source": [
    "from bolib.Dimension import DiscreteDimension\n",
    "\n",
    "\n",
    "numerics = [ DiscreteDimension(elements=[i*10+j for j in range(10)]  ,name=f\"p{i}\") for i in range(blackbox_dims) ]\n",
    "ranking = [ NumericDimension(min=0, max=10, name=\"Ranking\", optimize_for=OptimizeFor.MIN) ]\n",
    "\n",
    "\n",
    "\n",
    "def infer(x, y, bo, cs):  \n",
    "  cs.add_values(xs = [x], ys=[y])   \n",
    "\n",
    "  inf = bo.infer()\n",
    "  denorm = cs.denormalize(inf)\n",
    "  return [d.value for d in denorm]\n",
    "\n",
    "\n",
    "\n"
   ]
  },
  {
   "cell_type": "code",
   "execution_count": 6,
   "metadata": {},
   "outputs": [
    {
     "name": "stdout",
     "output_type": "stream",
     "text": [
      "[0, 1, 2, 3, 4, 5, 6, 7, 8, 9]\n",
      "[10, 11, 12, 13, 14, 15, 16, 17, 18, 19]\n",
      "[20, 21, 22, 23, 24, 25, 26, 27, 28, 29]\n",
      "[30, 31, 32, 33, 34, 35, 36, 37, 38, 39]\n",
      "[40, 41, 42, 43, 44, 45, 46, 47, 48, 49]\n",
      "[50, 51, 52, 53, 54, 55, 56, 57, 58, 59]\n",
      "[60, 61, 62, 63, 64, 65, 66, 67, 68, 69]\n",
      "[70, 71, 72, 73, 74, 75, 76, 77, 78, 79]\n",
      "[80, 81, 82, 83, 84, 85, 86, 87, 88, 89]\n",
      "[90, 91, 92, 93, 94, 95, 96, 97, 98, 99]\n"
     ]
    }
   ],
   "source": [
    "for i in numerics:\n",
    "  print(i._elements)"
   ]
  },
  {
   "cell_type": "code",
   "execution_count": 7,
   "metadata": {},
   "outputs": [
    {
     "name": "stdout",
     "output_type": "stream",
     "text": [
      "                                      guess rating  \\\n",
      "0   [5, 16, 26, 33, 43, 58, 66, 72, 80, 97]    [1]   \n",
      "1   [9, 10, 22, 35, 47, 52, 63, 78, 89, 96]    [0]   \n",
      "2   [3, 17, 24, 34, 43, 56, 65, 73, 89, 97]    [1]   \n",
      "3   [4, 17, 25, 33, 43, 57, 66, 72, 84, 97]    [1]   \n",
      "4   [1, 18, 23, 35, 43, 55, 64, 74, 89, 97]    [0]   \n",
      "5   [2, 13, 27, 31, 44, 58, 65, 71, 82, 98]    [0]   \n",
      "6   [7, 14, 22, 36, 42, 56, 61, 71, 83, 91]    [0]   \n",
      "7   [1, 12, 21, 30, 45, 57, 62, 77, 83, 95]    [0]   \n",
      "8   [6, 12, 22, 31, 48, 59, 68, 76, 84, 94]    [0]   \n",
      "9   [6, 12, 21, 31, 42, 58, 69, 74, 81, 93]    [1]   \n",
      "10  [5, 12, 22, 31, 45, 58, 67, 75, 82, 94]    [1]   \n",
      "11  [4, 14, 28, 32, 43, 59, 65, 71, 80, 98]    [0]   \n",
      "12  [9, 15, 22, 38, 41, 51, 61, 70, 84, 96]    [2]   \n",
      "13  [8, 14, 22, 37, 41, 53, 61, 70, 83, 93]    [2]   \n",
      "14  [0, 12, 22, 30, 45, 57, 61, 76, 83, 96]    [1]   \n",
      "15  [7, 12, 21, 31, 40, 58, 69, 73, 80, 92]    [0]   \n",
      "16  [2, 11, 26, 31, 41, 54, 63, 78, 86, 99]    [1]   \n",
      "17  [3, 11, 27, 31, 40, 54, 64, 77, 87, 99]    [0]   \n",
      "18  [1, 12, 28, 38, 44, 50, 62, 79, 83, 90]    [0]   \n",
      "19  [7, 16, 26, 38, 46, 50, 66, 73, 82, 99]    [1]   \n",
      "20  [8, 16, 25, 38, 45, 50, 65, 72, 82, 99]    [0]   \n",
      "21  [5, 13, 25, 39, 43, 56, 64, 74, 87, 98]    [0]   \n",
      "22  [8, 14, 22, 38, 41, 51, 65, 77, 87, 94]    [1]   \n",
      "23  [6, 13, 24, 39, 42, 55, 65, 75, 87, 97]    [1]   \n",
      "24  [2, 12, 27, 38, 43, 50, 63, 79, 84, 91]    [0]   \n",
      "25  [6, 16, 25, 32, 40, 51, 63, 75, 83, 96]    [1]   \n",
      "26  [7, 16, 24, 33, 40, 50, 64, 76, 84, 96]    [0]   \n",
      "27  [4, 12, 21, 35, 49, 58, 66, 71, 81, 90]    [0]   \n",
      "28  [7, 18, 28, 31, 43, 54, 64, 79, 89, 94]    [0]   \n",
      "29  [8, 19, 27, 36, 42, 50, 67, 76, 80, 93]    [0]   \n",
      "30  [7, 14, 27, 33, 40, 56, 67, 75, 82, 94]    [1]   \n",
      "31  [7, 16, 28, 33, 41, 54, 67, 75, 81, 94]    [0]   \n",
      "32  [6, 15, 20, 33, 49, 54, 62, 72, 84, 96]    [0]   \n",
      "33  [5, 10, 28, 36, 43, 57, 62, 71, 82, 95]    [0]   \n",
      "34  [8, 16, 27, 39, 41, 58, 63, 76, 83, 90]    [0]   \n",
      "35  [6, 12, 22, 36, 43, 51, 69, 76, 84, 96]    [0]   \n",
      "36  [1, 13, 29, 38, 42, 57, 63, 70, 83, 96]    [1]   \n",
      "37  [3, 11, 29, 37, 43, 57, 62, 71, 83, 95]    [0]   \n",
      "38  [3, 10, 21, 37, 42, 56, 66, 71, 82, 95]    [0]   \n",
      "39  [5, 19, 23, 35, 45, 53, 65, 79, 89, 97]    [0]   \n",
      "40  [9, 11, 28, 33, 40, 52, 66, 73, 85, 92]    [0]   \n",
      "41  [5, 11, 22, 34, 40, 58, 62, 73, 84, 96]    [0]   \n",
      "42  [3, 16, 25, 30, 46, 51, 69, 70, 87, 93]    [0]   \n",
      "43  [0, 12, 21, 31, 42, 52, 64, 73, 88, 95]    [0]   \n",
      "44  [1, 11, 20, 30, 43, 51, 68, 75, 84, 94]    [1]   \n",
      "45  [1, 11, 20, 31, 43, 51, 67, 74, 86, 94]    [0]   \n",
      "46  [1, 15, 28, 33, 47, 52, 65, 75, 81, 94]    [0]   \n",
      "47  [1, 14, 29, 33, 49, 54, 66, 71, 80, 94]    [2]   \n",
      "48  [1, 15, 28, 33, 48, 53, 66, 73, 81, 94]    [0]   \n",
      "49  [1, 15, 24, 35, 44, 51, 61, 72, 86, 99]    [0]   \n",
      "\n",
      "                                     target  \n",
      "0   [3, 10, 28, 39, 45, 53, 61, 74, 84, 92]  \n",
      "1   [3, 10, 28, 39, 45, 53, 61, 74, 84, 92]  \n",
      "2   [3, 10, 28, 39, 45, 53, 61, 74, 84, 92]  \n",
      "3   [3, 10, 28, 39, 45, 53, 61, 74, 84, 92]  \n",
      "4   [3, 10, 28, 39, 45, 53, 61, 74, 84, 92]  \n",
      "5   [3, 10, 28, 39, 45, 53, 61, 74, 84, 92]  \n",
      "6   [3, 10, 28, 39, 45, 53, 61, 74, 84, 92]  \n",
      "7   [3, 10, 28, 39, 45, 53, 61, 74, 84, 92]  \n",
      "8   [3, 10, 28, 39, 45, 53, 61, 74, 84, 92]  \n",
      "9   [3, 10, 28, 39, 45, 53, 61, 74, 84, 92]  \n",
      "10  [3, 10, 28, 39, 45, 53, 61, 74, 84, 92]  \n",
      "11  [3, 10, 28, 39, 45, 53, 61, 74, 84, 92]  \n",
      "12  [3, 10, 28, 39, 45, 53, 61, 74, 84, 92]  \n",
      "13  [3, 10, 28, 39, 45, 53, 61, 74, 84, 92]  \n",
      "14  [3, 10, 28, 39, 45, 53, 61, 74, 84, 92]  \n",
      "15  [3, 10, 28, 39, 45, 53, 61, 74, 84, 92]  \n",
      "16  [3, 10, 28, 39, 45, 53, 61, 74, 84, 92]  \n",
      "17  [3, 10, 28, 39, 45, 53, 61, 74, 84, 92]  \n",
      "18  [3, 10, 28, 39, 45, 53, 61, 74, 84, 92]  \n",
      "19  [3, 10, 28, 39, 45, 53, 61, 74, 84, 92]  \n",
      "20  [3, 10, 28, 39, 45, 53, 61, 74, 84, 92]  \n",
      "21  [3, 10, 28, 39, 45, 53, 61, 74, 84, 92]  \n",
      "22  [3, 10, 28, 39, 45, 53, 61, 74, 84, 92]  \n",
      "23  [3, 10, 28, 39, 45, 53, 61, 74, 84, 92]  \n",
      "24  [3, 10, 28, 39, 45, 53, 61, 74, 84, 92]  \n",
      "25  [3, 10, 28, 39, 45, 53, 61, 74, 84, 92]  \n",
      "26  [3, 10, 28, 39, 45, 53, 61, 74, 84, 92]  \n",
      "27  [3, 10, 28, 39, 45, 53, 61, 74, 84, 92]  \n",
      "28  [3, 10, 28, 39, 45, 53, 61, 74, 84, 92]  \n",
      "29  [3, 10, 28, 39, 45, 53, 61, 74, 84, 92]  \n",
      "30  [3, 10, 28, 39, 45, 53, 61, 74, 84, 92]  \n",
      "31  [3, 10, 28, 39, 45, 53, 61, 74, 84, 92]  \n",
      "32  [3, 10, 28, 39, 45, 53, 61, 74, 84, 92]  \n",
      "33  [3, 10, 28, 39, 45, 53, 61, 74, 84, 92]  \n",
      "34  [3, 10, 28, 39, 45, 53, 61, 74, 84, 92]  \n",
      "35  [3, 10, 28, 39, 45, 53, 61, 74, 84, 92]  \n",
      "36  [3, 10, 28, 39, 45, 53, 61, 74, 84, 92]  \n",
      "37  [3, 10, 28, 39, 45, 53, 61, 74, 84, 92]  \n",
      "38  [3, 10, 28, 39, 45, 53, 61, 74, 84, 92]  \n",
      "39  [3, 10, 28, 39, 45, 53, 61, 74, 84, 92]  \n",
      "40  [3, 10, 28, 39, 45, 53, 61, 74, 84, 92]  \n",
      "41  [3, 10, 28, 39, 45, 53, 61, 74, 84, 92]  \n",
      "42  [3, 10, 28, 39, 45, 53, 61, 74, 84, 92]  \n",
      "43  [3, 10, 28, 39, 45, 53, 61, 74, 84, 92]  \n",
      "44  [3, 10, 28, 39, 45, 53, 61, 74, 84, 92]  \n",
      "45  [3, 10, 28, 39, 45, 53, 61, 74, 84, 92]  \n",
      "46  [3, 10, 28, 39, 45, 53, 61, 74, 84, 92]  \n",
      "47  [3, 10, 28, 39, 45, 53, 61, 74, 84, 92]  \n",
      "48  [3, 10, 28, 39, 45, 53, 61, 74, 84, 92]  \n",
      "49  [3, 10, 28, 39, 45, 53, 61, 74, 84, 92]  \n",
      "I think it is [8, 14, 22, 37, 41, 53, 61, 70, 83, 93] with a rating of 2\n"
     ]
    }
   ],
   "source": [
    "compSpace = ComputeSpace(numerics, ranking)\n",
    "bo = Bo(compSpace)\n",
    "\n",
    "last_rating = 0\n",
    "last_guess = None\n",
    "best_guess = None\n",
    "best_rating = None\n",
    "print(f\"We are looking for {TARGET}\")\n",
    "\n",
    "df_cols = [\"guess\", \"rating\", \"target\"]\n",
    "df = pd.DataFrame([], columns=df_cols)  \n",
    "\n",
    "for i in range(50):\n",
    "  last_rating = r[0]\n",
    "  last_guess = s\n",
    "  \n",
    "  \n",
    "  guess = infer(s,r, bo, compSpace)  \n",
    "  print(\"guess\", guess)\n",
    "  r = getRating(guess, TARGET)\n",
    "\n",
    "  if r[0] == 0:\n",
    "    guess = getSample()\n",
    "\n",
    "  tdf = pd.DataFrame([[s, r, TARGET]], columns=df_cols)  \n",
    "  \n",
    "  df = pd.concat([df, tdf], axis=0).reset_index(drop=True)\n",
    "  \n",
    "  clear_output(wait=True)\n",
    "\n",
    "  print(df)\n",
    "\n",
    "  \n",
    "  #if r[0] == 2 \n",
    "  \"\"\"\n",
    "  if r[0] < 0.15:\n",
    "    print(f\"Found it in {i} steps: {guess}\")\n",
    "    break\n",
    "  \"\"\"\n",
    "  if best_guess is None:\n",
    "    best_rating = r[0]\n",
    "    best_guess = guess\n",
    "\n",
    "  if r[0] > best_rating:\n",
    "    best_guess = guess\n",
    "    best_rating = r[0]\n",
    "  s = guess\n",
    "\n",
    "print(f\"I think it is {best_guess} with a rating of {best_rating}\")\n",
    "\n",
    "\n",
    "  \n",
    "\n",
    "\n",
    "  \n",
    "\n"
   ]
  },
  {
   "cell_type": "code",
   "execution_count": 11,
   "metadata": {},
   "outputs": [
    {
     "name": "stdout",
     "output_type": "stream",
     "text": [
      "I think it is \n",
      "[8, 14, 22, 37, 41, 53, 61, 70, 83, 93] with a rating of 2\n",
      "[3, 10, 28, 39, 45, 53, 61, 74, 84, 92]\n"
     ]
    }
   ],
   "source": [
    "print(f\"I think it is \\n{best_guess} with a rating of {best_rating}\")\n",
    "print(TARGET)\n"
   ]
  }
 ],
 "metadata": {
  "kernelspec": {
   "display_name": ".venv",
   "language": "python",
   "name": "python3"
  },
  "language_info": {
   "codemirror_mode": {
    "name": "ipython",
    "version": 3
   },
   "file_extension": ".py",
   "mimetype": "text/x-python",
   "name": "python",
   "nbconvert_exporter": "python",
   "pygments_lexer": "ipython3",
   "version": "3.11.5"
  }
 },
 "nbformat": 4,
 "nbformat_minor": 2
}
