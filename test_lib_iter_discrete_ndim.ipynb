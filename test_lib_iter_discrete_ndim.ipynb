{
 "cells": [
  {
   "cell_type": "code",
   "execution_count": 1,
   "metadata": {},
   "outputs": [
    {
     "name": "stderr",
     "output_type": "stream",
     "text": [
      "c:\\Users\\phili\\Documents\\workspace\\botorch\\botorch_contrast\\.venv\\Lib\\site-packages\\tqdm\\auto.py:21: TqdmWarning: IProgress not found. Please update jupyter and ipywidgets. See https://ipywidgets.readthedocs.io/en/stable/user_install.html\n",
      "  from .autonotebook import tqdm as notebook_tqdm\n"
     ]
    }
   ],
   "source": [
    "import random\n",
    "from bolib.Bo import Bo\n",
    "from bolib.Dimension import NumericDimension\n",
    "from bolib.ComputeSpace import ComputeSpace\n",
    "from bolib.Normalizer import OptimizeFor\n",
    "import pandas as pd\n",
    "from IPython.display import clear_output\n",
    "import numpy as np"
   ]
  },
  {
   "cell_type": "code",
   "execution_count": 2,
   "metadata": {},
   "outputs": [],
   "source": [
    "blackbox_dims = 6"
   ]
  },
  {
   "cell_type": "code",
   "execution_count": 3,
   "metadata": {},
   "outputs": [
    {
     "data": {
      "text/html": [
       "<div>\n",
       "<style scoped>\n",
       "    .dataframe tbody tr th:only-of-type {\n",
       "        vertical-align: middle;\n",
       "    }\n",
       "\n",
       "    .dataframe tbody tr th {\n",
       "        vertical-align: top;\n",
       "    }\n",
       "\n",
       "    .dataframe thead th {\n",
       "        text-align: right;\n",
       "    }\n",
       "</style>\n",
       "<table border=\"1\" class=\"dataframe\">\n",
       "  <thead>\n",
       "    <tr style=\"text-align: right;\">\n",
       "      <th></th>\n",
       "      <th>guess</th>\n",
       "      <th>rating</th>\n",
       "      <th>target</th>\n",
       "    </tr>\n",
       "  </thead>\n",
       "  <tbody>\n",
       "    <tr>\n",
       "      <th>0</th>\n",
       "      <td>[98, 88, 82, 91, 19, 4]</td>\n",
       "      <td>[0.47000000000000003]</td>\n",
       "      <td>[31, 64, 33, 56, 4, 96]</td>\n",
       "    </tr>\n",
       "  </tbody>\n",
       "</table>\n",
       "</div>"
      ],
      "text/plain": [
       "                     guess                 rating                   target\n",
       "0  [98, 88, 82, 91, 19, 4]  [0.47000000000000003]  [31, 64, 33, 56, 4, 96]"
      ]
     },
     "execution_count": 3,
     "metadata": {},
     "output_type": "execute_result"
    }
   ],
   "source": [
    "\n",
    "def getRating(v, target):    \n",
    "    diff = abs(np.array(v) - np.array(target))/(100*len(v))    \n",
    "    return [sum(diff.tolist())]\n",
    "\n",
    "def getSample(TARGET = None):\n",
    "    s = [random.randint(0, 100) for _ in range(blackbox_dims)]\n",
    "    if TARGET is not None:\n",
    "        r= getRating(s, TARGET)\n",
    "        return [s, r]\n",
    "    return s\n",
    "\n",
    "\n",
    "TARGET = getSample()\n",
    "\n",
    "s, r = getSample(TARGET)\n",
    "pd.DataFrame([[s, r, TARGET]], columns=[\"guess\", \"rating\", \"target\"])  "
   ]
  },
  {
   "cell_type": "code",
   "execution_count": 4,
   "metadata": {},
   "outputs": [
    {
     "data": {
      "text/plain": [
       "[0.0, 100.0, 100.0, 0.0, 0.0, 100.0]"
      ]
     },
     "execution_count": 4,
     "metadata": {},
     "output_type": "execute_result"
    }
   ],
   "source": [
    "numerics = [ NumericDimension(min=0, max=100, name=f\"p{i}\") for i in range(blackbox_dims) ]\n",
    "ranking = [ NumericDimension(min=0, max=10, name=\"Ranking\", optimize_for=OptimizeFor.MIN) ]\n",
    "\n",
    "compSpace = ComputeSpace(numerics, ranking)\n",
    "\n",
    "\n",
    "bo = Bo(compSpace)\n",
    "\n",
    "\n",
    "def infer(x, y):  \n",
    "  compSpace.add_values(xs = [x], ys=[y])   \n",
    "  inf = bo.infer()\n",
    "  denorm = compSpace.denormalize(inf)\n",
    "  return [d.value for d in denorm]\n",
    "\n",
    "infer(s,r)\n",
    "\n",
    "\n"
   ]
  },
  {
   "cell_type": "code",
   "execution_count": 6,
   "metadata": {},
   "outputs": [
    {
     "name": "stdout",
     "output_type": "stream",
     "text": [
      "                                                guess                  rating  \\\n",
      "0                             [98, 88, 82, 91, 19, 4]    [0.3170258604983489]   \n",
      "1   [0.0, 9.35378447175026, 5.933183431625366, 29....   [0.34630482616523894]   \n",
      "2   [0.0, 0.0, 0.0, 5.420173332095146, 15.12966305...    [0.3967420387764772]   \n",
      "3   [0.0, 0.0, 0.0, 15.490761399269104, 10.0828625...   [0.26130977059404054]   \n",
      "4   [0.0, 15.60262143611908, 9.85119715332985, 38....   [0.21832191313306495]   \n",
      "5   [0.0, 17.255176603794098, 6.865977495908737, 5...    [0.2104971808195114]   \n",
      "6   [0.0, 19.345322251319885, 21.18784487247467, 6...    [0.2011361506084601]   \n",
      "7   [0.0, 35.064512491226196, 9.30984541773796, 69...   [0.23681339363257092]   \n",
      "8   [0.0, 31.22008740901947, 9.01688039302826, 65....   [0.18734449416399002]   \n",
      "9   [9.657441824674606, 28.88655662536621, 11.5263...   [0.21068060884873072]   \n",
      "10  [0.0, 26.23281180858612, 9.35424193739891, 83....   [0.14035168930888176]   \n",
      "11  [7.957477867603302, 35.32930016517639, 18.2151...   [0.10401774247487387]   \n",
      "12  [8.673867583274841, 42.249518632888794, 24.783...    [0.0630861201385657]   \n",
      "13  [12.004288285970688, 55.12852072715759, 34.693...   [0.07081099778413773]   \n",
      "14  [13.453195989131927, 71.97745442390442, 38.986...   [0.07912606984376908]   \n",
      "15  [16.12975150346756, 56.71434998512268, 49.3253...   [0.04626820454994838]   \n",
      "16  [20.82296460866928, 60.429847240448, 32.756400...    [0.0752916078766187]   \n",
      "17  [19.129447638988495, 59.77473855018616, 35.844...  [0.024924638867378238]   \n",
      "18  [28.450950980186462, 63.24787735939026, 30.054...   [0.05141688287258149]   \n",
      "19  [41.7571097612381, 65.99818468093872, 29.57864...   [0.05655496388673782]   \n",
      "\n",
      "                     target  \n",
      "0   [31, 64, 33, 56, 4, 96]  \n",
      "1   [31, 64, 33, 56, 4, 96]  \n",
      "2   [31, 64, 33, 56, 4, 96]  \n",
      "3   [31, 64, 33, 56, 4, 96]  \n",
      "4   [31, 64, 33, 56, 4, 96]  \n",
      "5   [31, 64, 33, 56, 4, 96]  \n",
      "6   [31, 64, 33, 56, 4, 96]  \n",
      "7   [31, 64, 33, 56, 4, 96]  \n",
      "8   [31, 64, 33, 56, 4, 96]  \n",
      "9   [31, 64, 33, 56, 4, 96]  \n",
      "10  [31, 64, 33, 56, 4, 96]  \n",
      "11  [31, 64, 33, 56, 4, 96]  \n",
      "12  [31, 64, 33, 56, 4, 96]  \n",
      "13  [31, 64, 33, 56, 4, 96]  \n",
      "14  [31, 64, 33, 56, 4, 96]  \n",
      "15  [31, 64, 33, 56, 4, 96]  \n",
      "16  [31, 64, 33, 56, 4, 96]  \n",
      "17  [31, 64, 33, 56, 4, 96]  \n",
      "18  [31, 64, 33, 56, 4, 96]  \n",
      "19  [31, 64, 33, 56, 4, 96]  \n",
      "I think it is [28.450950980186462, 63.24787735939026, 30.054402351379395, 56.70801401138306, 0.0, 100.0] with a rating of 0.024924638867378238\n"
     ]
    }
   ],
   "source": [
    "last_rating = 0\n",
    "last_guess = None\n",
    "best_guess = None\n",
    "best_rating = None\n",
    "print(f\"We are looking for {TARGET}\")\n",
    "\n",
    "df_cols = [\"guess\", \"rating\", \"target\"]\n",
    "df = pd.DataFrame([], columns=df_cols)  \n",
    "\n",
    "for i in range(20):\n",
    "  last_rating = r[0]\n",
    "  last_guess = s\n",
    "  \n",
    "  \n",
    "  guess = infer(s,r)  \n",
    "  \n",
    "  r = getRating(guess, TARGET)\n",
    "\n",
    "  tdf = pd.DataFrame([[s, r, TARGET]], columns=df_cols)  \n",
    "  \n",
    "  df = pd.concat([df, tdf], axis=0).reset_index(drop=True)\n",
    "  \n",
    "  clear_output(wait=True)\n",
    "\n",
    "  print(df)\n",
    "\n",
    "  \n",
    "  #if r[0] == 2 \n",
    "  \"\"\"\n",
    "  if r[0] < 0.15:\n",
    "    print(f\"Found it in {i} steps: {guess}\")\n",
    "    break\n",
    "  \"\"\"\n",
    "  if best_guess is None:\n",
    "    best_rating = r[0]\n",
    "    best_guess = guess\n",
    "\n",
    "  if r[0] < best_rating:\n",
    "    best_guess = guess\n",
    "    best_rating = r[0]\n",
    "  s = guess\n",
    "\n",
    "print(f\"I think it is {best_guess} with a rating of {best_rating}\")\n",
    "\n",
    "\n",
    "  \n",
    "\n",
    "\n",
    "  \n",
    "\n"
   ]
  }
 ],
 "metadata": {
  "kernelspec": {
   "display_name": ".venv",
   "language": "python",
   "name": "python3"
  },
  "language_info": {
   "codemirror_mode": {
    "name": "ipython",
    "version": 3
   },
   "file_extension": ".py",
   "mimetype": "text/x-python",
   "name": "python",
   "nbconvert_exporter": "python",
   "pygments_lexer": "ipython3",
   "version": "3.11.5"
  }
 },
 "nbformat": 4,
 "nbformat_minor": 2
}
