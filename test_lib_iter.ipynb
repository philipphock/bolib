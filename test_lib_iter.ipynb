{
 "cells": [
  {
   "cell_type": "code",
   "execution_count": 1,
   "metadata": {},
   "outputs": [
    {
     "name": "stderr",
     "output_type": "stream",
     "text": [
      "c:\\Users\\phili\\Documents\\workspace\\botorch\\botorch_contrast\\.venv\\Lib\\site-packages\\tqdm\\auto.py:21: TqdmWarning: IProgress not found. Please update jupyter and ipywidgets. See https://ipywidgets.readthedocs.io/en/stable/user_install.html\n",
      "  from .autonotebook import tqdm as notebook_tqdm\n"
     ]
    }
   ],
   "source": [
    "import random\n",
    "from bolib.Bo import Bo\n",
    "from bolib.Dimension import NumericDimension\n",
    "from bolib.ComputeSpace import ComputeSpace\n",
    "from bolib.Dimension import DiscreteDimension\n"
   ]
  },
  {
   "cell_type": "code",
   "execution_count": 2,
   "metadata": {},
   "outputs": [
    {
     "data": {
      "text/plain": [
       "['Burger', 'Hotdog']"
      ]
     },
     "execution_count": 2,
     "metadata": {},
     "output_type": "execute_result"
    }
   ],
   "source": [
    "SPACE = ['Pizza', 'Burger', 'Hotdog', 'Fries', 'Tacos']\n",
    "TARGET = [SPACE[1], SPACE[2]]\n",
    "TARGET"
   ]
  },
  {
   "cell_type": "code",
   "execution_count": 3,
   "metadata": {},
   "outputs": [],
   "source": [
    "\n",
    "def infer(x, y):\n",
    "\n",
    "\n",
    "  x0 = DiscreteDimension(elements=SPACE, name=\"Fastfood\")\n",
    "  x1 = DiscreteDimension(elements=SPACE, name=\"Fastfood\")\n",
    "  ranking_y = NumericDimension(min=0, max=2, name=\"Ranking\")\n",
    "\n",
    "  compSpace = ComputeSpace([x0, x1], [ranking_y])\n",
    "\n",
    "  compSpace.add_values(xs = x, ys=y)    \n",
    "  bo = Bo(compSpace)\n",
    "  inf = bo.infer()\n",
    "  denorm = compSpace.denormalize(inf)\n",
    "  return (denorm[0].value, denorm[1].value)\n",
    "  "
   ]
  },
  {
   "cell_type": "code",
   "execution_count": 4,
   "metadata": {},
   "outputs": [
    {
     "data": {
      "text/plain": [
       "(['Pizza', 'Hotdog'], [1])"
      ]
     },
     "execution_count": 4,
     "metadata": {},
     "output_type": "execute_result"
    }
   ],
   "source": [
    "\n",
    "\n",
    "def getRating(v, target):\n",
    "    return [sum([1 if target[0] in v else 0, 1 if target[1] in v else 0])]   \n",
    "\n",
    "def getSample():\n",
    "    return random.sample(SPACE, 2)\n",
    "\n",
    "s = getSample()  \n",
    "r = getRating(s, TARGET)\n",
    "s,r\n"
   ]
  },
  {
   "cell_type": "code",
   "execution_count": 5,
   "metadata": {},
   "outputs": [
    {
     "name": "stdout",
     "output_type": "stream",
     "text": [
      "I guess it's ('Tacos', 'Tacos')\n",
      "Rating: [0]\n",
      "I guess it's ('Tacos', 'Tacos')\n",
      "Rating: [0]\n",
      "I guess it's ('Tacos', 'Tacos')\n",
      "Rating: [0]\n",
      "I guess it's ('Tacos', 'Tacos')\n",
      "Rating: [0]\n",
      "I guess it's ('Tacos', 'Tacos')\n",
      "Rating: [0]\n",
      "I guess it's ('Tacos', 'Tacos')\n",
      "Rating: [0]\n",
      "I guess it's ('Tacos', 'Tacos')\n",
      "Rating: [0]\n",
      "I guess it's ('Tacos', 'Tacos')\n",
      "Rating: [0]\n",
      "I guess it's ('Tacos', 'Tacos')\n",
      "Rating: [0]\n",
      "I guess it's ('Tacos', 'Tacos')\n",
      "Rating: [0]\n"
     ]
    }
   ],
   "source": [
    "for i in range(10):\n",
    "  guess = infer([s],[r])\n",
    "  newguess = [[guess[0], guess[1]]]\n",
    "  r = getRating(newguess, TARGET)\n",
    "  print(f\"I guess it's {guess}\")\n",
    "  print(f\"Rating: {r}\")\n",
    "  \n",
    "  \n",
    "\n"
   ]
  }
 ],
 "metadata": {
  "kernelspec": {
   "display_name": ".venv",
   "language": "python",
   "name": "python3"
  },
  "language_info": {
   "codemirror_mode": {
    "name": "ipython",
    "version": 3
   },
   "file_extension": ".py",
   "mimetype": "text/x-python",
   "name": "python",
   "nbconvert_exporter": "python",
   "pygments_lexer": "ipython3",
   "version": "3.11.5"
  }
 },
 "nbformat": 4,
 "nbformat_minor": 2
}
