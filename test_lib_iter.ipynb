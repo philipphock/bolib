{
 "cells": [
  {
   "cell_type": "code",
   "execution_count": 1,
   "metadata": {},
   "outputs": [
    {
     "name": "stderr",
     "output_type": "stream",
     "text": [
      "c:\\Users\\phili\\Documents\\workspace\\botorch\\botorch_contrast\\.venv\\Lib\\site-packages\\tqdm\\auto.py:21: TqdmWarning: IProgress not found. Please update jupyter and ipywidgets. See https://ipywidgets.readthedocs.io/en/stable/user_install.html\n",
      "  from .autonotebook import tqdm as notebook_tqdm\n"
     ]
    }
   ],
   "source": [
    "import random\n",
    "from bolib.Bo import Bo\n",
    "from bolib.Dimension import NumericDimension\n",
    "from bolib.ComputeSpace import ComputeSpace\n",
    "from bolib.Normalizer import OptimizeFor\n",
    "import pandas as pd\n",
    "from IPython.display import clear_output\n",
    "import numpy as np"
   ]
  },
  {
   "cell_type": "code",
   "execution_count": 2,
   "metadata": {},
   "outputs": [],
   "source": [
    "blackbox_dims = 6"
   ]
  },
  {
   "cell_type": "code",
   "execution_count": 3,
   "metadata": {},
   "outputs": [
    {
     "data": {
      "text/html": [
       "<div>\n",
       "<style scoped>\n",
       "    .dataframe tbody tr th:only-of-type {\n",
       "        vertical-align: middle;\n",
       "    }\n",
       "\n",
       "    .dataframe tbody tr th {\n",
       "        vertical-align: top;\n",
       "    }\n",
       "\n",
       "    .dataframe thead th {\n",
       "        text-align: right;\n",
       "    }\n",
       "</style>\n",
       "<table border=\"1\" class=\"dataframe\">\n",
       "  <thead>\n",
       "    <tr style=\"text-align: right;\">\n",
       "      <th></th>\n",
       "      <th>guess</th>\n",
       "      <th>rating</th>\n",
       "      <th>target</th>\n",
       "    </tr>\n",
       "  </thead>\n",
       "  <tbody>\n",
       "    <tr>\n",
       "      <th>0</th>\n",
       "      <td>[20, 32, 95, 2, 78, 54]</td>\n",
       "      <td>[0.3883333333333333]</td>\n",
       "      <td>[6, 67, 13, 80, 57, 57]</td>\n",
       "    </tr>\n",
       "  </tbody>\n",
       "</table>\n",
       "</div>"
      ],
      "text/plain": [
       "                     guess                rating                   target\n",
       "0  [20, 32, 95, 2, 78, 54]  [0.3883333333333333]  [6, 67, 13, 80, 57, 57]"
      ]
     },
     "execution_count": 3,
     "metadata": {},
     "output_type": "execute_result"
    }
   ],
   "source": [
    "\n",
    "def getRating(v, target):    \n",
    "    diff = abs(np.array(v) - np.array(target))/(100*len(v))    \n",
    "    return [sum(diff.tolist())]\n",
    "\n",
    "def getSample(TARGET = None):\n",
    "    s = [random.randint(0, 100) for _ in range(blackbox_dims)]\n",
    "    if TARGET is not None:\n",
    "        r= getRating(s, TARGET)\n",
    "        return [s, r]\n",
    "    return s\n",
    "\n",
    "\n",
    "TARGET = getSample()\n",
    "\n",
    "s, r = getSample(TARGET)\n",
    "pd.DataFrame([[s, r, TARGET]], columns=[\"guess\", \"rating\", \"target\"])  "
   ]
  },
  {
   "cell_type": "code",
   "execution_count": 4,
   "metadata": {},
   "outputs": [
    {
     "data": {
      "text/plain": [
       "[98.62150549888611,\n",
       " 1.4877875335514545,\n",
       " 9.97752919793129,\n",
       " 79.55995202064514,\n",
       " 6.819385290145874,\n",
       " 2.2475266829133034]"
      ]
     },
     "execution_count": 4,
     "metadata": {},
     "output_type": "execute_result"
    }
   ],
   "source": [
    "numerics = [ NumericDimension(min=0, max=100, name=f\"p{i}\") for i in range(blackbox_dims) ]\n",
    "ranking = [ NumericDimension(min=0, max=10, name=\"Ranking\", optimize_for=OptimizeFor.MIN) ]\n",
    "\n",
    "compSpace = ComputeSpace(numerics, ranking)\n",
    "\n",
    "\n",
    "bo = Bo(compSpace)\n",
    "\n",
    "\n",
    "def infer(x, y):  \n",
    "  compSpace.add_values(xs = [x], ys=[y])   \n",
    "  inf = bo.infer()\n",
    "  denorm = compSpace.denormalize(inf)\n",
    "  return [d.value for d in denorm]\n",
    "\n",
    "infer(s,r)\n",
    "\n",
    "\n"
   ]
  },
  {
   "cell_type": "code",
   "execution_count": 5,
   "metadata": {},
   "outputs": [
    {
     "name": "stdout",
     "output_type": "stream",
     "text": [
      "                                                guess                 rating  \\\n",
      "0                             [20, 32, 95, 2, 78, 54]   [0.3175055990616481]   \n",
      "1   [100.0, 100.0, 7.494154572486877, 85.067492723...  [0.42618901133537296]   \n",
      "2   [100.0, 100.0, 0.0, 100.0, 0.0, 95.71340680122...  [0.27575299580891927]   \n",
      "3   [100.0, 100.0, 11.937671899795532, 76.19284987...  [0.32122557676761065]   \n",
      "4   [100.0, 100.0, 0.007370251842075959, 80.166482...  [0.30229756772518157]   \n",
      "5   [100.0, 100.0, 26.286378502845764, 65.02233147...  [0.31994588454564415]   \n",
      "6   [100.0, 100.0, 21.85235768556595, 75.482583045...  [0.27053198789556826]   \n",
      "7   [100.0, 100.0, 4.408321529626846, 76.496517658...   [0.2518729684750239]   \n",
      "8   [100.0, 100.0, 13.884228467941284, 84.93674397...  [0.23284728507200878]   \n",
      "9   [100.0, 88.13791871070862, 13.074380159378052,...  [0.20982350001732508]   \n",
      "10  [89.39019441604614, 83.00209641456604, 11.7500...  [0.20281779368718464]   \n",
      "11  [85.57426929473877, 77.48303413391113, 11.9149...  [0.16878487393260003]   \n",
      "12  [78.56480479240417, 74.26719069480896, 9.60110...  [0.13239788115024567]   \n",
      "13  [68.62596273422241, 67.3549473285675, 12.99482...  [0.13653440753618873]   \n",
      "14  [56.84903264045715, 59.036487340927124, 14.305...  [0.15775143643220263]   \n",
      "15  [64.45950269699097, 69.49944496154785, 19.1738...  [0.13227932284275692]   \n",
      "16  [66.45808815956116, 55.90447783470154, 13.2442...  [0.12108295808235804]   \n",
      "17  [61.75960302352905, 65.10043144226074, 11.8982...  [0.16922827710707983]   \n",
      "18  [67.00351238250732, 60.850125551223755, 10.095...  [0.10238141482075054]   \n",
      "19  [54.420506954193115, 66.57249331474304, 11.917...  [0.08175116717815398]   \n",
      "\n",
      "                     target  \n",
      "0   [6, 67, 13, 80, 57, 57]  \n",
      "1   [6, 67, 13, 80, 57, 57]  \n",
      "2   [6, 67, 13, 80, 57, 57]  \n",
      "3   [6, 67, 13, 80, 57, 57]  \n",
      "4   [6, 67, 13, 80, 57, 57]  \n",
      "5   [6, 67, 13, 80, 57, 57]  \n",
      "6   [6, 67, 13, 80, 57, 57]  \n",
      "7   [6, 67, 13, 80, 57, 57]  \n",
      "8   [6, 67, 13, 80, 57, 57]  \n",
      "9   [6, 67, 13, 80, 57, 57]  \n",
      "10  [6, 67, 13, 80, 57, 57]  \n",
      "11  [6, 67, 13, 80, 57, 57]  \n",
      "12  [6, 67, 13, 80, 57, 57]  \n",
      "13  [6, 67, 13, 80, 57, 57]  \n",
      "14  [6, 67, 13, 80, 57, 57]  \n",
      "15  [6, 67, 13, 80, 57, 57]  \n",
      "16  [6, 67, 13, 80, 57, 57]  \n",
      "17  [6, 67, 13, 80, 57, 57]  \n",
      "18  [6, 67, 13, 80, 57, 57]  \n",
      "19  [6, 67, 13, 80, 57, 57]  \n",
      "I think it is [49.31081831455231, 68.94735097885132, 12.598812580108643, 79.98426556587219, 55.1800012588501, 55.4443895816803] with a rating of 0.08175116717815398\n"
     ]
    }
   ],
   "source": [
    "last_rating = 0\n",
    "last_guess = None\n",
    "best_guess = None\n",
    "best_rating = None\n",
    "print(f\"We are looking for {TARGET}\")\n",
    "\n",
    "df_cols = [\"guess\", \"rating\", \"target\"]\n",
    "df = pd.DataFrame([], columns=df_cols)  \n",
    "\n",
    "for i in range(20):\n",
    "  last_rating = r[0]\n",
    "  last_guess = s\n",
    "  \n",
    "  \n",
    "  guess = infer(s,r)  \n",
    "  \n",
    "  r = getRating(guess, TARGET)\n",
    "\n",
    "  tdf = pd.DataFrame([[s, r, TARGET]], columns=df_cols)  \n",
    "  \n",
    "  df = pd.concat([df, tdf], axis=0).reset_index(drop=True)\n",
    "  \n",
    "  clear_output(wait=True)\n",
    "\n",
    "  print(df)\n",
    "\n",
    "  \n",
    "  #if r[0] == 2 \n",
    "  \"\"\"\n",
    "  if r[0] < 0.15:\n",
    "    print(f\"Found it in {i} steps: {guess}\")\n",
    "    break\n",
    "  \"\"\"\n",
    "  if best_guess is None:\n",
    "    best_rating = r[0]\n",
    "    best_guess = guess\n",
    "\n",
    "  if r[0] < best_rating:\n",
    "    best_guess = guess\n",
    "    best_rating = r[0]\n",
    "  s = guess\n",
    "\n",
    "print(f\"I think it is {best_guess}\\n with a rating of {best_rating}\")\n",
    "print(TARGET)\n",
    "\n",
    "\n",
    "  \n",
    "\n",
    "\n",
    "  \n",
    "\n"
   ]
  },
  {
   "cell_type": "code",
   "execution_count": 7,
   "metadata": {},
   "outputs": [
    {
     "name": "stdout",
     "output_type": "stream",
     "text": [
      "I think it is \n",
      "[49.31081831455231, 68.94735097885132, 12.598812580108643, 79.98426556587219, 55.1800012588501, 55.4443895816803] with a rating of 0.08175116717815398\n",
      "[6, 67, 13, 80, 57, 57]\n"
     ]
    }
   ],
   "source": [
    "print(f\"I think it is \\n{best_guess} with a rating of {best_rating}\")\n",
    "print(TARGET)\n"
   ]
  }
 ],
 "metadata": {
  "kernelspec": {
   "display_name": ".venv",
   "language": "python",
   "name": "python3"
  },
  "language_info": {
   "codemirror_mode": {
    "name": "ipython",
    "version": 3
   },
   "file_extension": ".py",
   "mimetype": "text/x-python",
   "name": "python",
   "nbconvert_exporter": "python",
   "pygments_lexer": "ipython3",
   "version": "3.11.5"
  }
 },
 "nbformat": 4,
 "nbformat_minor": 2
}
